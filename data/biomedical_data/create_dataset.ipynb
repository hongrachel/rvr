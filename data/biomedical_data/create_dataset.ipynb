{
 "cells": [
  {
   "cell_type": "code",
   "execution_count": 308,
   "metadata": {},
   "outputs": [],
   "source": [
    "import sys\n",
    "import os\n",
    "import csv\n",
    "import numpy as np\n",
    "import random\n",
    "\n",
    "random.seed(0)"
   ]
  },
  {
   "cell_type": "code",
   "execution_count": 309,
   "metadata": {},
   "outputs": [],
   "source": [
    "import torch\n",
    "import torch.nn as nn\n",
    "import torch.nn.functional as F\n",
    "from sklearn.linear_model import LogisticRegression\n",
    "from sklearn.metrics import accuracy_score\n",
    "import matplotlib.pyplot as plt\n",
    "%matplotlib inline"
   ]
  },
  {
   "cell_type": "code",
   "execution_count": 209,
   "metadata": {},
   "outputs": [
    {
     "name": "stdout",
     "output_type": "stream",
     "text": [
      "['E.MTAB.386_eset_clindata.csv', 'E.MTAB.386_eset_exprs.csv', 'GSE12418_eset_clindata.csv', 'GSE12418_eset_exprs.csv', 'GSE12470_eset_clindata.csv', 'GSE12470_eset_exprs.csv', 'GSE13876_eset_clindata.csv', 'GSE13876_eset_exprs.csv', 'GSE14764_eset_clindata.csv', 'GSE14764_eset_exprs.csv', 'GSE17260_eset_clindata.csv', 'GSE17260_eset_exprs.csv', 'GSE18520_eset_clindata.csv', 'GSE18520_eset_exprs.csv', 'GSE19829.GPL570_eset_clindata.csv', 'GSE19829.GPL570_eset_exprs.csv', 'GSE19829.GPL8300_eset_clindata.csv', 'GSE19829.GPL8300_eset_exprs.csv', 'GSE20565_eset_clindata.csv', 'GSE20565_eset_exprs.csv', 'GSE2109_eset_clindata.csv', 'GSE2109_eset_exprs.csv', 'GSE26193_eset_clindata.csv', 'GSE26193_eset_exprs.csv', 'GSE26712_eset_clindata.csv', 'GSE26712_eset_exprs.csv', 'GSE30161_eset_clindata.csv', 'GSE30161_eset_exprs.csv', 'GSE32062.GPL6480_eset_clindata.csv', 'GSE32062.GPL6480_eset_exprs.csv', 'GSE32063_eset_clindata.csv', 'GSE32063_eset_exprs.csv', 'GSE44104_eset_clindata.csv', 'GSE44104_eset_exprs.csv', 'GSE49997_eset_clindata.csv', 'GSE49997_eset_exprs.csv', 'GSE51088_eset_clindata.csv', 'GSE51088_eset_exprs.csv', 'GSE6008_eset_clindata.csv', 'GSE6008_eset_exprs.csv', 'GSE6822_eset_clindata.csv', 'GSE6822_eset_exprs.csv', 'GSE8842_eset_clindata.csv', 'GSE8842_eset_exprs.csv', 'GSE9891_eset_clindata.csv', 'GSE9891_eset_exprs.csv', 'PMID17290060_eset_clindata.csv', 'PMID17290060_eset_exprs.csv', 'TCGA.RNASeqV2_eset_clindata.csv', 'TCGA.RNASeqV2_eset_exprs.csv', 'TCGA_eset_clindata.csv', 'TCGA_eset_exprs.csv']\n"
     ]
    }
   ],
   "source": [
    "folder = \"ovarian_data/\"\n",
    "files = sorted(os.listdir(folder))\n",
    "print(files)"
   ]
  },
  {
   "cell_type": "code",
   "execution_count": 210,
   "metadata": {},
   "outputs": [
    {
     "data": {
      "text/plain": [
       "18"
      ]
     },
     "execution_count": 210,
     "metadata": {},
     "output_type": "execute_result"
    }
   ],
   "source": [
    "valid_files = ['E.MTAB.386_eset_clindata.csv','E.MTAB.386_eset_exprs.csv','GSE13876_eset_clindata.csv',\n",
    "               'GSE13876_eset_exprs.csv','GSE17260_eset_clindata.csv','GSE17260_eset_exprs.csv',\n",
    "               'GSE26712_eset_clindata.csv','GSE26712_eset_exprs.csv', 'GSE9891_eset_clindata.csv',\n",
    "               'GSE9891_eset_exprs.csv', 'TCGA_eset_clindata.csv', 'TCGA_eset_exprs.csv',\n",
    "               'GSE18520_eset_clindata.csv','GSE18520_eset_exprs.csv','GSE19829.GPL8300_eset_clindata.csv',\n",
    "               'GSE19829.GPL8300_eset_exprs.csv','PMID17290060_eset_clindata.csv','PMID17290060_eset_exprs.csv']\n",
    "len(valid_files)"
   ]
  },
  {
   "cell_type": "code",
   "execution_count": 211,
   "metadata": {},
   "outputs": [],
   "source": [
    "# THIS TAKES A WHILE TO RUN\n",
    "# turn csv files into array to store in dictionary\n",
    "\n",
    "expr_datasets = {} # file name -> 2d array row = patient, col = gene\n",
    "pheno_datasets = {} # file name -> 2d array row = patient, col = phenotype\n",
    "\n",
    "for file in files:\n",
    "    if file in valid_files:\n",
    "        dataset = []\n",
    "\n",
    "        with open(folder + file, newline='') as csvfile:\n",
    "            reader = csv.reader(csvfile, delimiter=',', quotechar='\"')\n",
    "            for row in reader:\n",
    "                dataset.append([row[0].upper()] + row[1:])  # turn gene names to upper case\n",
    "\n",
    "        if '_eset_exprs.csv' in file:\n",
    "            dataset = np.transpose(dataset)  # need to flip since csv files have row = gene, col = patient\n",
    "            sorted_dataset = dataset[:,np.argsort(dataset[0])]\n",
    "            expr_datasets[file.replace('_eset_exprs.csv', '')] = sorted_dataset\n",
    "        elif '_eset_clindata.csv' in file:\n",
    "            pheno_datasets[file.replace('_eset_clindata.csv', '')] = np.asarray(dataset)\n",
    "        else:\n",
    "            raise Exception"
   ]
  },
  {
   "cell_type": "code",
   "execution_count": 212,
   "metadata": {},
   "outputs": [
    {
     "name": "stdout",
     "output_type": "stream",
     "text": [
      "9\n",
      "9\n"
     ]
    }
   ],
   "source": [
    "print(len(list(expr_datasets.keys())))\n",
    "print(len(list(pheno_datasets.keys())))"
   ]
  },
  {
   "cell_type": "code",
   "execution_count": 213,
   "metadata": {},
   "outputs": [
    {
     "name": "stdout",
     "output_type": "stream",
     "text": [
      "(130, 10358)\n",
      "(130, 32)\n"
     ]
    }
   ],
   "source": [
    "for key in expr_datasets:\n",
    "    print(expr_datasets[key].shape)\n",
    "    print(pheno_datasets[key].shape)\n",
    "    break"
   ]
  },
  {
   "cell_type": "code",
   "execution_count": 214,
   "metadata": {},
   "outputs": [],
   "source": [
    "def intersect_features(num_studies, expr_datasets):\n",
    "    intersected = []\n",
    "    count = 0\n",
    "    for i, key in enumerate(list(expr_datasets.keys())):\n",
    "        if i >= 0: # not in [1,2,9,10,16,19,20]:\n",
    "            genes = expr_datasets[key][0][1:] # trim first empty string\n",
    "            if len(intersected) == 0:\n",
    "                intersected = genes\n",
    "            else:\n",
    "                intersected = np.intersect1d(intersected, genes)\n",
    "\n",
    "            count += 1\n",
    "            if num_studies and count >= num_studies:\n",
    "                return (intersected)"
   ]
  },
  {
   "cell_type": "code",
   "execution_count": 215,
   "metadata": {},
   "outputs": [
    {
     "data": {
      "text/plain": [
       "6063"
      ]
     },
     "execution_count": 215,
     "metadata": {},
     "output_type": "execute_result"
    }
   ],
   "source": [
    "num_studies = 9 # 15 training + 1 test group of 4 last studies\n",
    "features = intersect_features(num_studies, expr_datasets)\n",
    "len(features)"
   ]
  },
  {
   "cell_type": "code",
   "execution_count": 216,
   "metadata": {},
   "outputs": [
    {
     "name": "stdout",
     "output_type": "stream",
     "text": [
      "(130,)\n",
      "(130, 10358)\n",
      "(130, 32)\n"
     ]
    }
   ],
   "source": [
    "clean_expr_datasets = {} # file name -> 2d array row = patient, col = gene\n",
    "clean_pheno_datasets = {} # file name -> 2d array row = patient, col = phenotype\n",
    "count = 0\n",
    "for key in pheno_datasets:\n",
    "    dataset = pheno_datasets[key]\n",
    "    index = np.argwhere(dataset[0] == \"summarystage\")[0][0]\n",
    "    valid_patient_indices = (dataset[:,index] != \"NA\")\n",
    "    print(valid_patient_indices.shape)\n",
    "    clean_expr_datasets[key] = expr_datasets[key][valid_patient_indices]\n",
    "    print(expr_datasets[key][valid_patient_indices].shape)\n",
    "    clean_pheno_datasets[key] = dataset[valid_patient_indices]\n",
    "    print(dataset[valid_patient_indices].shape)\n",
    "    break"
   ]
  },
  {
   "cell_type": "code",
   "execution_count": 217,
   "metadata": {},
   "outputs": [
    {
     "name": "stdout",
     "output_type": "stream",
     "text": [
      "(130, 6064)\n",
      "(130,)\n",
      "(130, 6064)\n",
      "(130, 32)\n"
     ]
    }
   ],
   "source": [
    "clean_expr_datasets = {} # file name -> 2d array row = patient, col = gene\n",
    "count = 0\n",
    "for key in expr_datasets:\n",
    "    dataset = expr_datasets[key]\n",
    "    feature_col_mask = np.isin(dataset[0],features)\n",
    "    feature_col_mask[0] = True  # include patient names\n",
    "    valid_patient_mask = np.all(dataset[:,feature_col_mask] != \"NA\", axis=1) # make sure gene values exist here\n",
    "    print(dataset[:,feature_col_mask].shape)\n",
    "    print(valid_patient_mask.shape)\n",
    "    print(dataset[:,feature_col_mask][valid_patient_mask].shape)\n",
    "    print(pheno_datasets[key][valid_patient_indices].shape)\n",
    "    break"
   ]
  },
  {
   "cell_type": "code",
   "execution_count": 218,
   "metadata": {},
   "outputs": [],
   "source": [
    "# filter out intersected features for patients w valid feature values (feature name in first value of each row)\n",
    "def filter_datasets_by_features(num_studies, eds, pds):\n",
    "    clean_expr_datasets = {} # file name -> 2d array row = patient, col = gene\n",
    "    clean_pheno_datasets = {} # file name -> 2d array row = patient, col = phenotype\n",
    "    count = 0\n",
    "    for i, key in enumerate(list(eds.keys())):\n",
    "        if i >= 0: # not in [1,2,9,10,16,19,20]:\n",
    "            dataset = eds[key]\n",
    "            feature_col_mask = np.isin(dataset[0],features)\n",
    "            feature_col_mask[0] = True  # include patient names\n",
    "            valid_patient_mask = np.all(dataset[:,feature_col_mask] != \"NA\", axis=1) # make sure gene values exist here\n",
    "            clean_expr_datasets[key] = dataset[:,feature_col_mask][valid_patient_mask]\n",
    "            clean_pheno_datasets[key] = pds[key][valid_patient_mask]\n",
    "\n",
    "            count += 1\n",
    "            if count >= num_studies:\n",
    "                return clean_expr_datasets, clean_pheno_datasets\n",
    "\n",
    "# get rid of patients in eds and pds with null pheno_name\n",
    "def filter_datasets_by_phenotype(num_studies, pheno_name, eds, pds):\n",
    "    clean_expr_datasets = {} # file name -> 2d array row = patient, col = gene\n",
    "    clean_pheno_datasets = {} # file name -> 2d array row = patient, col = phenotype\n",
    "    count = 0\n",
    "    \n",
    "    for key in pds:\n",
    "        dataset = pds[key]\n",
    "        index = np.argwhere(dataset[0] == pheno_name)[0][0]\n",
    "        valid_patient_indices = (dataset[:,index] != \"NA\")\n",
    "        clean_expr_datasets[key] = eds[key][valid_patient_indices]\n",
    "        clean_pheno_datasets[key] = dataset[valid_patient_indices]\n",
    "        \n",
    "        count += 1\n",
    "        if count >= num_studies:\n",
    "            return clean_expr_datasets, clean_pheno_datasets"
   ]
  },
  {
   "cell_type": "code",
   "execution_count": 219,
   "metadata": {},
   "outputs": [],
   "source": [
    "filtered_features_eds, filtered_features_pds = filter_datasets_by_features(num_studies, expr_datasets, pheno_datasets)\n",
    "assert (len(filtered_features_eds) == num_studies)\n",
    "for key in filtered_features_eds:\n",
    "    assert (len(filtered_features_eds[key][0]) == len(features) + 1)"
   ]
  },
  {
   "cell_type": "code",
   "execution_count": 220,
   "metadata": {},
   "outputs": [
    {
     "name": "stdout",
     "output_type": "stream",
     "text": [
      "(130, 32)\n"
     ]
    }
   ],
   "source": [
    "for key in filtered_features_pds:\n",
    "    print(filtered_features_pds[key].shape)\n",
    "    break"
   ]
  },
  {
   "cell_type": "code",
   "execution_count": 221,
   "metadata": {
    "scrolled": false
   },
   "outputs": [
    {
     "name": "stdout",
     "output_type": "stream",
     "text": [
      "E.MTAB.386\n",
      "[False False False  True  True  True  True  True False False  True False\n",
      "  True  True  True False  True  True False  True False False  True False\n",
      "  True  True  True  True  True False  True  True  True  True  True False\n",
      " False False  True  True  True  True False  True False  True  True False\n",
      "  True False False False False False  True  True  True  True  True False\n",
      " False  True  True  True False  True  True False False False False  True\n",
      " False  True False  True  True  True False  True  True  True False  True\n",
      " False False False  True False False False False  True  True  True False\n",
      " False False False False False False False  True  True  True False False\n",
      "  True  True  True  True  True  True False  True  True False False  True\n",
      "  True  True  True  True  True False  True  True False]\n",
      "GSE13876\n",
      "[ True  True False  True  True  True  True  True False  True  True  True\n",
      "  True False  True False  True  True  True False False  True  True  True\n",
      "  True  True  True False False False  True  True  True  True  True  True\n",
      " False  True  True  True  True False False  True  True  True False  True\n",
      "  True  True  True  True  True  True  True  True False  True False False\n",
      " False  True  True False  True  True False  True False  True  True  True\n",
      " False  True  True  True  True  True  True  True  True  True False  True\n",
      "  True False  True  True False  True  True  True False  True  True  True\n",
      " False  True False  True False  True  True  True False  True  True  True\n",
      "  True False  True False  True  True  True False  True  True False  True\n",
      " False  True  True  True  True False  True  True  True False  True False\n",
      "  True  True  True  True  True  True False  True  True False False  True\n",
      "  True  True False  True False False  True  True  True  True False  True\n",
      "  True]\n",
      "GSE17260\n",
      "[False  True False False  True False  True False False  True False False\n",
      "  True  True  True False False False  True  True  True  True  True  True\n",
      " False False False  True False False False  True False False False False\n",
      " False False False False False False False False False False False  True\n",
      "  True  True  True  True  True False  True False False False False  True\n",
      " False False  True  True  True  True  True  True  True  True False False\n",
      "  True  True False False  True False False  True False False False False\n",
      " False  True False False  True False False False False False  True  True\n",
      "  True  True  True False False False  True  True  True  True False False\n",
      " False False]\n",
      "GSE18520\n",
      "[False  True False False  True False  True  True False  True  True  True\n",
      " False  True  True  True  True  True  True  True False False  True  True\n",
      " False  True  True  True  True  True  True  True  True  True  True  True\n",
      "  True  True  True False  True  True False  True  True  True  True  True\n",
      "  True  True  True  True False]\n",
      "GSE19829.GPL8300\n",
      "[ True False False  True  True False  True  True  True  True  True False\n",
      "  True False  True False False  True False  True False  True False False\n",
      " False False  True  True  True  True False  True False  True False  True\n",
      " False False  True  True  True False]\n",
      "GSE26712\n",
      "[False False False  True False  True False  True False False False  True\n",
      " False  True False False False False  True  True  True  True False  True\n",
      " False  True False  True False  True  True False False False False False\n",
      "  True False False  True False  True False False  True False  True  True\n",
      "  True  True  True  True  True  True  True  True  True False  True  True\n",
      "  True False  True  True  True False  True  True  True  True  True  True\n",
      "  True  True  True  True  True  True  True  True  True  True  True  True\n",
      "  True  True  True  True  True  True  True False  True  True  True  True\n",
      "  True  True  True  True  True  True False  True  True False  True  True\n",
      "  True  True  True  True  True False  True False  True  True  True  True\n",
      "  True  True  True False False False  True  True  True  True False  True\n",
      "  True  True  True  True  True  True False  True  True  True  True False\n",
      " False  True  True  True  True  True  True  True  True  True  True  True\n",
      "  True  True False  True  True  True False  True  True  True  True False\n",
      "  True False  True  True False False False  True False  True  True False\n",
      " False False False False  True]\n",
      "GSE9891\n",
      "[False False False False False False False False False False False False\n",
      " False False False False False False  True False False  True  True  True\n",
      "  True  True  True  True  True  True  True  True  True  True  True  True\n",
      "  True  True  True False False False False  True False False False False\n",
      " False False False False  True  True False  True  True  True False False\n",
      "  True False False False False False False  True False False False  True\n",
      " False False False False False False False False  True False  True False\n",
      " False  True  True False  True  True  True  True False False False False\n",
      "  True False False  True  True  True  True  True  True False  True False\n",
      " False False False  True False  True False False False False  True  True\n",
      " False  True  True  True  True  True False  True  True  True  True  True\n",
      "  True  True  True False  True  True False  True False False  True  True\n",
      "  True False  True  True  True False  True  True False False False False\n",
      "  True False False  True False False False  True False False  True False\n",
      " False False False  True  True False  True False False False False False\n",
      " False False False False False False  True  True  True  True  True False\n",
      " False False  True False False  True False False False False  True  True\n",
      "  True False False False  True False  True False  True False  True False\n",
      "  True False False False False False False  True False  True  True False\n",
      " False  True False False False False False False False False  True False\n",
      " False False False False False False  True False False False False  True\n",
      "  True  True False False False False False  True False False  True  True\n",
      "  True False  True False False False False False False False  True False\n",
      "  True  True False  True False  True]\n",
      "PMID17290060\n",
      "[False False  True  True  True  True False  True False False  True  True\n",
      "  True  True  True  True  True  True  True False False  True  True  True\n",
      " False  True  True  True  True  True  True  True False False  True  True\n",
      "  True  True  True False False False  True  True  True  True  True  True\n",
      "  True  True  True  True  True False  True  True False  True  True  True\n",
      "  True  True False  True False  True False False  True  True False False\n",
      "  True False  True  True  True False False False False False False False\n",
      "  True  True  True False False  True False False  True  True False False\n",
      " False False False  True  True False False False False False False False\n",
      " False False  True  True False  True False False  True]\n",
      "TCGA\n",
      "[ True  True  True  True  True  True False  True False False False  True\n",
      "  True False False False False  True  True False False  True  True  True\n",
      "  True False  True  True False  True False  True  True False False  True\n",
      "  True  True  True False  True  True False  True False False False  True\n",
      "  True  True False  True  True False  True  True False  True  True  True\n",
      "  True  True  True  True  True  True  True  True  True  True  True  True\n",
      " False False  True  True False False  True  True False False  True  True\n",
      " False  True  True  True False False  True  True False  True  True  True\n",
      " False False  True  True False False False False  True  True  True False\n",
      "  True False  True  True  True  True False  True  True  True  True False\n",
      " False  True  True  True False False False  True  True False  True False\n",
      " False  True  True False  True False  True  True False False False False\n",
      "  True  True  True False False False False False False  True  True  True\n",
      "  True False  True  True  True  True  True  True  True  True  True  True\n",
      " False  True  True  True  True  True False False  True  True False  True\n",
      " False False  True  True False  True False  True  True False False False\n",
      "  True  True  True False False  True  True False False  True  True False\n",
      "  True False False False  True  True False False False  True  True False\n",
      " False False  True  True False  True  True False  True False  True False\n",
      " False False  True False False False  True  True  True False False  True\n",
      "  True False False  True  True  True False False  True  True  True  True\n",
      " False  True False  True  True  True False False  True  True  True  True\n",
      " False  True  True  True  True False  True  True  True  True False False\n",
      "  True  True  True  True False False  True  True  True  True False False\n",
      "  True  True  True  True  True  True False  True  True  True  True  True\n",
      "  True  True False False  True  True  True False  True  True  True  True\n",
      "  True False  True  True False  True False  True False False  True  True\n",
      " False  True  True  True False  True False  True False False  True False\n",
      "  True False False  True False False False False False False False False\n",
      " False  True False False False False False False False False False False\n",
      " False False False False False  True  True  True False False False False\n",
      " False False False  True  True  True  True False  True  True  True False\n",
      " False False False  True  True False  True False  True  True  True False\n",
      " False False  True  True False False False False  True False False  True\n",
      " False False  True  True  True False False  True False False  True False\n",
      " False  True  True False  True  True  True False False  True  True  True\n",
      "  True False False False  True False  True False False False False False\n",
      " False False False False  True False False False False False  True  True\n",
      " False False  True False  True False False False False False  True False\n",
      " False False False  True False False False  True  True False False False\n",
      "  True False False  True  True False False  True  True  True False False\n",
      "  True  True False False False  True False False False False  True False\n",
      " False  True  True False False False  True False False False False False\n",
      "  True  True  True False False  True  True  True False False False  True\n",
      "  True  True False False  True  True False False False False  True  True\n",
      "  True  True False False  True  True False False False False  True  True\n",
      " False False  True  True  True  True False False]\n",
      "0.5474006116207951\n"
     ]
    }
   ],
   "source": [
    "# find a good phenotype\n",
    "\n",
    "pheno_try = 'vital_status'\n",
    "pheno_pos = 'deceased'\n",
    "num_pos = 0\n",
    "num_total = 0\n",
    "for key in filtered_features_pds:\n",
    "    print(key)\n",
    "    dataset = filtered_features_pds[key]\n",
    "    index = np.argwhere(dataset[0] == pheno_try)[0][0]\n",
    "    valid_patient_indices = (dataset[:,index] != \"NA\")\n",
    "    labels = dataset[valid_patient_indices][:,index][1:] == pheno_pos # .astype(float) > pheno_pos\n",
    "    num_total += len(labels)\n",
    "    num_pos += np.count_nonzero(labels)\n",
    "    print(labels)\n",
    "print(num_pos * 1.0 / num_total)"
   ]
  },
  {
   "cell_type": "code",
   "execution_count": 222,
   "metadata": {},
   "outputs": [],
   "source": [
    "# set phenotype here:\n",
    "pheno_name = 'vital_status'\n",
    "pheno_pos = 'deceased'\n",
    "\n",
    "clean_expr_datasets, clean_pheno_datasets = filter_datasets_by_phenotype(\n",
    "    num_studies, pheno_name, filtered_features_eds, filtered_features_pds\n",
    ")\n",
    "# assert (len(filtered_pheno_eds) == len(filtered_pheno_pds))\n",
    "# for key in filtered_pheno_eds:\n",
    "#     assert (len(filtered_pheno_eds[key]) == len(filtered_pheno_pds[key]))"
   ]
  },
  {
   "cell_type": "code",
   "execution_count": 52,
   "metadata": {},
   "outputs": [],
   "source": [
    "# def clean_datasets(n, pheno, eds, pds):\n",
    "#     clean_eds, clean_pds = filter_datasets_by_features(n, eds, pds)\n",
    "#     return filter_datasets_by_phenotype(n, pheno, clean_eds, clean_pds)    "
   ]
  },
  {
   "cell_type": "code",
   "execution_count": 53,
   "metadata": {},
   "outputs": [],
   "source": [
    "# # set phenotype here:\n",
    "# pheno_name = 'summarystage'\n",
    "\n",
    "# clean_expr_datasets, clean_pheno_datasets = clean_datasets(num_studies, pheno_name, expr_datasets, pheno_datasets)"
   ]
  },
  {
   "cell_type": "code",
   "execution_count": 223,
   "metadata": {},
   "outputs": [],
   "source": [
    "# make sure dimensions are right\n",
    "\n",
    "assert (len(clean_expr_datasets) == num_studies)\n",
    "assert (len(clean_pheno_datasets) == num_studies)\n",
    "\n",
    "for key in clean_expr_datasets:\n",
    "    assert( len(clean_expr_datasets[key][0]) == len( features) + 1 ) # plus 1 for the patient identifiers\n",
    "    try:\n",
    "        assert ((clean_expr_datasets[key][0][1:] == list(features)).all())  # make sure order is correct\n",
    "    except AssertionError:\n",
    "        e = (clean_expr_datasets[key][0][1:])\n",
    "        for i in range(len(e)):\n",
    "            if e[i] != features[i]:\n",
    "                print (e[i])\n",
    "                print(features[i])\n",
    "        raise Exception\n",
    "    assert (len(clean_expr_datasets[key]) == len(clean_pheno_datasets[key])) # make sure same num patients"
   ]
  },
  {
   "cell_type": "code",
   "execution_count": 224,
   "metadata": {},
   "outputs": [],
   "source": [
    "num_train_studies = 6  # rest are test studies\n",
    "test_studies = ['GSE18520','GSE19829.GPL8300','PMID17290060']"
   ]
  },
  {
   "cell_type": "code",
   "execution_count": 225,
   "metadata": {},
   "outputs": [
    {
     "name": "stdout",
     "output_type": "stream",
     "text": [
      "test GSE18520\n",
      "test GSE19829.GPL8300\n",
      "test PMID17290060\n",
      "1635\n",
      "1423\n",
      "212\n",
      "110\n"
     ]
    }
   ],
   "source": [
    "# X, Y, A\n",
    "# each patient has gene expression x from study ID a with phenotype label y (let's do summarystage?)\n",
    "\n",
    "# X_test, Y_test, A_test (15th study = test?)\n",
    "\n",
    "# count stuff\n",
    "total_num = 0  # total number of samples\n",
    "train_num = 0\n",
    "test_num = 0\n",
    "count = 0\n",
    "train_study_nums = {} # key -> number of samples\n",
    "for key in clean_expr_datasets:\n",
    "    num_samples = len(clean_expr_datasets[key]) - 1 # ignore gene name column\n",
    "    assert (num_samples == len(clean_pheno_datasets[key]) - 1)\n",
    "    total_num += num_samples\n",
    "    \n",
    "    if key not in test_studies: # count < num_train_studies: #\n",
    "#         print(\"train\", key)\n",
    "        train_study_nums[key] = (num_samples)\n",
    "        train_num += num_samples\n",
    "    else:\n",
    "        print(\"test\", key)\n",
    "        test_num += num_samples\n",
    "    count += 1\n",
    "print(total_num)\n",
    "print(train_num)\n",
    "print(test_num)\n",
    "print(min(train_study_nums.values()))"
   ]
  },
  {
   "cell_type": "code",
   "execution_count": 226,
   "metadata": {},
   "outputs": [
    {
     "name": "stdout",
     "output_type": "stream",
     "text": [
      "129\n",
      "157\n",
      "110\n",
      "185\n",
      "282\n",
      "560\n"
     ]
    }
   ],
   "source": [
    "sample_size = min(train_study_nums.values())\n",
    "sampled_inds = {} # key -> sampled indices of len sample_size\n",
    "for key in train_study_nums:\n",
    "    n = train_study_nums[key]\n",
    "    sampled_inds[key] = random.sample(range(n), n) # sample_size)\n",
    "    print(len(sampled_inds[key]))\n",
    "# print(sample_size)"
   ]
  },
  {
   "cell_type": "code",
   "execution_count": 227,
   "metadata": {},
   "outputs": [
    {
     "name": "stdout",
     "output_type": "stream",
     "text": [
      "E.MTAB.386\n",
      "GSE13876\n",
      "GSE17260\n",
      "GSE18520\n",
      "GSE19829.GPL8300\n",
      "GSE26712\n",
      "GSE9891\n",
      "PMID17290060\n",
      "TCGA\n",
      "764.0\n",
      "131.0\n",
      "(1423, 2)\n",
      "(212, 2)\n"
     ]
    }
   ],
   "source": [
    "# create y label (y_train and y_test)\n",
    "count = 0\n",
    "y_train = np.asarray([])\n",
    "y_test = np.asarray([])\n",
    "for key in clean_pheno_datasets:\n",
    "    print(key)\n",
    "    dataset = clean_pheno_datasets[key]\n",
    "    index = np.argwhere(dataset[0] == pheno_name)[0][0]\n",
    "    labels = dataset[:,index][1:] == pheno_pos\n",
    "    assert len(labels) == len(clean_expr_datasets[key]) - 1\n",
    "    \n",
    "    if key not in test_studies: # count < num_train_studies:\n",
    "        labels = labels[sampled_inds[key]]\n",
    "        y_train = np.concatenate((y_train, labels.astype(float)))\n",
    "    else:\n",
    "        y_test = np.concatenate((y_test, labels.astype(float)))\n",
    "    count += 1\n",
    "\n",
    "y_train = np.expand_dims(y_train, 1)\n",
    "print(np.sum(y_train))\n",
    "y_train_expand = np.concatenate((1 - y_train, y_train), axis=1)\n",
    "y_test = np.expand_dims(y_test, 1)\n",
    "print(np.sum(y_test))\n",
    "y_test_expand = np.concatenate((1 - y_test, y_test), axis=1)\n",
    "print(y_train_expand.shape)\n",
    "print(y_test_expand.shape)"
   ]
  },
  {
   "cell_type": "code",
   "execution_count": 228,
   "metadata": {},
   "outputs": [
    {
     "name": "stdout",
     "output_type": "stream",
     "text": [
      "E.MTAB.386\n",
      "GSE13876\n",
      "GSE17260\n",
      "GSE18520\n",
      "GSE19829.GPL8300\n",
      "GSE26712\n",
      "GSE9891\n",
      "PMID17290060\n",
      "TCGA\n",
      "(1423, 6063)\n",
      "(212, 6063)\n"
     ]
    }
   ],
   "source": [
    "# create x label (x_train and x_test)\n",
    "count = 0\n",
    "x_train = None\n",
    "x_test = None\n",
    "for key in clean_expr_datasets:\n",
    "    print(key)\n",
    "    dataset = clean_expr_datasets[key]\n",
    "    x_study = dataset[1:,1:].astype(float) # get rid of gene names and patient names\n",
    "\n",
    "    if key not in test_studies: # count < num_train_studies:\n",
    "        x_study = x_study[sampled_inds[key]]\n",
    "        if x_train is None:\n",
    "            x_train = x_study\n",
    "        else:\n",
    "            x_train = np.concatenate((x_train, x_study.astype(float)), axis=0)\n",
    "    else:\n",
    "        if x_test is None:\n",
    "            x_test = x_study\n",
    "        else:\n",
    "            x_test = np.concatenate((x_test, x_study.astype(float)), axis=0)\n",
    "    count += 1\n",
    "\n",
    "from sklearn.preprocessing import StandardScaler  \n",
    "scaler = StandardScaler()  \n",
    "# fit only on training data\n",
    "scaler.fit(x_train)  \n",
    "x_train = scaler.transform(x_train)  \n",
    "# apply same transformation to test data\n",
    "x_test = scaler.transform(x_test) \n",
    "print(x_train.shape)\n",
    "print(x_test.shape)"
   ]
  },
  {
   "cell_type": "code",
   "execution_count": 229,
   "metadata": {},
   "outputs": [
    {
     "name": "stdout",
     "output_type": "stream",
     "text": [
      "<class 'numpy.float64'>\n"
     ]
    }
   ],
   "source": [
    "print(type(x_train[128][0]))"
   ]
  },
  {
   "cell_type": "code",
   "execution_count": 230,
   "metadata": {},
   "outputs": [
    {
     "data": {
      "text/plain": [
       "[array([1., 0., 0., 0., 0., 0., 0.]),\n",
       " array([0., 1., 0., 0., 0., 0., 0.]),\n",
       " array([0., 0., 1., 0., 0., 0., 0.]),\n",
       " array([0., 0., 0., 1., 0., 0., 0.]),\n",
       " array([0., 0., 0., 0., 1., 0., 0.]),\n",
       " array([0., 0., 0., 0., 0., 1., 0.]),\n",
       " array([0., 0., 0., 0., 0., 0., 1.])]"
      ]
     },
     "execution_count": 230,
     "metadata": {},
     "output_type": "execute_result"
    }
   ],
   "source": [
    "# create study_id arrays\n",
    "study_ids = []\n",
    "dim = num_train_studies+1\n",
    "for i in range(dim):\n",
    "    study_id = np.zeros(dim)\n",
    "    study_id[i] = 1\n",
    "    study_ids.append(study_id)\n",
    "study_ids"
   ]
  },
  {
   "cell_type": "code",
   "execution_count": 231,
   "metadata": {},
   "outputs": [
    {
     "name": "stdout",
     "output_type": "stream",
     "text": [
      "(7,)\n",
      "(129, 7)\n"
     ]
    }
   ],
   "source": [
    "study_index = 0\n",
    "\n",
    "for key in clean_expr_datasets:\n",
    "    dataset = clean_expr_datasets[key]  # row = gene, col = patient\n",
    "    study_id = study_ids[study_index]\n",
    "    print(study_id.shape)\n",
    "    num_samples = len(dataset[1:])\n",
    "    dup_study_ids = np.tile(study_id, (num_samples,1))\n",
    "    print(dup_study_ids.shape)\n",
    "    study_index += 1\n",
    "    break"
   ]
  },
  {
   "cell_type": "code",
   "execution_count": 238,
   "metadata": {},
   "outputs": [
    {
     "name": "stdout",
     "output_type": "stream",
     "text": [
      "(1423, 7)\n",
      "(212, 7)\n"
     ]
    }
   ],
   "source": [
    "study_index = 0\n",
    "attr_train = None\n",
    "attr_test = None\n",
    "for key in clean_expr_datasets:\n",
    "    dataset = clean_expr_datasets[key]  # row = gene, col = patient\n",
    "    num_samples = len(dataset[1:])\n",
    "\n",
    "    if key not in test_studies: # study_index < num_train_studies: # \n",
    "        study_id = study_ids[study_index]\n",
    "        dup_study_ids = np.tile(study_id, (num_samples,1))\n",
    "        if attr_train is None:\n",
    "            attr_train = dup_study_ids\n",
    "        else:\n",
    "            attr_train = np.concatenate((attr_train, dup_study_ids), axis=0)  \n",
    "        study_index += 1\n",
    "    else:\n",
    "        study_id = study_ids[-1]\n",
    "        dup_study_ids = np.tile(study_id, (num_samples,1))\n",
    "        if attr_test is None:\n",
    "            attr_test = dup_study_ids\n",
    "        else:\n",
    "            attr_test = np.concatenate((attr_test, dup_study_ids), axis=0)\n",
    "\n",
    "print(attr_train.shape)\n",
    "print(attr_test.shape)"
   ]
  },
  {
   "cell_type": "code",
   "execution_count": 239,
   "metadata": {},
   "outputs": [
    {
     "name": "stdout",
     "output_type": "stream",
     "text": [
      "[ 0.66805112 -0.03975443 -0.07168165 ... -0.5260554  -0.01737357\n",
      "  0.80217536]\n",
      "(6063,)\n",
      "[1. 0.]\n",
      "[1. 0. 0. 0. 0. 0. 0.]\n"
     ]
    }
   ],
   "source": [
    "print(x_train[0])\n",
    "print(x_train[0].shape)\n",
    "print(y_train_expand[0])\n",
    "print(attr_train[0])"
   ]
  },
  {
   "cell_type": "code",
   "execution_count": 240,
   "metadata": {},
   "outputs": [
    {
     "name": "stdout",
     "output_type": "stream",
     "text": [
      "1138 285\n"
     ]
    }
   ],
   "source": [
    "t = x_train.shape[0]\n",
    "inds_shuffled = np.random.permutation(t)\n",
    "train_inds = inds_shuffled[:int(.8 * t)]\n",
    "valid_inds = inds_shuffled[int(.8 * t):]\n",
    "print(len(train_inds), len(valid_inds))"
   ]
  },
  {
   "cell_type": "code",
   "execution_count": 241,
   "metadata": {},
   "outputs": [
    {
     "name": "stdout",
     "output_type": "stream",
     "text": [
      "(212, 2)\n",
      "[1. 0.]\n"
     ]
    }
   ],
   "source": [
    "print(y_test_expand.shape)\n",
    "print(y_test_expand[0])"
   ]
  },
  {
   "cell_type": "code",
   "execution_count": 242,
   "metadata": {},
   "outputs": [],
   "source": [
    "save_file = 'ovarian_6_studies_3_test_6063_features_all_samples_030921_standard.npz'\n",
    "np.savez(save_file, \n",
    "         x_train = x_train, \n",
    "         x_test = x_test, \n",
    "         y_train = y_train_expand, \n",
    "         y_test = y_test_expand, \n",
    "         attr_train = attr_train,\n",
    "         attr_test = attr_test,\n",
    "         train_inds = train_inds,\n",
    "         valid_inds = valid_inds,\n",
    "         num_train_studies = num_train_studies,\n",
    "         num_test_studies = num_studies - num_train_studies\n",
    "        )"
   ]
  },
  {
   "cell_type": "markdown",
   "metadata": {},
   "source": [
    "## Check files"
   ]
  },
  {
   "cell_type": "code",
   "execution_count": 247,
   "metadata": {},
   "outputs": [],
   "source": [
    "# bio_infile = 'ovarian_6_studies_3_test_6063_features_all_samples_030921_standard.npz'\n",
    "bio_infile = \"ovarian_6_studies_3_test_6063_features_110_sample_size_020221_standard.npz\"\n",
    "data = np.load(bio_infile)\n",
    "\n",
    "x_train = data['x_train'][data['train_inds']]\n",
    "y_train = data['y_train'][data['train_inds']]\n",
    "attr_train = data['attr_train'][data['train_inds']]\n",
    "\n",
    "x_valid = data['x_train'][data['valid_inds']]\n",
    "y_valid = data['y_train'][data['valid_inds']]\n",
    "attr_valid = data['attr_train'][data['valid_inds']]\n",
    "\n",
    "x_test = data['x_test']\n",
    "y_test = data['y_test']\n",
    "attr_test = data['attr_test']"
   ]
  },
  {
   "cell_type": "code",
   "execution_count": 248,
   "metadata": {},
   "outputs": [
    {
     "data": {
      "text/plain": [
       "(528, 6063)"
      ]
     },
     "execution_count": 248,
     "metadata": {},
     "output_type": "execute_result"
    }
   ],
   "source": [
    "x_train.shape"
   ]
  },
  {
   "cell_type": "code",
   "execution_count": 249,
   "metadata": {},
   "outputs": [
    {
     "data": {
      "text/plain": [
       "(132, 6063)"
      ]
     },
     "execution_count": 249,
     "metadata": {},
     "output_type": "execute_result"
    }
   ],
   "source": [
    "x_valid.shape"
   ]
  },
  {
   "cell_type": "code",
   "execution_count": 250,
   "metadata": {},
   "outputs": [
    {
     "data": {
      "text/plain": [
       "(212, 6063)"
      ]
     },
     "execution_count": 250,
     "metadata": {},
     "output_type": "execute_result"
    }
   ],
   "source": [
    "x_test.shape"
   ]
  },
  {
   "cell_type": "code",
   "execution_count": 251,
   "metadata": {},
   "outputs": [
    {
     "data": {
      "text/plain": [
       "-0.12491268952973736"
      ]
     },
     "execution_count": 251,
     "metadata": {},
     "output_type": "execute_result"
    }
   ],
   "source": [
    "np.average(x_test[:,9])"
   ]
  },
  {
   "cell_type": "code",
   "execution_count": 252,
   "metadata": {},
   "outputs": [
    {
     "data": {
      "text/plain": [
       "0.5696969696969697"
      ]
     },
     "execution_count": 252,
     "metadata": {},
     "output_type": "execute_result"
    }
   ],
   "source": [
    "num_pos = np.sum(y_train[:,1])+np.sum(y_valid[:,1])\n",
    "total = y_train.shape[0] + y_valid.shape[0]\n",
    "num_pos/total"
   ]
  },
  {
   "cell_type": "code",
   "execution_count": 253,
   "metadata": {},
   "outputs": [],
   "source": [
    "# k = 3\n",
    "# num_samples = 1\n",
    "# nk = np.ones(k)*5000*num_samples\n",
    "# ind = np.repeat(0, nk[0])\n",
    "# for i in range(1, k-1):\n",
    "#     ind = np.concatenate((ind, np.repeat(i, nk[i])), axis=0)\n",
    "# attr_train = np.zeros((ind.size, ind.max()+1))\n",
    "# attr_train[np.arange(ind.size), ind] = 1\n",
    "# attr_test = np.concatenate( (np.ones((int(nk[-1]), 1)), np.zeros((int(nk[-1]), k-2))), axis=1)\n",
    "# print(attr_test.shape)\n",
    "# print(attr_train[0])"
   ]
  },
  {
   "cell_type": "markdown",
   "metadata": {},
   "source": [
    "# Mixup"
   ]
  },
  {
   "cell_type": "code",
   "execution_count": 254,
   "metadata": {},
   "outputs": [],
   "source": [
    "def mixup_data_old(x, y, alpha=1.0):\n",
    "    '''\n",
    "    Returns mixed inputs, pairs of targets, and lambda\n",
    "    Code from https://github.com/facebookresearch/mixup-cifar10\n",
    "    '''\n",
    "    if alpha > 0:\n",
    "        lam = np.random.beta(alpha, alpha)\n",
    "    else:\n",
    "        lam = 1.\n",
    "\n",
    "    batch_size = x.shape[0]\n",
    "    index = np.random.permutation(batch_size)\n",
    "\n",
    "    mixed_x = lam * x + (1. - lam) * x[index]\n",
    "    mixed_y = lam * y + (1. - lam) * y[index]\n",
    "    return mixed_x, mixed_y, lam"
   ]
  },
  {
   "cell_type": "code",
   "execution_count": 263,
   "metadata": {},
   "outputs": [],
   "source": [
    "def mixup_data(x, y, alpha=1.0):\n",
    "    '''\n",
    "    Returns mixed inputs, pairs of targets, and lambda\n",
    "    Code from https://github.com/facebookresearch/mixup-cifar10\n",
    "    '''\n",
    "    if alpha > 0:\n",
    "        lam = np.random.beta(alpha, alpha)\n",
    "    else:\n",
    "        lam = 1.\n",
    "\n",
    "    n = x.shape[0]\n",
    "    batch_size = n * n\n",
    "    mixed_x = np.zeros((batch_size, x.shape[1]))\n",
    "    mixed_y = np.zeros((batch_size, y.shape[1]))\n",
    "\n",
    "    for i in range(n):\n",
    "        for j in range(n):\n",
    "            mixed_x[n*i + j] = lam * x[i] + (1. - lam) * x[j]\n",
    "            mixed_y[n*i + j] = lam * y[i] + (1. - lam) * y[j]\n",
    "\n",
    "    return mixed_x, mixed_y, lam"
   ]
  },
  {
   "cell_type": "code",
   "execution_count": 264,
   "metadata": {},
   "outputs": [
    {
     "name": "stdout",
     "output_type": "stream",
     "text": [
      "(278784, 6063)\n",
      "(278784, 2)\n"
     ]
    }
   ],
   "source": [
    "# test_x, test_y, lam = mixup_data(x_train, y_train)\n",
    "# print(test_x.shape)\n",
    "# print(test_y.shape)\n",
    "# print(lam)"
   ]
  },
  {
   "cell_type": "code",
   "execution_count": 83,
   "metadata": {},
   "outputs": [],
   "source": [
    "def mixup_data_with_a(x, y, a, alpha=1.0):\n",
    "    '''\n",
    "    Returns mixed inputs, pairs of targets, and lambda\n",
    "    Code from https://github.com/facebookresearch/mixup-cifar10\n",
    "    '''\n",
    "    if alpha > 0:\n",
    "        lam = np.random.beta(alpha, alpha)\n",
    "    else:\n",
    "        lam = 1.\n",
    "\n",
    "    batch_size = x.shape[0]\n",
    "    index = np.random.permutation(batch_size)\n",
    "\n",
    "    mixed_x = lam * x + (1. - lam) * x[index]\n",
    "    mixed_y = lam * y + (1. - lam) * y[index]\n",
    "    mixed_a = lam * a + (1. - lam) * a[index]\n",
    "    return mixed_x, mixed_y, mixed_a"
   ]
  },
  {
   "cell_type": "code",
   "execution_count": 268,
   "metadata": {},
   "outputs": [
    {
     "data": {
      "text/plain": [
       "[array([1., 0., 0., 0., 0., 0., 0.]),\n",
       " array([0., 1., 0., 0., 0., 0., 0.]),\n",
       " array([0., 0., 1., 0., 0., 0., 0.]),\n",
       " array([0., 0., 0., 1., 0., 0., 0.]),\n",
       " array([0., 0., 0., 0., 1., 0., 0.]),\n",
       " array([0., 0., 0., 0., 0., 1., 0.]),\n",
       " array([0., 0., 0., 0., 0., 0., 1.])]"
      ]
     },
     "execution_count": 268,
     "metadata": {},
     "output_type": "execute_result"
    }
   ],
   "source": [
    "num_train_studies = len(attr_train[0])-1\n",
    "\n",
    "# create study_id arrays\n",
    "study_ids = []\n",
    "dim = num_train_studies+1\n",
    "for i in range(dim):\n",
    "    study_id = np.zeros(dim)\n",
    "    study_id[i] = 1\n",
    "    study_ids.append(study_id)\n",
    "study_ids"
   ]
  },
  {
   "cell_type": "code",
   "execution_count": 282,
   "metadata": {},
   "outputs": [
    {
     "name": "stdout",
     "output_type": "stream",
     "text": [
      "46464\n",
      "(528,)\n",
      "(85, 6063)\n",
      "(85, 2)\n",
      "0.27090891395475064\n",
      "(528,)\n",
      "(94, 6063)\n",
      "(94, 2)\n",
      "0.9455327187786406\n",
      "(528,)\n",
      "(87, 6063)\n",
      "(87, 2)\n",
      "0.8559001022772635\n",
      "(528,)\n",
      "(90, 6063)\n",
      "(90, 2)\n",
      "0.9093140924444223\n",
      "(528,)\n",
      "(88, 6063)\n",
      "(88, 2)\n",
      "0.22671366595716663\n",
      "(528,)\n",
      "(84, 6063)\n",
      "(84, 2)\n",
      "0.29823447340767095\n",
      "(46530, 6063)\n"
     ]
    }
   ],
   "source": [
    "n_squared = int(x_train.shape[0]/num_train_studies)**2\n",
    "total_n = num_train_studies * n_squared\n",
    "print(total_n)\n",
    "\n",
    "mixed_x_train = None\n",
    "mixed_y_train = None\n",
    "mixed_attr_train = None\n",
    "\n",
    "start_index = 0\n",
    "for i in range(num_train_studies):\n",
    "    study_mask = attr_train[:,i].astype(bool)\n",
    "    study_x = x_train[study_mask]\n",
    "    study_y = y_train[study_mask]\n",
    "    print(study_x.shape)\n",
    "    print(study_y.shape)\n",
    "    \n",
    "    study_mixed_x, study_mixed_y, lam = mixup_data(study_x, study_y)\n",
    "    print(lam)\n",
    "    \n",
    "    study_n = study_mixed_x.shape[0]\n",
    "    dup_study_ids = np.tile(study_ids[i], (study_n,1))\n",
    "    if mixed_x_train is None:\n",
    "        mixed_x_train = study_mixed_x\n",
    "        mixed_y_train = study_mixed_y\n",
    "        mixed_attr_train = dup_study_ids\n",
    "    else:\n",
    "        mixed_x_train = np.concatenate((mixed_x_train, study_mixed_x.astype(float)), axis=0)\n",
    "        mixed_y_train = np.concatenate((mixed_y_train, study_mixed_y.astype(float)))\n",
    "        mixed_attr_train = np.concatenate((mixed_attr_train, dup_study_ids), axis=0) \n"
   ]
  },
  {
   "cell_type": "code",
   "execution_count": 285,
   "metadata": {},
   "outputs": [
    {
     "name": "stdout",
     "output_type": "stream",
     "text": [
      "(46530, 6063)\n",
      "(46530, 2)\n",
      "(46530, 7)\n",
      "[0.72909109 0.27090891]\n",
      "[1. 0. 0. 0. 0. 0. 0.]\n"
     ]
    }
   ],
   "source": [
    "print(mixed_x_train.shape)\n",
    "print(mixed_y_train.shape)\n",
    "print(mixed_attr_train.shape)\n",
    "print(mixed_y_train[1])\n",
    "print(mixed_attr_train[1])"
   ]
  },
  {
   "cell_type": "code",
   "execution_count": 287,
   "metadata": {},
   "outputs": [
    {
     "name": "stdout",
     "output_type": "stream",
     "text": [
      "46530 132\n"
     ]
    }
   ],
   "source": [
    "t = mixed_x_train.shape[0]\n",
    "train_inds = np.random.permutation(t)\n",
    "v = x_valid.shape[0]\n",
    "valid_inds = np.random.permutation(v)\n",
    "print(len(train_inds), len(valid_inds))"
   ]
  },
  {
   "cell_type": "code",
   "execution_count": 319,
   "metadata": {},
   "outputs": [
    {
     "ename": "KeyboardInterrupt",
     "evalue": "",
     "output_type": "error",
     "traceback": [
      "\u001b[0;31m---------------------------------------------------------------------------\u001b[0m",
      "\u001b[0;31mKeyboardInterrupt\u001b[0m                         Traceback (most recent call last)",
      "\u001b[0;32m<ipython-input-319-0a263f34c161>\u001b[0m in \u001b[0;36m<module>\u001b[0;34m\u001b[0m\n\u001b[1;32m      4\u001b[0m \u001b[0msave_file\u001b[0m \u001b[0;34m=\u001b[0m \u001b[0;34m'ovarian_6_studies_3_test_6063_features_110_mixup_46530_samples_030921_standard.npz'\u001b[0m\u001b[0;34m\u001b[0m\u001b[0;34m\u001b[0m\u001b[0m\n\u001b[1;32m      5\u001b[0m np.savez(save_file, \n\u001b[0;32m----> 6\u001b[0;31m          \u001b[0mx_train\u001b[0m \u001b[0;34m=\u001b[0m \u001b[0mmixed_x_train\u001b[0m\u001b[0;34m[\u001b[0m\u001b[0mtrain_inds\u001b[0m\u001b[0;34m]\u001b[0m\u001b[0;34m,\u001b[0m\u001b[0;34m\u001b[0m\u001b[0;34m\u001b[0m\u001b[0m\n\u001b[0m\u001b[1;32m      7\u001b[0m          \u001b[0mx_valid\u001b[0m \u001b[0;34m=\u001b[0m \u001b[0mx_valid\u001b[0m\u001b[0;34m[\u001b[0m\u001b[0mvalid_inds\u001b[0m\u001b[0;34m]\u001b[0m\u001b[0;34m,\u001b[0m\u001b[0;34m\u001b[0m\u001b[0;34m\u001b[0m\u001b[0m\n\u001b[1;32m      8\u001b[0m          \u001b[0mx_test\u001b[0m \u001b[0;34m=\u001b[0m \u001b[0mx_test\u001b[0m\u001b[0;34m,\u001b[0m\u001b[0;34m\u001b[0m\u001b[0;34m\u001b[0m\u001b[0m\n",
      "\u001b[0;31mKeyboardInterrupt\u001b[0m: "
     ]
    }
   ],
   "source": [
    "# THIS IS DIFFERENT, NEED TO UPDATE RVR, TRAIN AND VALID SEPARATE NOW BECAUSE MIXUP\n",
    "# RVR SHOULD SET x_train = x_train[train_inds] and x_valid = x_valid[valid_inds] instead of from x_train\n",
    "\n",
    "save_file = 'ovarian_6_studies_3_test_6063_features_110_mixup_46530_samples_030921_standard.npz'\n",
    "np.savez(save_file, \n",
    "         x_train = mixed_x_train[train_inds], \n",
    "         x_valid = x_valid[valid_inds],\n",
    "         x_test = x_test, \n",
    "         y_train = mixed_y_train[train_inds], \n",
    "         y_valid = y_valid[valid_inds],\n",
    "         y_test = y_test, \n",
    "         attr_train = mixed_attr_train[train_inds],\n",
    "         attr_valid = attr_valid[valid_inds],\n",
    "         attr_test = attr_test,\n",
    "#          train_inds = train_inds,\n",
    "#          valid_inds = valid_inds,\n",
    "         num_train_studies = num_train_studies,\n",
    "         num_test_studies = num_studies - num_train_studies\n",
    "        )"
   ]
  },
  {
   "cell_type": "code",
   "execution_count": 320,
   "metadata": {},
   "outputs": [],
   "source": [
    "mixup_infile = \"ovarian_6_studies_3_test_6063_features_110_mixup_46530_samples_030921_standard.npz\"\n",
    "data = np.load(mixup_infile)"
   ]
  },
  {
   "cell_type": "code",
   "execution_count": 321,
   "metadata": {},
   "outputs": [
    {
     "data": {
      "text/plain": [
       "['x_train',\n",
       " 'x_valid',\n",
       " 'x_test',\n",
       " 'y_train',\n",
       " 'y_valid',\n",
       " 'y_test',\n",
       " 'attr_train',\n",
       " 'attr_valid',\n",
       " 'attr_test',\n",
       " 'num_train_studies',\n",
       " 'num_test_studies']"
      ]
     },
     "execution_count": 321,
     "metadata": {},
     "output_type": "execute_result"
    }
   ],
   "source": [
    "list(data.keys())"
   ]
  },
  {
   "cell_type": "code",
   "execution_count": 307,
   "metadata": {},
   "outputs": [
    {
     "data": {
      "text/plain": [
       "0.6179245283018868"
      ]
     },
     "execution_count": 307,
     "metadata": {},
     "output_type": "execute_result"
    }
   ],
   "source": [
    "# print(data['x_train'].shape)\n",
    "# print(data['y_train'].shape)\n",
    "# print(data['attr_train'].shape)\n",
    "# print(data['x_valid'].shape)\n",
    "# print(data['y_valid'].shape)\n",
    "# print(data['attr_valid'].shape)\n",
    "num_pos = np.sum(data['y_test'][:,1]) #+np.sum(y_valid[:,1])\n",
    "total = data['y_test'].shape[0]\n",
    "num_pos/total"
   ]
  },
  {
   "cell_type": "code",
   "execution_count": 303,
   "metadata": {},
   "outputs": [
    {
     "data": {
      "text/plain": [
       "<tensorflow.python.ops.init_ops.GlorotUniform at 0x7fe54feaa310>"
      ]
     },
     "execution_count": 303,
     "metadata": {},
     "output_type": "execute_result"
    }
   ],
   "source": [
    "tf.glorot_uniform_initializer()"
   ]
  },
  {
   "cell_type": "markdown",
   "metadata": {},
   "source": [
    "# test code "
   ]
  },
  {
   "cell_type": "code",
   "execution_count": 31,
   "metadata": {},
   "outputs": [
    {
     "data": {
      "text/plain": [
       "(64, 6063)"
      ]
     },
     "execution_count": 31,
     "metadata": {},
     "output_type": "execute_result"
    }
   ],
   "source": [
    "y_train.shape\n",
    "np.zeros(x.shape).shape"
   ]
  },
  {
   "cell_type": "code",
   "execution_count": 197,
   "metadata": {},
   "outputs": [],
   "source": [
    "batch_size = x_train.shape[0] # 64\n",
    "index = np.random.permutation(x_train.shape[0])\n",
    "x = x_train[index][:batch_size]\n",
    "y = y_train[index][:batch_size]\n",
    "a = attr_train[index][:batch_size]\n",
    "mixed_x, mixed_y, mixed_a = mixup_data_with_a(x, y, a)"
   ]
  },
  {
   "cell_type": "code",
   "execution_count": 69,
   "metadata": {},
   "outputs": [
    {
     "data": {
      "text/plain": [
       "array([0.        , 0.        , 0.16610971, 0.        , 0.83389029,\n",
       "       0.        , 0.        ])"
      ]
     },
     "execution_count": 69,
     "metadata": {},
     "output_type": "execute_result"
    }
   ],
   "source": [
    "mixed_a[2]"
   ]
  },
  {
   "cell_type": "code",
   "execution_count": 123,
   "metadata": {},
   "outputs": [],
   "source": [
    "from sklearn.preprocessing import StandardScaler  \n",
    "scaler = StandardScaler()  \n",
    "# Don't cheat - fit only on training data\n",
    "scaler.fit(x_train)  \n",
    "x_train = scaler.transform(x_train)  \n",
    "# apply same transformation to test data\n",
    "x_test = scaler.transform(x_test)  "
   ]
  },
  {
   "cell_type": "code",
   "execution_count": 312,
   "metadata": {},
   "outputs": [],
   "source": [
    "mixup_infile = \"ovarian_6_studies_3_test_6063_features_110_mixup_46530_samples_030921_standard.npz\"\n",
    "data = np.load(mixup_infile)\n",
    "x = data['x_train']\n",
    "y = data['y_train']\n",
    "y = np.round(y)\n",
    "x_test = data['x_test']\n",
    "y_test = data['y_test']"
   ]
  },
  {
   "cell_type": "code",
   "execution_count": 315,
   "metadata": {},
   "outputs": [
    {
     "data": {
      "text/plain": [
       "MLPClassifier(batch_size=64, hidden_layer_sizes=(10, 10),\n",
       "              learning_rate_init=0.01, max_iter=500, random_state=1, tol=1e-08,\n",
       "              verbose=0)"
      ]
     },
     "execution_count": 315,
     "metadata": {},
     "output_type": "execute_result"
    }
   ],
   "source": [
    "from sklearn.neural_network import MLPClassifier\n",
    "clf = MLPClassifier((10,10), max_iter=500, alpha=1e-4,\n",
    "                    solver='adam', verbose=0, tol=1e-8, random_state=1,\n",
    "                    learning_rate_init=.01, batch_size=64)\n",
    "clf.fit(x, y)\n",
    "# clf.fit(mixed_x, np.round(mixed_y))"
   ]
  },
  {
   "cell_type": "code",
   "execution_count": 316,
   "metadata": {},
   "outputs": [
    {
     "name": "stdout",
     "output_type": "stream",
     "text": [
      "0.6179245283018868\n"
     ]
    },
    {
     "data": {
      "image/png": "[encoded data removed]",
      "text/plain": [
       "<Figure size 432x288 with 1 Axes>"
      ]
     },
     "metadata": {
      "needs_background": "light"
     },
     "output_type": "display_data"
    }
   ],
   "source": [
    "import matplotlib.pyplot as plt\n",
    "# print(clf.score(mixed_x, mixed_y))\n",
    "plt.plot(clf.loss_curve_)\n",
    "# plt.plot(clf.validation_scores_)\n",
    "print(clf.score(x_test, y_test))"
   ]
  },
  {
   "cell_type": "code",
   "execution_count": 161,
   "metadata": {},
   "outputs": [],
   "source": [
    "def cross_entropy(target, pred, weights=None, eps=1e-8):\n",
    "    if weights == None:\n",
    "        weights = tf.ones_like(pred)\n",
    "    return -tf.squeeze(tf.multiply(weights, tf.multiply(target, tf.log(pred + eps)) + tf.multiply(1 - target, tf.log(1 - pred + eps))))"
   ]
  },
  {
   "cell_type": "code",
   "execution_count": 165,
   "metadata": {},
   "outputs": [
    {
     "name": "stdout",
     "output_type": "stream",
     "text": [
      "[[-9.99999989e-09  1.84206807e+01]\n",
      " [-9.99999989e-09  1.84206807e+01]\n",
      " [ 1.84206807e+01 -9.99999989e-09]\n",
      " ...\n",
      " [ 1.84206807e+01 -9.99999989e-09]\n",
      " [-9.99999989e-09  1.84206807e+01]\n",
      " [ 1.84206807e+01 -9.99999989e-09]]\n"
     ]
    }
   ],
   "source": [
    "t = cross_entropy(y, np.zeros(y.shape))\n",
    "with tf.Session() as sess:\n",
    "    print(t.eval())  "
   ]
  },
  {
   "cell_type": "code",
   "execution_count": 317,
   "metadata": {},
   "outputs": [
    {
     "name": "stderr",
     "output_type": "stream",
     "text": [
      "/Users/rachelh/anaconda3/envs/myenv/lib/python3.9/site-packages/sklearn/neural_network/_multilayer_perceptron.py:619: UserWarning: Training interrupted by user.\n",
      "  warnings.warn(\"Training interrupted by user.\")\n"
     ]
    },
    {
     "ename": "KeyboardInterrupt",
     "evalue": "",
     "output_type": "error",
     "traceback": [
      "\u001b[0;31m---------------------------------------------------------------------------\u001b[0m",
      "\u001b[0;31mKeyboardInterrupt\u001b[0m                         Traceback (most recent call last)",
      "\u001b[0;32m<ipython-input-317-9444bc0c0e5d>\u001b[0m in \u001b[0;36m<module>\u001b[0;34m\u001b[0m\n\u001b[1;32m     41\u001b[0m         \u001b[0;31m# MINI-BATCH\u001b[0m\u001b[0;34m\u001b[0m\u001b[0;34m\u001b[0m\u001b[0;34m\u001b[0m\u001b[0m\n\u001b[1;32m     42\u001b[0m         \u001b[0mindices\u001b[0m \u001b[0;34m=\u001b[0m \u001b[0mrandom_perm\u001b[0m\u001b[0;34m[\u001b[0m\u001b[0mmini_batch_index\u001b[0m\u001b[0;34m:\u001b[0m\u001b[0mmini_batch_index\u001b[0m \u001b[0;34m+\u001b[0m \u001b[0mN_BATCH\u001b[0m\u001b[0;34m]\u001b[0m\u001b[0;34m\u001b[0m\u001b[0;34m\u001b[0m\u001b[0m\n\u001b[0;32m---> 43\u001b[0;31m         \u001b[0mmlp\u001b[0m\u001b[0;34m.\u001b[0m\u001b[0mpartial_fit\u001b[0m\u001b[0;34m(\u001b[0m\u001b[0mX_train\u001b[0m\u001b[0;34m[\u001b[0m\u001b[0mindices\u001b[0m\u001b[0;34m]\u001b[0m\u001b[0;34m,\u001b[0m \u001b[0my_train\u001b[0m\u001b[0;34m[\u001b[0m\u001b[0mindices\u001b[0m\u001b[0;34m]\u001b[0m\u001b[0;34m,\u001b[0m \u001b[0mclasses\u001b[0m\u001b[0;34m=\u001b[0m\u001b[0mN_CLASSES\u001b[0m\u001b[0;34m)\u001b[0m\u001b[0;34m\u001b[0m\u001b[0;34m\u001b[0m\u001b[0m\n\u001b[0m\u001b[1;32m     44\u001b[0m \u001b[0;31m#         print(mlp.loss_curve_)\u001b[0m\u001b[0;34m\u001b[0m\u001b[0;34m\u001b[0m\u001b[0;34m\u001b[0m\u001b[0m\n\u001b[1;32m     45\u001b[0m         \u001b[0mmini_batch_index\u001b[0m \u001b[0;34m+=\u001b[0m \u001b[0mN_BATCH\u001b[0m\u001b[0;34m\u001b[0m\u001b[0;34m\u001b[0m\u001b[0m\n",
      "\u001b[0;32m~/anaconda3/envs/myenv/lib/python3.9/site-packages/sklearn/neural_network/_multilayer_perceptron.py\u001b[0m in \u001b[0;36m_partial_fit\u001b[0;34m(self, X, y, classes)\u001b[0m\n\u001b[1;32m   1077\u001b[0m                 \u001b[0mself\u001b[0m\u001b[0;34m.\u001b[0m\u001b[0m_label_binarizer\u001b[0m\u001b[0;34m.\u001b[0m\u001b[0mfit\u001b[0m\u001b[0;34m(\u001b[0m\u001b[0mclasses\u001b[0m\u001b[0;34m)\u001b[0m\u001b[0;34m\u001b[0m\u001b[0;34m\u001b[0m\u001b[0m\n\u001b[1;32m   1078\u001b[0m \u001b[0;34m\u001b[0m\u001b[0m\n\u001b[0;32m-> 1079\u001b[0;31m         \u001b[0msuper\u001b[0m\u001b[0;34m(\u001b[0m\u001b[0;34m)\u001b[0m\u001b[0;34m.\u001b[0m\u001b[0m_partial_fit\u001b[0m\u001b[0;34m(\u001b[0m\u001b[0mX\u001b[0m\u001b[0;34m,\u001b[0m \u001b[0my\u001b[0m\u001b[0;34m)\u001b[0m\u001b[0;34m\u001b[0m\u001b[0;34m\u001b[0m\u001b[0m\n\u001b[0m\u001b[1;32m   1080\u001b[0m \u001b[0;34m\u001b[0m\u001b[0m\n\u001b[1;32m   1081\u001b[0m         \u001b[0;32mreturn\u001b[0m \u001b[0mself\u001b[0m\u001b[0;34m\u001b[0m\u001b[0;34m\u001b[0m\u001b[0m\n",
      "\u001b[0;32m~/anaconda3/envs/myenv/lib/python3.9/site-packages/sklearn/neural_network/_multilayer_perceptron.py\u001b[0m in \u001b[0;36m_partial_fit\u001b[0;34m(self, X, y)\u001b[0m\n\u001b[1;32m    696\u001b[0m \u001b[0;34m\u001b[0m\u001b[0m\n\u001b[1;32m    697\u001b[0m     \u001b[0;32mdef\u001b[0m \u001b[0m_partial_fit\u001b[0m\u001b[0;34m(\u001b[0m\u001b[0mself\u001b[0m\u001b[0;34m,\u001b[0m \u001b[0mX\u001b[0m\u001b[0;34m,\u001b[0m \u001b[0my\u001b[0m\u001b[0;34m)\u001b[0m\u001b[0;34m:\u001b[0m\u001b[0;34m\u001b[0m\u001b[0;34m\u001b[0m\u001b[0m\n\u001b[0;32m--> 698\u001b[0;31m         \u001b[0;32mreturn\u001b[0m \u001b[0mself\u001b[0m\u001b[0;34m.\u001b[0m\u001b[0m_fit\u001b[0m\u001b[0;34m(\u001b[0m\u001b[0mX\u001b[0m\u001b[0;34m,\u001b[0m \u001b[0my\u001b[0m\u001b[0;34m,\u001b[0m \u001b[0mincremental\u001b[0m\u001b[0;34m=\u001b[0m\u001b[0;32mTrue\u001b[0m\u001b[0;34m)\u001b[0m\u001b[0;34m\u001b[0m\u001b[0;34m\u001b[0m\u001b[0m\n\u001b[0m\u001b[1;32m    699\u001b[0m \u001b[0;34m\u001b[0m\u001b[0m\n\u001b[1;32m    700\u001b[0m \u001b[0;34m\u001b[0m\u001b[0m\n",
      "\u001b[0;32m~/anaconda3/envs/myenv/lib/python3.9/site-packages/sklearn/neural_network/_multilayer_perceptron.py\u001b[0m in \u001b[0;36m_fit\u001b[0;34m(self, X, y, incremental)\u001b[0m\n\u001b[1;32m    362\u001b[0m                       (not self.warm_start and not incremental))\n\u001b[1;32m    363\u001b[0m \u001b[0;34m\u001b[0m\u001b[0m\n\u001b[0;32m--> 364\u001b[0;31m         \u001b[0mX\u001b[0m\u001b[0;34m,\u001b[0m \u001b[0my\u001b[0m \u001b[0;34m=\u001b[0m \u001b[0mself\u001b[0m\u001b[0;34m.\u001b[0m\u001b[0m_validate_input\u001b[0m\u001b[0;34m(\u001b[0m\u001b[0mX\u001b[0m\u001b[0;34m,\u001b[0m \u001b[0my\u001b[0m\u001b[0;34m,\u001b[0m \u001b[0mincremental\u001b[0m\u001b[0;34m,\u001b[0m \u001b[0mreset\u001b[0m\u001b[0;34m=\u001b[0m\u001b[0mfirst_pass\u001b[0m\u001b[0;34m)\u001b[0m\u001b[0;34m\u001b[0m\u001b[0;34m\u001b[0m\u001b[0m\n\u001b[0m\u001b[1;32m    365\u001b[0m \u001b[0;34m\u001b[0m\u001b[0m\n\u001b[1;32m    366\u001b[0m         \u001b[0mn_samples\u001b[0m\u001b[0;34m,\u001b[0m \u001b[0mn_features\u001b[0m \u001b[0;34m=\u001b[0m \u001b[0mX\u001b[0m\u001b[0;34m.\u001b[0m\u001b[0mshape\u001b[0m\u001b[0;34m\u001b[0m\u001b[0;34m\u001b[0m\u001b[0m\n",
      "\u001b[0;32m~/anaconda3/envs/myenv/lib/python3.9/site-packages/sklearn/neural_network/_multilayer_perceptron.py\u001b[0m in \u001b[0;36m_validate_input\u001b[0;34m(self, X, y, incremental, reset)\u001b[0m\n\u001b[1;32m    966\u001b[0m \u001b[0;34m\u001b[0m\u001b[0m\n\u001b[1;32m    967\u001b[0m     \u001b[0;32mdef\u001b[0m \u001b[0m_validate_input\u001b[0m\u001b[0;34m(\u001b[0m\u001b[0mself\u001b[0m\u001b[0;34m,\u001b[0m \u001b[0mX\u001b[0m\u001b[0;34m,\u001b[0m \u001b[0my\u001b[0m\u001b[0;34m,\u001b[0m \u001b[0mincremental\u001b[0m\u001b[0;34m,\u001b[0m \u001b[0mreset\u001b[0m\u001b[0;34m)\u001b[0m\u001b[0;34m:\u001b[0m\u001b[0;34m\u001b[0m\u001b[0;34m\u001b[0m\u001b[0m\n\u001b[0;32m--> 968\u001b[0;31m         X, y = self._validate_data(X, y, accept_sparse=['csr', 'csc'],\n\u001b[0m\u001b[1;32m    969\u001b[0m                                    \u001b[0mmulti_output\u001b[0m\u001b[0;34m=\u001b[0m\u001b[0;32mTrue\u001b[0m\u001b[0;34m,\u001b[0m\u001b[0;34m\u001b[0m\u001b[0;34m\u001b[0m\u001b[0m\n\u001b[1;32m    970\u001b[0m                                    \u001b[0mdtype\u001b[0m\u001b[0;34m=\u001b[0m\u001b[0;34m(\u001b[0m\u001b[0mnp\u001b[0m\u001b[0;34m.\u001b[0m\u001b[0mfloat64\u001b[0m\u001b[0;34m,\u001b[0m \u001b[0mnp\u001b[0m\u001b[0;34m.\u001b[0m\u001b[0mfloat32\u001b[0m\u001b[0;34m)\u001b[0m\u001b[0;34m,\u001b[0m\u001b[0;34m\u001b[0m\u001b[0;34m\u001b[0m\u001b[0m\n",
      "\u001b[0;32m~/anaconda3/envs/myenv/lib/python3.9/site-packages/sklearn/base.py\u001b[0m in \u001b[0;36m_validate_data\u001b[0;34m(self, X, y, reset, validate_separately, **check_params)\u001b[0m\n\u001b[1;32m    431\u001b[0m                 \u001b[0my\u001b[0m \u001b[0;34m=\u001b[0m \u001b[0mcheck_array\u001b[0m\u001b[0;34m(\u001b[0m\u001b[0my\u001b[0m\u001b[0;34m,\u001b[0m \u001b[0;34m**\u001b[0m\u001b[0mcheck_y_params\u001b[0m\u001b[0;34m)\u001b[0m\u001b[0;34m\u001b[0m\u001b[0;34m\u001b[0m\u001b[0m\n\u001b[1;32m    432\u001b[0m             \u001b[0;32melse\u001b[0m\u001b[0;34m:\u001b[0m\u001b[0;34m\u001b[0m\u001b[0;34m\u001b[0m\u001b[0m\n\u001b[0;32m--> 433\u001b[0;31m                 \u001b[0mX\u001b[0m\u001b[0;34m,\u001b[0m \u001b[0my\u001b[0m \u001b[0;34m=\u001b[0m \u001b[0mcheck_X_y\u001b[0m\u001b[0;34m(\u001b[0m\u001b[0mX\u001b[0m\u001b[0;34m,\u001b[0m \u001b[0my\u001b[0m\u001b[0;34m,\u001b[0m \u001b[0;34m**\u001b[0m\u001b[0mcheck_params\u001b[0m\u001b[0;34m)\u001b[0m\u001b[0;34m\u001b[0m\u001b[0;34m\u001b[0m\u001b[0m\n\u001b[0m\u001b[1;32m    434\u001b[0m             \u001b[0mout\u001b[0m \u001b[0;34m=\u001b[0m \u001b[0mX\u001b[0m\u001b[0;34m,\u001b[0m \u001b[0my\u001b[0m\u001b[0;34m\u001b[0m\u001b[0;34m\u001b[0m\u001b[0m\n\u001b[1;32m    435\u001b[0m \u001b[0;34m\u001b[0m\u001b[0m\n",
      "\u001b[0;32m~/anaconda3/envs/myenv/lib/python3.9/site-packages/sklearn/utils/validation.py\u001b[0m in \u001b[0;36minner_f\u001b[0;34m(*args, **kwargs)\u001b[0m\n\u001b[1;32m     61\u001b[0m             \u001b[0mextra_args\u001b[0m \u001b[0;34m=\u001b[0m \u001b[0mlen\u001b[0m\u001b[0;34m(\u001b[0m\u001b[0margs\u001b[0m\u001b[0;34m)\u001b[0m \u001b[0;34m-\u001b[0m \u001b[0mlen\u001b[0m\u001b[0;34m(\u001b[0m\u001b[0mall_args\u001b[0m\u001b[0;34m)\u001b[0m\u001b[0;34m\u001b[0m\u001b[0;34m\u001b[0m\u001b[0m\n\u001b[1;32m     62\u001b[0m             \u001b[0;32mif\u001b[0m \u001b[0mextra_args\u001b[0m \u001b[0;34m<=\u001b[0m \u001b[0;36m0\u001b[0m\u001b[0;34m:\u001b[0m\u001b[0;34m\u001b[0m\u001b[0;34m\u001b[0m\u001b[0m\n\u001b[0;32m---> 63\u001b[0;31m                 \u001b[0;32mreturn\u001b[0m \u001b[0mf\u001b[0m\u001b[0;34m(\u001b[0m\u001b[0;34m*\u001b[0m\u001b[0margs\u001b[0m\u001b[0;34m,\u001b[0m \u001b[0;34m**\u001b[0m\u001b[0mkwargs\u001b[0m\u001b[0;34m)\u001b[0m\u001b[0;34m\u001b[0m\u001b[0;34m\u001b[0m\u001b[0m\n\u001b[0m\u001b[1;32m     64\u001b[0m \u001b[0;34m\u001b[0m\u001b[0m\n\u001b[1;32m     65\u001b[0m             \u001b[0;31m# extra_args > 0\u001b[0m\u001b[0;34m\u001b[0m\u001b[0;34m\u001b[0m\u001b[0;34m\u001b[0m\u001b[0m\n",
      "\u001b[0;32m~/anaconda3/envs/myenv/lib/python3.9/site-packages/sklearn/utils/validation.py\u001b[0m in \u001b[0;36mcheck_X_y\u001b[0;34m(X, y, accept_sparse, accept_large_sparse, dtype, order, copy, force_all_finite, ensure_2d, allow_nd, multi_output, ensure_min_samples, ensure_min_features, y_numeric, estimator)\u001b[0m\n\u001b[1;32m    812\u001b[0m         \u001b[0;32mraise\u001b[0m \u001b[0mValueError\u001b[0m\u001b[0;34m(\u001b[0m\u001b[0;34m\"y cannot be None\"\u001b[0m\u001b[0;34m)\u001b[0m\u001b[0;34m\u001b[0m\u001b[0;34m\u001b[0m\u001b[0m\n\u001b[1;32m    813\u001b[0m \u001b[0;34m\u001b[0m\u001b[0m\n\u001b[0;32m--> 814\u001b[0;31m     X = check_array(X, accept_sparse=accept_sparse,\n\u001b[0m\u001b[1;32m    815\u001b[0m                     \u001b[0maccept_large_sparse\u001b[0m\u001b[0;34m=\u001b[0m\u001b[0maccept_large_sparse\u001b[0m\u001b[0;34m,\u001b[0m\u001b[0;34m\u001b[0m\u001b[0;34m\u001b[0m\u001b[0m\n\u001b[1;32m    816\u001b[0m                     \u001b[0mdtype\u001b[0m\u001b[0;34m=\u001b[0m\u001b[0mdtype\u001b[0m\u001b[0;34m,\u001b[0m \u001b[0morder\u001b[0m\u001b[0;34m=\u001b[0m\u001b[0morder\u001b[0m\u001b[0;34m,\u001b[0m \u001b[0mcopy\u001b[0m\u001b[0;34m=\u001b[0m\u001b[0mcopy\u001b[0m\u001b[0;34m,\u001b[0m\u001b[0;34m\u001b[0m\u001b[0;34m\u001b[0m\u001b[0m\n",
      "\u001b[0;32m~/anaconda3/envs/myenv/lib/python3.9/site-packages/sklearn/utils/validation.py\u001b[0m in \u001b[0;36minner_f\u001b[0;34m(*args, **kwargs)\u001b[0m\n\u001b[1;32m     61\u001b[0m             \u001b[0mextra_args\u001b[0m \u001b[0;34m=\u001b[0m \u001b[0mlen\u001b[0m\u001b[0;34m(\u001b[0m\u001b[0margs\u001b[0m\u001b[0;34m)\u001b[0m \u001b[0;34m-\u001b[0m \u001b[0mlen\u001b[0m\u001b[0;34m(\u001b[0m\u001b[0mall_args\u001b[0m\u001b[0;34m)\u001b[0m\u001b[0;34m\u001b[0m\u001b[0;34m\u001b[0m\u001b[0m\n\u001b[1;32m     62\u001b[0m             \u001b[0;32mif\u001b[0m \u001b[0mextra_args\u001b[0m \u001b[0;34m<=\u001b[0m \u001b[0;36m0\u001b[0m\u001b[0;34m:\u001b[0m\u001b[0;34m\u001b[0m\u001b[0;34m\u001b[0m\u001b[0m\n\u001b[0;32m---> 63\u001b[0;31m                 \u001b[0;32mreturn\u001b[0m \u001b[0mf\u001b[0m\u001b[0;34m(\u001b[0m\u001b[0;34m*\u001b[0m\u001b[0margs\u001b[0m\u001b[0;34m,\u001b[0m \u001b[0;34m**\u001b[0m\u001b[0mkwargs\u001b[0m\u001b[0;34m)\u001b[0m\u001b[0;34m\u001b[0m\u001b[0;34m\u001b[0m\u001b[0m\n\u001b[0m\u001b[1;32m     64\u001b[0m \u001b[0;34m\u001b[0m\u001b[0m\n\u001b[1;32m     65\u001b[0m             \u001b[0;31m# extra_args > 0\u001b[0m\u001b[0;34m\u001b[0m\u001b[0;34m\u001b[0m\u001b[0;34m\u001b[0m\u001b[0m\n",
      "\u001b[0;32m~/anaconda3/envs/myenv/lib/python3.9/site-packages/sklearn/utils/validation.py\u001b[0m in \u001b[0;36mcheck_array\u001b[0;34m(array, accept_sparse, accept_large_sparse, dtype, order, copy, force_all_finite, ensure_2d, allow_nd, ensure_min_samples, ensure_min_features, estimator)\u001b[0m\n\u001b[1;32m    661\u001b[0m \u001b[0;34m\u001b[0m\u001b[0m\n\u001b[1;32m    662\u001b[0m         \u001b[0;32mif\u001b[0m \u001b[0mforce_all_finite\u001b[0m\u001b[0;34m:\u001b[0m\u001b[0;34m\u001b[0m\u001b[0;34m\u001b[0m\u001b[0m\n\u001b[0;32m--> 663\u001b[0;31m             _assert_all_finite(array,\n\u001b[0m\u001b[1;32m    664\u001b[0m                                allow_nan=force_all_finite == 'allow-nan')\n\u001b[1;32m    665\u001b[0m \u001b[0;34m\u001b[0m\u001b[0m\n",
      "\u001b[0;32m~/anaconda3/envs/myenv/lib/python3.9/site-packages/sklearn/utils/validation.py\u001b[0m in \u001b[0;36m_assert_all_finite\u001b[0;34m(X, allow_nan, msg_dtype)\u001b[0m\n\u001b[1;32m     94\u001b[0m     \u001b[0;31m# safely to reduce dtype induced overflows.\u001b[0m\u001b[0;34m\u001b[0m\u001b[0;34m\u001b[0m\u001b[0;34m\u001b[0m\u001b[0m\n\u001b[1;32m     95\u001b[0m     \u001b[0mis_float\u001b[0m \u001b[0;34m=\u001b[0m \u001b[0mX\u001b[0m\u001b[0;34m.\u001b[0m\u001b[0mdtype\u001b[0m\u001b[0;34m.\u001b[0m\u001b[0mkind\u001b[0m \u001b[0;32min\u001b[0m \u001b[0;34m'fc'\u001b[0m\u001b[0;34m\u001b[0m\u001b[0;34m\u001b[0m\u001b[0m\n\u001b[0;32m---> 96\u001b[0;31m     \u001b[0;32mif\u001b[0m \u001b[0mis_float\u001b[0m \u001b[0;32mand\u001b[0m \u001b[0;34m(\u001b[0m\u001b[0mnp\u001b[0m\u001b[0;34m.\u001b[0m\u001b[0misfinite\u001b[0m\u001b[0;34m(\u001b[0m\u001b[0m_safe_accumulator_op\u001b[0m\u001b[0;34m(\u001b[0m\u001b[0mnp\u001b[0m\u001b[0;34m.\u001b[0m\u001b[0msum\u001b[0m\u001b[0;34m,\u001b[0m \u001b[0mX\u001b[0m\u001b[0;34m)\u001b[0m\u001b[0;34m)\u001b[0m\u001b[0;34m)\u001b[0m\u001b[0;34m:\u001b[0m\u001b[0;34m\u001b[0m\u001b[0;34m\u001b[0m\u001b[0m\n\u001b[0m\u001b[1;32m     97\u001b[0m         \u001b[0;32mpass\u001b[0m\u001b[0;34m\u001b[0m\u001b[0;34m\u001b[0m\u001b[0m\n\u001b[1;32m     98\u001b[0m     \u001b[0;32melif\u001b[0m \u001b[0mis_float\u001b[0m\u001b[0;34m:\u001b[0m\u001b[0;34m\u001b[0m\u001b[0;34m\u001b[0m\u001b[0m\n",
      "\u001b[0;32m~/anaconda3/envs/myenv/lib/python3.9/site-packages/sklearn/utils/extmath.py\u001b[0m in \u001b[0;36m_safe_accumulator_op\u001b[0;34m(op, x, *args, **kwargs)\u001b[0m\n\u001b[1;32m    687\u001b[0m         \u001b[0mresult\u001b[0m \u001b[0;34m=\u001b[0m \u001b[0mop\u001b[0m\u001b[0;34m(\u001b[0m\u001b[0mx\u001b[0m\u001b[0;34m,\u001b[0m \u001b[0;34m*\u001b[0m\u001b[0margs\u001b[0m\u001b[0;34m,\u001b[0m \u001b[0;34m**\u001b[0m\u001b[0mkwargs\u001b[0m\u001b[0;34m,\u001b[0m \u001b[0mdtype\u001b[0m\u001b[0;34m=\u001b[0m\u001b[0mnp\u001b[0m\u001b[0;34m.\u001b[0m\u001b[0mfloat64\u001b[0m\u001b[0;34m)\u001b[0m\u001b[0;34m\u001b[0m\u001b[0;34m\u001b[0m\u001b[0m\n\u001b[1;32m    688\u001b[0m     \u001b[0;32melse\u001b[0m\u001b[0;34m:\u001b[0m\u001b[0;34m\u001b[0m\u001b[0;34m\u001b[0m\u001b[0m\n\u001b[0;32m--> 689\u001b[0;31m         \u001b[0mresult\u001b[0m \u001b[0;34m=\u001b[0m \u001b[0mop\u001b[0m\u001b[0;34m(\u001b[0m\u001b[0mx\u001b[0m\u001b[0;34m,\u001b[0m \u001b[0;34m*\u001b[0m\u001b[0margs\u001b[0m\u001b[0;34m,\u001b[0m \u001b[0;34m**\u001b[0m\u001b[0mkwargs\u001b[0m\u001b[0;34m)\u001b[0m\u001b[0;34m\u001b[0m\u001b[0;34m\u001b[0m\u001b[0m\n\u001b[0m\u001b[1;32m    690\u001b[0m     \u001b[0;32mreturn\u001b[0m \u001b[0mresult\u001b[0m\u001b[0;34m\u001b[0m\u001b[0;34m\u001b[0m\u001b[0m\n\u001b[1;32m    691\u001b[0m \u001b[0;34m\u001b[0m\u001b[0m\n",
      "\u001b[0;32m<__array_function__ internals>\u001b[0m in \u001b[0;36msum\u001b[0;34m(*args, **kwargs)\u001b[0m\n",
      "\u001b[0;32m~/anaconda3/envs/myenv/lib/python3.9/site-packages/numpy/core/fromnumeric.py\u001b[0m in \u001b[0;36msum\u001b[0;34m(a, axis, dtype, out, keepdims, initial, where)\u001b[0m\n\u001b[1;32m   2239\u001b[0m         \u001b[0;32mreturn\u001b[0m \u001b[0mres\u001b[0m\u001b[0;34m\u001b[0m\u001b[0;34m\u001b[0m\u001b[0m\n\u001b[1;32m   2240\u001b[0m \u001b[0;34m\u001b[0m\u001b[0m\n\u001b[0;32m-> 2241\u001b[0;31m     return _wrapreduction(a, np.add, 'sum', axis, dtype, out, keepdims=keepdims,\n\u001b[0m\u001b[1;32m   2242\u001b[0m                           initial=initial, where=where)\n\u001b[1;32m   2243\u001b[0m \u001b[0;34m\u001b[0m\u001b[0m\n",
      "\u001b[0;32m~/anaconda3/envs/myenv/lib/python3.9/site-packages/numpy/core/fromnumeric.py\u001b[0m in \u001b[0;36m_wrapreduction\u001b[0;34m(obj, ufunc, method, axis, dtype, out, **kwargs)\u001b[0m\n\u001b[1;32m     85\u001b[0m                 \u001b[0;32mreturn\u001b[0m \u001b[0mreduction\u001b[0m\u001b[0;34m(\u001b[0m\u001b[0maxis\u001b[0m\u001b[0;34m=\u001b[0m\u001b[0maxis\u001b[0m\u001b[0;34m,\u001b[0m \u001b[0mout\u001b[0m\u001b[0;34m=\u001b[0m\u001b[0mout\u001b[0m\u001b[0;34m,\u001b[0m \u001b[0;34m**\u001b[0m\u001b[0mpasskwargs\u001b[0m\u001b[0;34m)\u001b[0m\u001b[0;34m\u001b[0m\u001b[0;34m\u001b[0m\u001b[0m\n\u001b[1;32m     86\u001b[0m \u001b[0;34m\u001b[0m\u001b[0m\n\u001b[0;32m---> 87\u001b[0;31m     \u001b[0;32mreturn\u001b[0m \u001b[0mufunc\u001b[0m\u001b[0;34m.\u001b[0m\u001b[0mreduce\u001b[0m\u001b[0;34m(\u001b[0m\u001b[0mobj\u001b[0m\u001b[0;34m,\u001b[0m \u001b[0maxis\u001b[0m\u001b[0;34m,\u001b[0m \u001b[0mdtype\u001b[0m\u001b[0;34m,\u001b[0m \u001b[0mout\u001b[0m\u001b[0;34m,\u001b[0m \u001b[0;34m**\u001b[0m\u001b[0mpasskwargs\u001b[0m\u001b[0;34m)\u001b[0m\u001b[0;34m\u001b[0m\u001b[0;34m\u001b[0m\u001b[0m\n\u001b[0m\u001b[1;32m     88\u001b[0m \u001b[0;34m\u001b[0m\u001b[0m\n\u001b[1;32m     89\u001b[0m \u001b[0;34m\u001b[0m\u001b[0m\n",
      "\u001b[0;31mKeyboardInterrupt\u001b[0m: "
     ]
    }
   ],
   "source": [
    "import numpy as np\n",
    "import matplotlib.pyplot as plt\n",
    "# from sklearn.datasets import fetch_mldata\n",
    "from sklearn.neural_network import MLPClassifier, MLPRegressor\n",
    "import sklearn\n",
    "np.random.seed(1)\n",
    "\n",
    "\"\"\" Example based on sklearn's docs \"\"\"\n",
    "# mnist = fetch_mldata(\"MNIST original\")\n",
    "# rescale the data, use the traditional train/test split\n",
    "# X, y = mnist.data / 255., mnist.target\n",
    "X_train, X_test = x, x_test\n",
    "y_train, y_test = y, y_test\n",
    "\n",
    "mlp = MLPClassifier(hidden_layer_sizes=(10,10), max_iter=1, alpha=1e-4,\n",
    "                    solver='adam', verbose=0, tol=1e-8, random_state=1,\n",
    "                    learning_rate_init=.01)\n",
    "\n",
    "\"\"\" Home-made mini-batch learning\n",
    "    -> not to be used in out-of-core setting!\n",
    "\"\"\"\n",
    "N_TRAIN_SAMPLES = X_train.shape[0]\n",
    "N_EPOCHS = 200\n",
    "N_BATCH = 128\n",
    "N_CLASSES = np.unique(y_train)\n",
    "\n",
    "scores_train = []\n",
    "scores_test = []\n",
    "\n",
    "loss_train = []\n",
    "loss_test = []\n",
    "# EPOCH\n",
    "epoch = 0\n",
    "while epoch < N_EPOCHS:\n",
    "#     print('epoch: ', epoch)\n",
    "    # SHUFFLING\n",
    "    random_perm = np.random.permutation(X_train.shape[0])\n",
    "    mini_batch_index = 0\n",
    "    num_batches = 0\n",
    "    while True:\n",
    "        # MINI-BATCH\n",
    "        indices = random_perm[mini_batch_index:mini_batch_index + N_BATCH]\n",
    "        mlp.partial_fit(X_train[indices], y_train[indices], classes=N_CLASSES)\n",
    "#         print(mlp.loss_curve_)\n",
    "        mini_batch_index += N_BATCH\n",
    "\n",
    "        num_batches += 1\n",
    "        if mini_batch_index >= N_TRAIN_SAMPLES:\n",
    "            break\n",
    "\n",
    "#     print(np.average(mlp.loss_curve_[-num_batches:]))\n",
    "    loss_train.append(np.average(mlp.loss_curve_[-num_batches:]))\n",
    "    # SCORE TRAIN\n",
    "    scores_train.append(mlp.score(X_train, y_train))\n",
    "\n",
    "    # SCORE TEST\n",
    "    scores_test.append(mlp.score(X_test, y_test))\n",
    "    \n",
    "#     train_pred = mlp.predict(X_train[indices])\n",
    "#     loss_train.append(sklearn.metrics.log_loss(y_train[indices], train_pred))\n",
    "    \n",
    "#     test_pred = mlp.predict(X_test)\n",
    "#     loss_test.append(sklearn.metrics.log_loss(y_test, test_pred))\n",
    "\n",
    "    epoch += 1\n",
    "\n",
    "\"\"\" Plot \"\"\"\n",
    "fig, ax = plt.subplots(2, sharex=True, sharey=True)\n",
    "ax[0].plot(scores_train)\n",
    "ax[0].set_title('Train Accuracy')\n",
    "ax[1].plot(scores_test)\n",
    "ax[1].set_title('Test Accuracy')\n",
    "# fig.suptitle(\"Accuracy over epochs\", fontsize=14)\n",
    "plt.show()\n",
    "\n",
    "fig, ax = plt.subplots(1, sharex=True, sharey=True)\n",
    "ax.plot(loss_train)\n",
    "ax.set_title('Train Loss')\n",
    "plt.show()\n",
    "\n",
    "print(loss_train[-1])\n",
    "\n",
    "print(scores_train[-1])\n",
    "print(scores_test[-1])"
   ]
  },
  {
   "cell_type": "code",
   "execution_count": 318,
   "metadata": {},
   "outputs": [
    {
     "data": {
      "text/plain": [
       "[<matplotlib.lines.Line2D at 0x7fe5625df0d0>]"
      ]
     },
     "execution_count": 318,
     "metadata": {},
     "output_type": "execute_result"
    },
    {
     "data": {
      "image/png": "[encoded data removed]",
      "text/plain": [
       "<Figure size 432x288 with 1 Axes>"
      ]
     },
     "metadata": {
      "needs_background": "light"
     },
     "output_type": "display_data"
    }
   ],
   "source": [
    "plt.plot(mlp.loss_curve_)"
   ]
  },
  {
   "cell_type": "code",
   "execution_count": 3,
   "metadata": {},
   "outputs": [],
   "source": [
    "import tensorflow as tf\n"
   ]
  },
  {
   "cell_type": "code",
   "execution_count": 12,
   "metadata": {},
   "outputs": [
    {
     "data": {
      "text/plain": [
       "<tf.Tensor 'Round:0' shape=(64, 2) dtype=float64>"
      ]
     },
     "execution_count": 12,
     "metadata": {},
     "output_type": "execute_result"
    }
   ],
   "source": [
    "tf.round(y)"
   ]
  },
  {
   "cell_type": "code",
   "execution_count": 22,
   "metadata": {},
   "outputs": [
    {
     "name": "stdout",
     "output_type": "stream",
     "text": [
      "(64, 2)\n"
     ]
    }
   ],
   "source": [
    "pred = np.random.rand(y.shape[0], y.shape[1])\n",
    "print(pred.shape)\n",
    "target = y\n",
    "pred_class = tf.round(pred)\n",
    "acc = (1.0 - tf.reduce_mean(tf.cast(tf.equal(target, pred_class), tf.float32)))"
   ]
  },
  {
   "cell_type": "code",
   "execution_count": 23,
   "metadata": {},
   "outputs": [
    {
     "name": "stdout",
     "output_type": "stream",
     "text": [
      "0.484375\n"
     ]
    }
   ],
   "source": [
    "with tf.Session() as sess:\n",
    "    print(acc.eval()) "
   ]
  },
  {
   "cell_type": "code",
   "execution_count": null,
   "metadata": {},
   "outputs": [],
   "source": []
  }
 ],
 "metadata": {
  "kernelspec": {
   "display_name": "myenv",
   "language": "python",
   "name": "myenv"
  },
  "language_info": {
   "codemirror_mode": {
    "name": "ipython",
    "version": 3
   },
   "file_extension": ".py",
   "mimetype": "text/x-python",
   "name": "python",
   "nbconvert_exporter": "python",
   "pygments_lexer": "ipython3",
   "version": "3.9.1"
  }
 },
 "nbformat": 4,
 "nbformat_minor": 4
}
