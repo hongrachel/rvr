{
 "cells": [
  {
   "cell_type": "code",
   "execution_count": 52,
   "metadata": {},
   "outputs": [],
   "source": [
    "import tensorflow as tf\n",
    "import numpy as np\n",
    "import matplotlib.pyplot as plt\n",
    "import os\n",
    "import pickle\n",
    "import gzip"
   ]
  },
  {
   "cell_type": "code",
   "execution_count": 53,
   "metadata": {},
   "outputs": [],
   "source": [
    "myfilename = '/Users/rachelh/Programs/rvr/src/data_processing/mnist_6study_digit100_123RG806040_4BY70_5-1R10G10Y80-0R70G20Y10_6RB80_testnocolor_041620.npz'\n",
    "data = np.load(myfilename)"
   ]
  },
  {
   "cell_type": "code",
   "execution_count": 54,
   "metadata": {},
   "outputs": [
    {
     "data": {
      "text/plain": [
       "array([0, 1, 1, ..., 1, 0, 0])"
      ]
     },
     "execution_count": 54,
     "metadata": {},
     "output_type": "execute_result"
    }
   ],
   "source": [
    "x = data['x_train']\n",
    "y = data['y_train'][:,1]\n",
    "a = data['attr_train']\n",
    "\n",
    "x_test = data['x_test']\n",
    "y_test = data['y_test'][:,1]\n",
    "y_test"
   ]
  },
  {
   "cell_type": "code",
   "execution_count": 55,
   "metadata": {},
   "outputs": [],
   "source": [
    "x_1 = []\n",
    "y_1 = []\n",
    "x_2 = []\n",
    "y_2 = []\n",
    "x_3 = []\n",
    "y_3 = []\n",
    "x_4 = []\n",
    "y_4 = []\n",
    "x_5 = []\n",
    "y_5 = []\n",
    "x_6 = []\n",
    "y_6 = []\n",
    "\n",
    "for i in range(len(x)):\n",
    "    if np.all(a[i] == [1., 0., 0., 0., 0., 0., 0.]):\n",
    "        x_1.append(x[i])\n",
    "        y_1.append(y[i])\n",
    "    elif np.all(a[i] == [0., 1., 0., 0., 0., 0., 0.]):\n",
    "        x_2.append(x[i])\n",
    "        y_2.append(y[i])\n",
    "    elif np.all(a[i] == [0., 0., 1., 0., 0., 0., 0.]):\n",
    "        x_3.append(x[i])\n",
    "        y_3.append(y[i])\n",
    "    elif np.all(a[i] == [0., 0., 0., 1., 0., 0., 0.]):\n",
    "        x_4.append(x[i])\n",
    "        y_4.append(y[i])\n",
    "    elif np.all(a[i] == [0., 0., 0., 0., 1., 0., 0.]):\n",
    "        x_5.append(x[i])\n",
    "        y_5.append(y[i])\n",
    "    elif np.all(a[i] == [0., 0., 0., 0., 0., 1., 0.]):\n",
    "        x_6.append(x[i])\n",
    "        y_6.append(y[i])\n",
    "    \n",
    "x_1 = np.asarray(x_1)\n",
    "y_1 = np.asarray(y_1)\n",
    "x_2 = np.asarray(x_2)\n",
    "y_2 = np.asarray(y_2)\n",
    "x_3 = np.asarray(x_3)\n",
    "y_3 = np.asarray(y_3)\n",
    "x_4 = np.asarray(x_4)\n",
    "y_4 = np.asarray(y_4)\n",
    "x_5 = np.asarray(x_5)\n",
    "y_5 = np.asarray(y_5)\n",
    "x_6 = np.asarray(x_6)\n",
    "y_6 = np.asarray(y_6)"
   ]
  },
  {
   "cell_type": "code",
   "execution_count": 56,
   "metadata": {},
   "outputs": [],
   "source": [
    "by_domain = [(x_1, y_1), (x_2, y_2), (x_3, y_3), (x_4, y_4), (x_5, y_5), (x_6, y_6), (x_test, y_test)]"
   ]
  },
  {
   "cell_type": "code",
   "execution_count": 58,
   "metadata": {},
   "outputs": [
    {
     "data": {
      "text/plain": [
       "(10000,)"
      ]
     },
     "execution_count": 58,
     "metadata": {},
     "output_type": "execute_result"
    }
   ],
   "source": [
    "x_check, y_check = by_domain[0]\n",
    "y_check.shape"
   ]
  },
  {
   "cell_type": "code",
   "execution_count": 59,
   "metadata": {},
   "outputs": [],
   "source": [
    "#store the object\n",
    "store_path = os.path.expanduser('~/.torch/datasets/mnist_6study_unequal_color.pkl.gz')\n",
    "f = gzip.open(store_path,'wb')\n",
    "pickle.dump(by_domain,f,protocol=2)\n",
    "f.close()"
   ]
  },
  {
   "cell_type": "code",
   "execution_count": 60,
   "metadata": {},
   "outputs": [],
   "source": [
    "# path = os.path.expanduser('~/.torch/datasets/pacs_by_domain.pkl.gz')\n",
    "path = os.path.expanduser('~/.torch/datasets/mnist_6study_unequal_color.pkl.gz')"
   ]
  },
  {
   "cell_type": "code",
   "execution_count": 62,
   "metadata": {},
   "outputs": [],
   "source": [
    "all_domains = pickle.load(gzip.open(path, 'rb'))\n",
    "X, y = all_domains[-1]"
   ]
  },
  {
   "cell_type": "code",
   "execution_count": 74,
   "metadata": {},
   "outputs": [
    {
     "data": {
      "text/plain": [
       "0.13890767034783263"
      ]
     },
     "execution_count": 74,
     "metadata": {},
     "output_type": "execute_result"
    }
   ],
   "source": [
    "np.mean(X[11][::3])"
   ]
  },
  {
   "cell_type": "code",
   "execution_count": 75,
   "metadata": {},
   "outputs": [
    {
     "data": {
      "text/plain": [
       "(10000,)"
      ]
     },
     "execution_count": 75,
     "metadata": {},
     "output_type": "execute_result"
    }
   ],
   "source": [
    "y.shape"
   ]
  },
  {
   "cell_type": "code",
   "execution_count": 76,
   "metadata": {},
   "outputs": [
    {
     "data": {
      "text/plain": [
       "7"
      ]
     },
     "execution_count": 76,
     "metadata": {},
     "output_type": "execute_result"
    }
   ],
   "source": [
    "len(all_domains)"
   ]
  },
  {
   "cell_type": "code",
   "execution_count": null,
   "metadata": {},
   "outputs": [],
   "source": []
  }
 ],
 "metadata": {
  "kernelspec": {
   "display_name": "Python 2",
   "language": "python",
   "name": "python2"
  },
  "language_info": {
   "codemirror_mode": {
    "name": "ipython",
    "version": 2
   },
   "file_extension": ".py",
   "mimetype": "text/x-python",
   "name": "python",
   "nbconvert_exporter": "python",
   "pygments_lexer": "ipython2",
   "version": "2.7.16"
  }
 },
 "nbformat": 4,
 "nbformat_minor": 2
}
