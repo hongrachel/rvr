{
 "cells": [
  {
   "cell_type": "code",
   "execution_count": 14,
   "metadata": {},
   "outputs": [],
   "source": [
    "import math\n",
    "import pandas as pd \n",
    "import numpy as np\n",
    "from numpy.linalg import inv\n",
    "from scipy.linalg import eigh\n",
    "import csv\n",
    "from sklearn.svm import SVC\n",
    "from sklearn.metrics import classification_report, confusion_matrix\n",
    "import matplotlib.pyplot as plt"
   ]
  },
  {
   "cell_type": "code",
   "execution_count": 15,
   "metadata": {},
   "outputs": [],
   "source": [
    "# % dica - supervised domain-invariant component analysis on colored MNIST\n",
    "# %\n",
    "# % Synopsis\n",
    "# %   [V,D,X,Xt] = dica(Kx, Ky, Kt, groupIdx, lambda, epsilon, M)\n",
    "# %\n",
    "# % Description\n",
    "# %   Domain-invariant component analysis (DICA) finds a low dimensional\n",
    "# %   subspace of data points from several distributions so as to minimize \n",
    "# %   the variance among the distributions of projected data points. It also\n",
    "# %   takes into account the affinity in the output space.\n",
    "# % \n",
    "# %\n",
    "# % Inputs ([]s are optional)\n",
    "# %   (matrix) Kx         NxN kernel matrix between data points\n",
    "# %   (matrix) Ky         NxN kernel matrix between outputs\n",
    "# %   (matrix) Kt         NtxN kernel matrix between test samples and\n",
    "# %                           training samples\n",
    "# %   (vector) groupIdx   Nx1 vector of group membership of data points\n",
    "# %   (scalar) lambda     The regularization parameter (input)\n",
    "# %   (scalar) epsilon    The regularization parameter (output)\n",
    "# %   (scalar) M          The dimensionality of subspace (M < N)\n",
    "# %\n",
    "# % Outputs ([]s are optional)\n",
    "# %   (matrix) V          Nxdim matrix in which each column is the\n",
    "# %                       eigenvector\n",
    "# %   (matrix) D          MxM diagonal matrix in which the diagonal elements\n",
    "# %                       are eigenvalues associated with the eigenvectors in\n",
    "# %                       the matrix V\n",
    "# %   (matrix) X          MxN matrix in which each column is the projection\n",
    "# %                       of original data point onto the subspace spanned by\n",
    "# %                       the eigenvectors in the matrix V\n",
    "# %   (matrix) Xt         MxNt matrix in which each column is the projection\n",
    "# %                       of test data point onto the subspace spanned by\n",
    "# %                       the eigenvectors in the matrix V\n",
    "\n",
    "# % References\n",
    "# %   K. Muandet, D.Balduzzi,and B.Schölkopf, Domain Generalization via \n",
    "# %   Invariant Feature Representation. The 30th International Conference on \n",
    "# %   Machine Learning (ICML 2013), pages 10?18, Atlanta, Georgia.\n",
    "# %\n",
    "# % DICA Code Reference from\n",
    "# %   Krikamol Muandet <krikamol@tuebingen.mpg.de>"
   ]
  },
  {
   "cell_type": "code",
   "execution_count": 16,
   "metadata": {},
   "outputs": [],
   "source": [
    "myfilename = \"mnist_digit100_color90flipped_testpurple_022120.npz\"\n",
    "data = np.load(myfilename)"
   ]
  },
  {
   "cell_type": "code",
   "execution_count": 23,
   "metadata": {},
   "outputs": [
    {
     "data": {
      "text/plain": [
       "(10000, 2352)"
      ]
     },
     "execution_count": 23,
     "metadata": {},
     "output_type": "execute_result"
    }
   ],
   "source": [
    "x_train = data['x_train'][data['train_inds']]\n",
    "y_train = data['y_train'][data['train_inds']]\n",
    "a_train = data['attr_train'][data['train_inds']]\n",
    "x_test = data['x_test']\n",
    "y_test = data['y_test']\n",
    "x_test.shape"
   ]
  },
  {
   "cell_type": "code",
   "execution_count": 18,
   "metadata": {},
   "outputs": [
    {
     "data": {
      "text/plain": [
       "(7978, 2352)"
      ]
     },
     "execution_count": 18,
     "metadata": {},
     "output_type": "execute_result"
    }
   ],
   "source": [
    "x_train_1_arr = []\n",
    "y_train_1_arr = []\n",
    "x_train_2_arr = []\n",
    "y_train_2_arr = []\n",
    "for i in range(len(x_train)):\n",
    "    if np.all(a_train[i] == [1.,0.,0.]): # study 1\n",
    "        x_train_1_arr.append(x_train[i])\n",
    "        y_train_1_arr.append(y_train[i])\n",
    "    elif np.all(a_train[i] == [0.,1.,0.]): # study 2\n",
    "        x_train_2_arr.append(x_train[i])\n",
    "        y_train_2_arr.append(y_train[i])\n",
    "    else:\n",
    "        raise ValueError()\n",
    "\n",
    "x_train_1 = np.asarray(x_train_1_arr)\n",
    "y_train_1 = np.asarray(y_train_1_arr)\n",
    "x_train_2 = np.asarray(x_train_2_arr)\n",
    "y_train_2 = np.asarray(y_train_2_arr)\n",
    "x_train_1.shape"
   ]
  },
  {
   "cell_type": "code",
   "execution_count": 19,
   "metadata": {},
   "outputs": [],
   "source": [
    "def get_variance_x():\n",
    "    variance_sum = 0\n",
    "    for j in range(len(x_train_1[0])):\n",
    "        variance_sum += np.var(x_train_1[:,j])\n",
    "    for j in range(len(x_train_2[0])):\n",
    "        variance_sum += np.var(x_train_2[:,j])\n",
    "\n",
    "    return 1.0 * variance_sum / (len(x_train_1[0]) + len(x_train_2[0]))"
   ]
  },
  {
   "cell_type": "code",
   "execution_count": 20,
   "metadata": {},
   "outputs": [
    {
     "data": {
      "text/plain": [
       "0.029947557405004578"
      ]
     },
     "execution_count": 20,
     "metadata": {},
     "output_type": "execute_result"
    }
   ],
   "source": [
    "lmbda = 0.1\n",
    "eps = 0.001\n",
    "sigma_x = get_variance_x()\n",
    "M = 10000\n",
    "sigma_x"
   ]
  },
  {
   "cell_type": "code",
   "execution_count": 21,
   "metadata": {},
   "outputs": [
    {
     "name": "stdout",
     "output_type": "stream",
     "text": [
      "1.0\n"
     ]
    }
   ],
   "source": [
    "# define kernels\n",
    "\n",
    "def g_kernel_x(x_p, x_q): # x_p, x_q are images (encoded as 3*28*28 vectors) in i'th domain\n",
    "    dist = np.linalg.norm(x_p-x_q)**2\n",
    "    power = -1.0/(2.0*(sigma_x**2)) * dist\n",
    "    return math.exp(power)\n",
    "\n",
    "def g_kernel_y(a, b):\n",
    "    if np.all(a == b):\n",
    "        return 1\n",
    "    else:\n",
    "        return 0\n",
    "\n",
    "x_p = np.ones(3*28*28)\n",
    "x_q = np.ones(3*28*28)\n",
    "print(g_kernel_x(x_p, x_q))"
   ]
  },
  {
   "cell_type": "code",
   "execution_count": 22,
   "metadata": {},
   "outputs": [
    {
     "data": {
      "text/plain": [
       "array([1, 1, 1, ..., 2, 2, 2])"
      ]
     },
     "execution_count": 22,
     "metadata": {},
     "output_type": "execute_result"
    }
   ],
   "source": [
    "# create groupIdx\n",
    "study_1s = np.asarray([1]*len(x_train_1))\n",
    "study_2s = np.asarray([2]*len(x_train_2))\n",
    "groupIdx = np.concatenate((study_1s, study_2s), axis=None)\n",
    "groupIdx"
   ]
  },
  {
   "cell_type": "code",
   "execution_count": 25,
   "metadata": {},
   "outputs": [],
   "source": [
    "n = len(x_train)\n",
    "s_1 = len(x_train_1)"
   ]
  },
  {
   "cell_type": "code",
   "execution_count": 14,
   "metadata": {},
   "outputs": [
    {
     "ename": "KeyboardInterrupt",
     "evalue": "",
     "output_type": "error",
     "traceback": [
      "\u001b[0;31m---------------------------------------------------------------------------\u001b[0m",
      "\u001b[0;31mKeyboardInterrupt\u001b[0m                         Traceback (most recent call last)",
      "\u001b[0;32m<ipython-input-14-d2e98bfbc220>\u001b[0m in \u001b[0;36m<module>\u001b[0;34m\u001b[0m\n\u001b[1;32m     16\u001b[0m         \u001b[0;32melse\u001b[0m\u001b[0;34m:\u001b[0m\u001b[0;34m\u001b[0m\u001b[0;34m\u001b[0m\u001b[0m\n\u001b[1;32m     17\u001b[0m             \u001b[0mx_q\u001b[0m \u001b[0;34m=\u001b[0m \u001b[0mx_train_2\u001b[0m\u001b[0;34m[\u001b[0m\u001b[0mj\u001b[0m\u001b[0;34m-\u001b[0m\u001b[0ms_1\u001b[0m\u001b[0;34m]\u001b[0m\u001b[0;34m\u001b[0m\u001b[0;34m\u001b[0m\u001b[0m\n\u001b[0;32m---> 18\u001b[0;31m         \u001b[0mk_x\u001b[0m\u001b[0;34m[\u001b[0m\u001b[0mi\u001b[0m\u001b[0;34m]\u001b[0m\u001b[0;34m[\u001b[0m\u001b[0mj\u001b[0m\u001b[0;34m]\u001b[0m \u001b[0;34m=\u001b[0m \u001b[0mg_kernel_x\u001b[0m\u001b[0;34m(\u001b[0m\u001b[0mx_p\u001b[0m\u001b[0;34m,\u001b[0m \u001b[0mx_q\u001b[0m\u001b[0;34m)\u001b[0m\u001b[0;34m\u001b[0m\u001b[0;34m\u001b[0m\u001b[0m\n\u001b[0m\u001b[1;32m     19\u001b[0m \u001b[0mk_x\u001b[0m\u001b[0;34m[\u001b[0m\u001b[0;36m0\u001b[0m\u001b[0;34m]\u001b[0m\u001b[0;34m\u001b[0m\u001b[0;34m\u001b[0m\u001b[0m\n\u001b[1;32m     20\u001b[0m \u001b[0;34m\u001b[0m\u001b[0m\n",
      "\u001b[0;32m<ipython-input-9-99aa0d1e70ed>\u001b[0m in \u001b[0;36mg_kernel_x\u001b[0;34m(x_p, x_q)\u001b[0m\n\u001b[1;32m      2\u001b[0m \u001b[0;34m\u001b[0m\u001b[0m\n\u001b[1;32m      3\u001b[0m \u001b[0;32mdef\u001b[0m \u001b[0mg_kernel_x\u001b[0m\u001b[0;34m(\u001b[0m\u001b[0mx_p\u001b[0m\u001b[0;34m,\u001b[0m \u001b[0mx_q\u001b[0m\u001b[0;34m)\u001b[0m\u001b[0;34m:\u001b[0m \u001b[0;31m# x_p, x_q are images (encoded as 3*28*28 vectors) in i'th domain\u001b[0m\u001b[0;34m\u001b[0m\u001b[0;34m\u001b[0m\u001b[0m\n\u001b[0;32m----> 4\u001b[0;31m     \u001b[0mdist\u001b[0m \u001b[0;34m=\u001b[0m \u001b[0mnp\u001b[0m\u001b[0;34m.\u001b[0m\u001b[0mlinalg\u001b[0m\u001b[0;34m.\u001b[0m\u001b[0mnorm\u001b[0m\u001b[0;34m(\u001b[0m\u001b[0mx_p\u001b[0m\u001b[0;34m-\u001b[0m\u001b[0mx_q\u001b[0m\u001b[0;34m)\u001b[0m\u001b[0;34m**\u001b[0m\u001b[0;36m2\u001b[0m\u001b[0;34m\u001b[0m\u001b[0;34m\u001b[0m\u001b[0m\n\u001b[0m\u001b[1;32m      5\u001b[0m     \u001b[0mpower\u001b[0m \u001b[0;34m=\u001b[0m \u001b[0;34m-\u001b[0m\u001b[0;36m1.0\u001b[0m\u001b[0;34m/\u001b[0m\u001b[0;34m(\u001b[0m\u001b[0;36m2.0\u001b[0m\u001b[0;34m*\u001b[0m\u001b[0;34m(\u001b[0m\u001b[0msigma_x\u001b[0m\u001b[0;34m**\u001b[0m\u001b[0;36m2\u001b[0m\u001b[0;34m)\u001b[0m\u001b[0;34m)\u001b[0m \u001b[0;34m*\u001b[0m \u001b[0mdist\u001b[0m\u001b[0;34m\u001b[0m\u001b[0;34m\u001b[0m\u001b[0m\n\u001b[1;32m      6\u001b[0m     \u001b[0;32mreturn\u001b[0m \u001b[0mmath\u001b[0m\u001b[0;34m.\u001b[0m\u001b[0mexp\u001b[0m\u001b[0;34m(\u001b[0m\u001b[0mpower\u001b[0m\u001b[0;34m)\u001b[0m\u001b[0;34m\u001b[0m\u001b[0;34m\u001b[0m\u001b[0m\n",
      "\u001b[0;32m<__array_function__ internals>\u001b[0m in \u001b[0;36mnorm\u001b[0;34m(*args, **kwargs)\u001b[0m\n",
      "\u001b[0;32m/anaconda2/envs/p36workshop/lib/python3.6/site-packages/numpy/linalg/linalg.py\u001b[0m in \u001b[0;36mnorm\u001b[0;34m(x, ord, axis, keepdims)\u001b[0m\n\u001b[1;32m   2460\u001b[0m     \u001b[0mx\u001b[0m \u001b[0;34m=\u001b[0m \u001b[0masarray\u001b[0m\u001b[0;34m(\u001b[0m\u001b[0mx\u001b[0m\u001b[0;34m)\u001b[0m\u001b[0;34m\u001b[0m\u001b[0;34m\u001b[0m\u001b[0m\n\u001b[1;32m   2461\u001b[0m \u001b[0;34m\u001b[0m\u001b[0m\n\u001b[0;32m-> 2462\u001b[0;31m     \u001b[0;32mif\u001b[0m \u001b[0;32mnot\u001b[0m \u001b[0missubclass\u001b[0m\u001b[0;34m(\u001b[0m\u001b[0mx\u001b[0m\u001b[0;34m.\u001b[0m\u001b[0mdtype\u001b[0m\u001b[0;34m.\u001b[0m\u001b[0mtype\u001b[0m\u001b[0;34m,\u001b[0m \u001b[0;34m(\u001b[0m\u001b[0minexact\u001b[0m\u001b[0;34m,\u001b[0m \u001b[0mobject_\u001b[0m\u001b[0;34m)\u001b[0m\u001b[0;34m)\u001b[0m\u001b[0;34m:\u001b[0m\u001b[0;34m\u001b[0m\u001b[0;34m\u001b[0m\u001b[0m\n\u001b[0m\u001b[1;32m   2463\u001b[0m         \u001b[0mx\u001b[0m \u001b[0;34m=\u001b[0m \u001b[0mx\u001b[0m\u001b[0;34m.\u001b[0m\u001b[0mastype\u001b[0m\u001b[0;34m(\u001b[0m\u001b[0mfloat\u001b[0m\u001b[0;34m)\u001b[0m\u001b[0;34m\u001b[0m\u001b[0;34m\u001b[0m\u001b[0m\n\u001b[1;32m   2464\u001b[0m \u001b[0;34m\u001b[0m\u001b[0m\n",
      "\u001b[0;31mKeyboardInterrupt\u001b[0m: "
     ]
    }
   ],
   "source": [
    "# create k_x\n",
    "\n",
    "k_x = np.zeros((n, n))\n",
    "k_x.shape\n",
    "\n",
    "for i in range(n):\n",
    "    if i < s_1:\n",
    "        x_p = x_train_1[i]\n",
    "    else:\n",
    "        x_p = x_train_2[i-s_1]\n",
    "        \n",
    "    for j in range(n):\n",
    "        if j < s_1:\n",
    "            x_q = x_train_1[j]\n",
    "        else:\n",
    "            x_q = x_train_2[j-s_1]\n",
    "        k_x[i][j] = g_kernel_x(x_p, x_q)\n",
    "k_x[0]\n",
    "        "
   ]
  },
  {
   "cell_type": "code",
   "execution_count": 15,
   "metadata": {},
   "outputs": [
    {
     "ename": "KeyboardInterrupt",
     "evalue": "",
     "output_type": "error",
     "traceback": [
      "\u001b[0;31m---------------------------------------------------------------------------\u001b[0m",
      "\u001b[0;31mKeyboardInterrupt\u001b[0m                         Traceback (most recent call last)",
      "\u001b[0;32m<ipython-input-15-ceffc60f01f1>\u001b[0m in \u001b[0;36m<module>\u001b[0;34m\u001b[0m\n\u001b[1;32m     15\u001b[0m         \u001b[0;32melse\u001b[0m\u001b[0;34m:\u001b[0m\u001b[0;34m\u001b[0m\u001b[0;34m\u001b[0m\u001b[0m\n\u001b[1;32m     16\u001b[0m             \u001b[0my_q\u001b[0m \u001b[0;34m=\u001b[0m \u001b[0my_train_2\u001b[0m\u001b[0;34m[\u001b[0m\u001b[0mj\u001b[0m\u001b[0;34m-\u001b[0m\u001b[0ms_1\u001b[0m\u001b[0;34m]\u001b[0m\u001b[0;34m\u001b[0m\u001b[0;34m\u001b[0m\u001b[0m\n\u001b[0;32m---> 17\u001b[0;31m         \u001b[0mk_y\u001b[0m\u001b[0;34m[\u001b[0m\u001b[0mi\u001b[0m\u001b[0;34m]\u001b[0m\u001b[0;34m[\u001b[0m\u001b[0mj\u001b[0m\u001b[0;34m]\u001b[0m \u001b[0;34m=\u001b[0m \u001b[0mg_kernel_y\u001b[0m\u001b[0;34m(\u001b[0m\u001b[0my_p\u001b[0m\u001b[0;34m,\u001b[0m \u001b[0my_q\u001b[0m\u001b[0;34m)\u001b[0m\u001b[0;34m\u001b[0m\u001b[0;34m\u001b[0m\u001b[0m\n\u001b[0m\u001b[1;32m     18\u001b[0m \u001b[0mk_y\u001b[0m\u001b[0;34m[\u001b[0m\u001b[0;36m0\u001b[0m\u001b[0;34m]\u001b[0m\u001b[0;34m\u001b[0m\u001b[0;34m\u001b[0m\u001b[0m\n",
      "\u001b[0;32m<ipython-input-9-99aa0d1e70ed>\u001b[0m in \u001b[0;36mg_kernel_y\u001b[0;34m(a, b)\u001b[0m\n\u001b[1;32m      7\u001b[0m \u001b[0;34m\u001b[0m\u001b[0m\n\u001b[1;32m      8\u001b[0m \u001b[0;32mdef\u001b[0m \u001b[0mg_kernel_y\u001b[0m\u001b[0;34m(\u001b[0m\u001b[0ma\u001b[0m\u001b[0;34m,\u001b[0m \u001b[0mb\u001b[0m\u001b[0;34m)\u001b[0m\u001b[0;34m:\u001b[0m\u001b[0;34m\u001b[0m\u001b[0;34m\u001b[0m\u001b[0m\n\u001b[0;32m----> 9\u001b[0;31m     \u001b[0;32mif\u001b[0m \u001b[0mnp\u001b[0m\u001b[0;34m.\u001b[0m\u001b[0mall\u001b[0m\u001b[0;34m(\u001b[0m\u001b[0ma\u001b[0m \u001b[0;34m==\u001b[0m \u001b[0mb\u001b[0m\u001b[0;34m)\u001b[0m\u001b[0;34m:\u001b[0m\u001b[0;34m\u001b[0m\u001b[0;34m\u001b[0m\u001b[0m\n\u001b[0m\u001b[1;32m     10\u001b[0m         \u001b[0;32mreturn\u001b[0m \u001b[0;36m1\u001b[0m\u001b[0;34m\u001b[0m\u001b[0;34m\u001b[0m\u001b[0m\n\u001b[1;32m     11\u001b[0m     \u001b[0;32melse\u001b[0m\u001b[0;34m:\u001b[0m\u001b[0;34m\u001b[0m\u001b[0;34m\u001b[0m\u001b[0m\n",
      "\u001b[0;31mKeyboardInterrupt\u001b[0m: "
     ]
    }
   ],
   "source": [
    "# create k_y\n",
    "\n",
    "k_y = np.zeros((n, n))\n",
    "k_y.shape\n",
    "\n",
    "for i in range(n):\n",
    "    if i < s_1:\n",
    "        y_p = y_train_1[i]\n",
    "    else:\n",
    "        y_p = y_train_2[i-s_1]\n",
    "        \n",
    "    for j in range(n):\n",
    "        if j < s_1:\n",
    "            y_q = y_train_1[j]\n",
    "        else:\n",
    "            y_q = y_train_2[j-s_1]\n",
    "        k_y[i][j] = g_kernel_y(y_p, y_q)\n",
    "k_y[0]"
   ]
  },
  {
   "cell_type": "code",
   "execution_count": 29,
   "metadata": {},
   "outputs": [
    {
     "name": "stdout",
     "output_type": "stream",
     "text": [
      "\n"
     ]
    }
   ],
   "source": [
    "# create k_t\n",
    "\n",
    "n_t = 10 # len(x_test)\n",
    "k_t = np.zeros((n_t, n))\n",
    "k_t.shape\n",
    "\n",
    "for i in range(n_t):\n",
    "    x_pt = x_test[i]\n",
    "    print(x_pt)\n",
    "        \n",
    "    for j in range(n):\n",
    "        if j < s_1:\n",
    "            x_q = x_train_1[j]\n",
    "        else:\n",
    "            x_q = x_train_2[j-s_1]\n",
    "        k_t[i][j] = g_kernel_x(x_pt, x_q)\n",
    "s = \"\"\n",
    "for i in range(len(k_t[0])):\n",
    "    if k_t[0][i] != 0.:\n",
    "        s += str(i)\n",
    "print(s)"
   ]
  },
  {
   "cell_type": "code",
   "execution_count": 24,
   "metadata": {},
   "outputs": [
    {
     "data": {
      "text/plain": [
       "(16000, 16000)"
      ]
     },
     "execution_count": 24,
     "metadata": {},
     "output_type": "execute_result"
    }
   ],
   "source": [
    "k_y.shape"
   ]
  },
  {
   "cell_type": "code",
   "execution_count": 33,
   "metadata": {},
   "outputs": [],
   "source": [
    "def dica(Kx, Ky, Kt, groupIdx, lmbda, eps, M):\n",
    "    N = len(Kx[0])\n",
    "    Nt = len(Kt[0])\n",
    "    uniqueGroupIdx = np.unique(groupIdx)\n",
    "    G = len(uniqueGroupIdx)\n",
    "    NG = [s_1, n-s_1]\n",
    "\n",
    "\n",
    "    H = 1.0*np.identity(N)-1.0*np.ones(N)/N\n",
    "\n",
    "    L = np.zeros((N, N))\n",
    "    \n",
    "\n",
    "    for i in range(0, N):\n",
    "        for j in range(0,N):\n",
    "            if groupIdx[i] == groupIdx[j]:\n",
    "                groupSize = NG[groupIdx[i]-1]\n",
    "            else: \n",
    "                groupSize_i = NG[groupIdx[i]-1]\n",
    "                groupSize_j = NG[groupIdx[j]-1]\n",
    "                L[i][j] = -1.0/(G*G*groupSize_i*groupSize_j)\n",
    "\n",
    "\n",
    "    Ky = np.dot(np.dot(H,Ky),H)\n",
    "    Kx = np.dot(np.dot(H,Kx),H)\n",
    "\n",
    "    B = np.dot(Ky, np.dot(inv(Ky+N*eps*np.identity(N)),np.dot(Kx,Kx)))\n",
    "    A = np.dot(inv(np.dot(np.dot(Kx,L),Kx)+Kx+lmbda*np.identity(N)),B)\n",
    "\n",
    "    w, v = eigh(A)  # w is the eigenvalues and v are the eigenmatrix, increasing order\n",
    "    V = v[:, (len(w)-M):]\n",
    "    D = np.diag(w[(len(w)-M):])\n",
    "    Evals = np.real(D)\n",
    "\n",
    "    for i in range(0,M):\n",
    "        V[:,i] = V[:,i]/(Evals[i,i])**0.5\n",
    "\n",
    "\n",
    "    X = np.dot(V.T,Kx)\n",
    "\n",
    "    Ht = np.identity(Nt)-np.ones(Nt)/Nt\n",
    "    Kt = np.dot(np.dot(Ht,Kt),H)\n",
    "    Xt = np.dot(V.T,Kt.T)\n",
    "    return (V, D, X, Xt)"
   ]
  },
  {
   "cell_type": "code",
   "execution_count": 32,
   "metadata": {},
   "outputs": [],
   "source": [
    "Nt = 100\n",
    "N = 160\n",
    "H = 1.0*np.identity(N)-1.0*np.ones(N)/N\n",
    "Ht = np.identity(Nt)-np.ones(Nt)/Nt\n",
    "Kt = np.zeros((Nt, N))\n",
    "Kt.shape\n",
    "Kt = np.dot(np.dot(Ht,Kt),H)"
   ]
  },
  {
   "cell_type": "code",
   "execution_count": 20,
   "metadata": {},
   "outputs": [
    {
     "data": {
      "text/plain": [
       "(160, 160)"
      ]
     },
     "execution_count": 20,
     "metadata": {},
     "output_type": "execute_result"
    }
   ],
   "source": [
    "np.dot(Ht,Kt).shape\n",
    "H.shape"
   ]
  },
  {
   "cell_type": "code",
   "execution_count": null,
   "metadata": {},
   "outputs": [],
   "source": [
    "# run DICA to get X and Xt\n",
    "(V, D, X, Xt) = dica(k_x, k_y, k_t, groupIdx, lmbda, eps, M)"
   ]
  },
  {
   "cell_type": "code",
   "execution_count": 12,
   "metadata": {},
   "outputs": [
    {
     "data": {
      "text/plain": [
       "array([0, 1, 1, ..., 1, 0, 0])"
      ]
     },
     "execution_count": 12,
     "metadata": {},
     "output_type": "execute_result"
    }
   ],
   "source": [
    "y_train_labels = y_train[:,0]\n",
    "y_test_labels = y_test[:,0]\n",
    "y_test_labels"
   ]
  },
  {
   "cell_type": "code",
   "execution_count": 41,
   "metadata": {},
   "outputs": [
    {
     "data": {
      "text/plain": [
       "(16000, 6000)"
      ]
     },
     "execution_count": 41,
     "metadata": {},
     "output_type": "execute_result"
    }
   ],
   "source": [
    "small = 5000\n",
    "x_train.shape\n",
    "X = np.zeros((6000, 16000))\n",
    "np.transpose(X).shape"
   ]
  },
  {
   "cell_type": "code",
   "execution_count": 15,
   "metadata": {},
   "outputs": [
    {
     "name": "stdout",
     "output_type": "stream",
     "text": [
      "[[1927  512]\n",
      " [ 447 2114]]\n",
      "              precision    recall  f1-score   support\n",
      "\n",
      "           0       0.81      0.79      0.80      2439\n",
      "           1       0.81      0.83      0.82      2561\n",
      "\n",
      "    accuracy                           0.81      5000\n",
      "   macro avg       0.81      0.81      0.81      5000\n",
      "weighted avg       0.81      0.81      0.81      5000\n",
      "\n"
     ]
    }
   ],
   "source": [
    "\n",
    "svclassifier = SVC(kernel='linear')\n",
    "svclassifier.fit(x_train[:small], y_train_labels[:small])\n",
    "y_pred = svclassifier.predict(x_test[:small])\n",
    "print(confusion_matrix(y_test_labels[:small],y_pred))\n",
    "print(classification_report(y_test_labels[:small],y_pred))"
   ]
  },
  {
   "cell_type": "code",
   "execution_count": 54,
   "metadata": {},
   "outputs": [],
   "source": [
    "# train SVM on X and Xt?\n",
    "svclassifier = SVC(kernel='linear')\n",
    "svclassifier.fit(X, y_train_labels)"
   ]
  },
  {
   "cell_type": "code",
   "execution_count": null,
   "metadata": {},
   "outputs": [],
   "source": [
    "# evaluate SVM?\n",
    "\n",
    "y_pred = svclassifier.predict(Xt)\n",
    "print(confusion_matrix(y_test_labels,y_pred))\n",
    "print(classification_report(y_test_labels,y_pred))"
   ]
  }
 ],
 "metadata": {
  "kernelspec": {
   "display_name": "p36workshop",
   "language": "python",
   "name": "p36workshop"
  },
  "language_info": {
   "codemirror_mode": {
    "name": "ipython",
    "version": 3
   },
   "file_extension": ".py",
   "mimetype": "text/x-python",
   "name": "python",
   "nbconvert_exporter": "python",
   "pygments_lexer": "ipython3",
   "version": "3.6.10"
  }
 },
 "nbformat": 4,
 "nbformat_minor": 2
}
