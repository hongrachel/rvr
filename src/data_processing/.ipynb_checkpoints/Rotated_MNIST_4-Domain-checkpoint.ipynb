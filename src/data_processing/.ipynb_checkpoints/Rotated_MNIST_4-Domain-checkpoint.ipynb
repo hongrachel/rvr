{
 "cells": [
  {
   "cell_type": "code",
   "execution_count": 1,
   "metadata": {},
   "outputs": [],
   "source": [
    "import tensorflow as tf\n",
    "import numpy as np\n",
    "import matplotlib.pyplot as plt\n"
   ]
  },
  {
   "cell_type": "code",
   "execution_count": 2,
   "metadata": {},
   "outputs": [],
   "source": [
    "# Load MNIST data from keras\n",
    "(x_train, y_train), (x_test, y_test) = tf.keras.datasets.mnist.load_data()"
   ]
  },
  {
   "cell_type": "code",
   "execution_count": 3,
   "metadata": {},
   "outputs": [
    {
     "name": "stdout",
     "output_type": "stream",
     "text": [
      "(60000, 28, 28)\n"
     ]
    }
   ],
   "source": [
    "# Convert pixel values from 0 to 255 to [0,1] range\n",
    "x_train = x_train/255.\n",
    "print (x_train.shape)\n",
    "x_test = x_test/255."
   ]
  },
  {
   "cell_type": "code",
   "execution_count": 4,
   "metadata": {},
   "outputs": [
    {
     "name": "stdout",
     "output_type": "stream",
     "text": [
      "8\n"
     ]
    },
    {
     "data": {
      "text/plain": [
       "<matplotlib.image.AxesImage at 0xb2d92da50>"
      ]
     },
     "execution_count": 4,
     "metadata": {},
     "output_type": "execute_result"
    },
    {
     "data": {
      "image/png": "[encoded data removed]",
      "text/plain": [
       "<Figure size 432x288 with 1 Axes>"
      ]
     },
     "metadata": {
      "needs_background": "light"
     },
     "output_type": "display_data"
    }
   ],
   "source": [
    "image_index = 7777 # You may select anything up to 60,000\n",
    "print(y_train[image_index]) # The label is 8\n",
    "image = x_train[image_index]\n",
    "plt.imshow(image, cmap='Greys')"
   ]
  },
  {
   "cell_type": "code",
   "execution_count": 5,
   "metadata": {},
   "outputs": [
    {
     "data": {
      "text/plain": [
       "(28, 28)"
      ]
     },
     "execution_count": 5,
     "metadata": {},
     "output_type": "execute_result"
    },
    {
     "data": {
      "image/png": "[encoded data removed]",
      "text/plain": [
       "<Figure size 432x288 with 1 Axes>"
      ]
     },
     "metadata": {
      "needs_background": "light"
     },
     "output_type": "display_data"
    }
   ],
   "source": [
    "from scipy import ndimage, misc\n",
    "\n",
    "rotated_x = ndimage.rotate(image, -45, reshape=False)\n",
    "plt.imshow(rotated_x, cmap='Greys')\n",
    "rotated_x.shape"
   ]
  },
  {
   "cell_type": "code",
   "execution_count": 6,
   "metadata": {},
   "outputs": [
    {
     "name": "stdout",
     "output_type": "stream",
     "text": [
      "[5 0 4 ... 5 6 8]\n",
      "[7 2 1 ... 4 5 6]\n"
     ]
    }
   ],
   "source": [
    "print(y_train)\n",
    "print(y_test)"
   ]
  },
  {
   "cell_type": "code",
   "execution_count": 7,
   "metadata": {},
   "outputs": [],
   "source": [
    "new_y_train = np.array([1 if y > 4 else 0 for y in y_train])\n",
    "new_y_test = np.array([1 if y > 4 else 0 for y in y_test])"
   ]
  },
  {
   "cell_type": "code",
   "execution_count": 8,
   "metadata": {},
   "outputs": [],
   "source": [
    "# add noise to label\n",
    "\n",
    "# I SKIP THIS STEP FOR NEW DATASET\n",
    "# for i, y in enumerate(new_y_train):\n",
    "#     if np.random.random() < 0.25:\n",
    "#         new_y_train[i] = 1 - y\n",
    "\n",
    "# for i, y in enumerate(new_y_test):\n",
    "#     if np.random.random() < 0.25:\n",
    "#         new_y_test[i] = 1 - y"
   ]
  },
  {
   "cell_type": "code",
   "execution_count": 9,
   "metadata": {},
   "outputs": [],
   "source": [
    "n = 30000"
   ]
  },
  {
   "cell_type": "code",
   "execution_count": 10,
   "metadata": {},
   "outputs": [
    {
     "name": "stdout",
     "output_type": "stream",
     "text": [
      "[[0 1]\n",
      " [1 0]\n",
      " [1 0]\n",
      " ...\n",
      " [0 1]\n",
      " [0 1]\n",
      " [0 1]]\n"
     ]
    },
    {
     "data": {
      "text/plain": [
       "array([[0, 1],\n",
       "       [1, 0],\n",
       "       [1, 0],\n",
       "       ...,\n",
       "       [1, 0],\n",
       "       [0, 1],\n",
       "       [0, 1]])"
      ]
     },
     "execution_count": 10,
     "metadata": {},
     "output_type": "execute_result"
    }
   ],
   "source": [
    "new_y_train_dub = np.vstack((1 - new_y_train, new_y_train)).T\n",
    "print(new_y_train_dub)\n",
    "new_y_test_dub = np.vstack((1 - new_y_test, new_y_test)).T\n",
    "new_y_test_dub"
   ]
  },
  {
   "cell_type": "code",
   "execution_count": 11,
   "metadata": {},
   "outputs": [],
   "source": [
    "# study 1: 90 degrees left for y=0, 90 degrees right for y=1\n",
    "# flip colors 80% of time\n",
    "rotations_1 = np.copy(new_y_train[:n])\n",
    "for i, c in enumerate(rotations_1):\n",
    "    if np.random.random() < 0.8:\n",
    "        rotations_1[i] = 1 - c\n",
    "\n",
    "\n",
    "# study 2: 90 degrees right for y=0, 90 degrees left for y=1\n",
    "# flip colors 80% of the time\n",
    "rotations_2 = np.copy(new_y_train[n:2*n])\n",
    "for i, c in enumerate(rotations_2):\n",
    "    if np.random.random() < 0.2:\n",
    "        rotations_2[i] = 1 - c\n",
    "\n",
    "\n",
    "# # study 3: 45 degrees left for y=0, 135 degrees right for y=1\n",
    "# # flip colors 80% of time\n",
    "# rotations_3 = np.copy(new_y_train[2*n:3*n])\n",
    "# for i, c in enumerate(rotations_3):\n",
    "#     if np.random.random() < 0.8:\n",
    "#         rotations_3[i] = 1 - c\n",
    "\n",
    "\n",
    "# # study 4: 135 degrees right for y=0, 45 degrees left for y=1\n",
    "# # flip colors 80% of the time\n",
    "# rotations_4 = np.copy(new_y_train[3*n:4*n])\n",
    "# for i, c in enumerate(rotations_4):\n",
    "#     if np.random.random() < 0.2:\n",
    "#         rotations_4[i] = 1 - c\n",
    "        \n",
    "# # study 5: 45 degrees left for y=0, 135 degrees right for y=1\n",
    "# # flip colors 80% of time\n",
    "# rotations_5 = np.copy(new_y_train[4*n:5*n])\n",
    "# for i, c in enumerate(rotations_5):\n",
    "#     if np.random.random() < 0.8:\n",
    "#         rotations_5[i] = 1 - c\n",
    "\n",
    "\n",
    "# # study 6: 135 degrees right for y=0, 45 degrees left for y=1\n",
    "# # flip colors 80% of the time\n",
    "# rotations_6 = np.copy(new_y_train[5*n:6*n])\n",
    "# for i, c in enumerate(rotations_6):\n",
    "#     if np.random.random() < 0.2:\n",
    "#         rotations_6[i] = 1 - c\n",
    "\n",
    "\n",
    "# # study 7: 135 degrees left for y=0, 45 degrees right for y=1\n",
    "# # flip colors 80% of time\n",
    "# rotations_7 = np.copy(new_y_train[6*n:7*n])\n",
    "# for i, c in enumerate(rotations_7):\n",
    "#     if np.random.random() < 0.8:\n",
    "#         rotations_7[i] = 1 - c\n",
    "\n",
    "\n",
    "# # study 8: 45 degrees right for y=0, 135 degrees left for y=1\n",
    "# # flip colors 80% of the time\n",
    "# rotations_8 = np.copy(new_y_train[7*n:8*n])\n",
    "# for i, c in enumerate(rotations_8):\n",
    "#     if np.random.random() < 0.2:\n",
    "#         rotations_8[i] = 1 - c\n",
    "        \n",
    "        \n",
    "# test: red for y=0, green for y = 1\n",
    "# flip colors 50% of the time\n",
    "\n",
    "rotations_test = np.copy(new_y_test[:n])\n",
    "for i, c in enumerate(rotations_test):\n",
    "    if np.random.random() < 0.5:\n",
    "        pass\n",
    "        # rotations_test[i] = 1 - c"
   ]
  },
  {
   "cell_type": "code",
   "execution_count": 12,
   "metadata": {},
   "outputs": [
    {
     "data": {
      "text/plain": [
       "5977"
      ]
     },
     "execution_count": 12,
     "metadata": {},
     "output_type": "execute_result"
    }
   ],
   "source": [
    "#np.sum(np.abs(rotations_1 - new_y_train[:n]))\n",
    "np.sum(np.abs(rotations_2 - new_y_train[n:2*n]))"
   ]
  },
  {
   "cell_type": "code",
   "execution_count": 13,
   "metadata": {},
   "outputs": [],
   "source": [
    "numstudies = 2"
   ]
  },
  {
   "cell_type": "code",
   "execution_count": 14,
   "metadata": {},
   "outputs": [
    {
     "name": "stdout",
     "output_type": "stream",
     "text": [
      "(60000, 28, 28, 3)\n",
      "(30000, 28, 28, 3)\n"
     ]
    }
   ],
   "source": [
    "new_x_train = np.zeros((numstudies*n, 28, 28, 3))\n",
    "print new_x_train.shape\n",
    "new_x_test = np.zeros((n, 28, 28, 3))\n",
    "print new_x_test.shape"
   ]
  },
  {
   "cell_type": "code",
   "execution_count": 15,
   "metadata": {},
   "outputs": [
    {
     "name": "stdout",
     "output_type": "stream",
     "text": [
      "300\n"
     ]
    }
   ],
   "source": [
    "x = np.random.randint(0, 360)\n",
    "print(x)"
   ]
  },
  {
   "cell_type": "code",
   "execution_count": 16,
   "metadata": {},
   "outputs": [],
   "source": [
    "# study 1\n",
    "for i in range(n):\n",
    "#     degree = np.random.randint(0, 360)\n",
    "    x_img = x_train[i]\n",
    "#     rotated_img = ndimage.rotate(x_img, degree, reshape=False)\n",
    "#     img = np.reshape(rotated_img, (28, 28, 1))\n",
    "#     new = np.concatenate([img, img, img], axis=2)\n",
    "    if rotations_1[i] == 0: # rotate 45 degrees left\n",
    "        rotated_img = ndimage.rotate(x_img, -90, reshape=False)\n",
    "        img = np.reshape(rotated_img, (28, 28, 1))\n",
    "        new = np.concatenate([img, img, img], axis=2)\n",
    "    else: # rotate 45 degrees right\n",
    "        rotated_img = ndimage.rotate(x_img, 90, reshape=False)\n",
    "        img = np.reshape(rotated_img, (28, 28, 1))\n",
    "        new = np.concatenate([img, img, img], axis=2)\n",
    "    new_x_train[i] = new\n",
    "    \n",
    "# study 2\n",
    "for i in range(n):\n",
    "#     degree = np.random.randint(0, 360)\n",
    "    x_img = x_train[n+i]\n",
    "#     rotated_img = ndimage.rotate(x_img, degree, reshape=False)\n",
    "#     img = np.reshape(rotated_img, (28, 28, 1))\n",
    "#     new = np.concatenate([img, img, img], axis=2)\n",
    "    if rotations_2[i] == 0: # rotate 45 degrees left\n",
    "        rotated_img = ndimage.rotate(x_img, -90, reshape=False)\n",
    "        img = np.reshape(rotated_img, (28, 28, 1))\n",
    "        new = np.concatenate([img, img, img], axis=2)\n",
    "    else: # rotate 45 degrees right\n",
    "        rotated_img = ndimage.rotate(x_img, 90, reshape=False)\n",
    "        img = np.reshape(rotated_img, (28, 28, 1))\n",
    "        new = np.concatenate([img, img, img], axis=2)\n",
    "    new_x_train[n+i] = new\n",
    "\n",
    "# # study 3\n",
    "# for i in range(n):\n",
    "#     x_img = x_train[i]\n",
    "#     if rotations_3[i] == 0: # rotate 0 degrees left\n",
    "#         rotated_img = ndimage.rotate(x_img, 0, reshape=False)\n",
    "#         img = np.reshape(rotated_img, (28, 28, 1))\n",
    "#         new = np.concatenate([img, img, img], axis=2)\n",
    "#     else: # rotate 180 degrees right\n",
    "#         rotated_img = ndimage.rotate(x_img, 180, reshape=False)\n",
    "#         img = np.reshape(rotated_img, (28, 28, 1))\n",
    "#         new = np.concatenate([img, img, img], axis=2)\n",
    "#     new_x_train[2*n+i] = new\n",
    "    \n",
    "# # study 4\n",
    "# for i in range(n):\n",
    "#     x_img = x_train[i]\n",
    "#     if rotations_4[i] == 0: # rotate 0 degrees left\n",
    "#         rotated_img = ndimage.rotate(x_img, 0, reshape=False)\n",
    "#         img = np.reshape(rotated_img, (28, 28, 1))\n",
    "#         new = np.concatenate([img, img, img], axis=2)\n",
    "#     else: # rotate 180 degrees right\n",
    "#         rotated_img = ndimage.rotate(x_img, 180, reshape=False)\n",
    "#         img = np.reshape(rotated_img, (28, 28, 1))\n",
    "#         new = np.concatenate([img, img, img], axis=2)\n",
    "#     new_x_train[3*n+i] = new\n",
    "\n",
    "# # study 5\n",
    "# for i in range(n):\n",
    "#     x_img = x_train[i]\n",
    "#     if rotations_5[i] == 0: # rotate 45 degrees left\n",
    "#         rotated_img = ndimage.rotate(x_img, -45, reshape=False)\n",
    "#         img = np.reshape(rotated_img, (28, 28, 1))\n",
    "#         new = np.concatenate([img, img, img], axis=2)\n",
    "#     else: # rotate 135 degrees right\n",
    "#         rotated_img = ndimage.rotate(x_img, 135, reshape=False)\n",
    "#         img = np.reshape(rotated_img, (28, 28, 1))\n",
    "#         new = np.concatenate([img, img, img], axis=2)\n",
    "#     new_x_train[4*n+i] = new\n",
    "    \n",
    "# # study 6\n",
    "# for i in range(n):\n",
    "#     x_img = x_train[i]\n",
    "#     if rotations_6[i] == 0: # rotate 45 degrees left\n",
    "#         rotated_img = ndimage.rotate(x_img, -45, reshape=False)\n",
    "#         img = np.reshape(rotated_img, (28, 28, 1))\n",
    "#         new = np.concatenate([img, img, img], axis=2)\n",
    "#     else: # rotate 135 degrees right\n",
    "#         rotated_img = ndimage.rotate(x_img, 135, reshape=False)\n",
    "#         img = np.reshape(rotated_img, (28, 28, 1))\n",
    "#         new = np.concatenate([img, img, img], axis=2)\n",
    "#     new_x_train[5*n+i] = new\n",
    "\n",
    "# # study 7\n",
    "# for i in range(n):\n",
    "#     x_img = x_train[i]\n",
    "#     if rotations_7[i] == 0: # rotate 135 degrees left\n",
    "#         rotated_img = ndimage.rotate(x_img, -135, reshape=False)\n",
    "#         img = np.reshape(rotated_img, (28, 28, 1))\n",
    "#         new = np.concatenate([img, img, img], axis=2)\n",
    "#     else: # rotate 45 degrees right\n",
    "#         rotated_img = ndimage.rotate(x_img, 45, reshape=False)\n",
    "#         img = np.reshape(rotated_img, (28, 28, 1))\n",
    "#         new = np.concatenate([img, img, img], axis=2)\n",
    "#     new_x_train[6*n+i] = new\n",
    "    \n",
    "# # study 8\n",
    "# for i in range(n):\n",
    "#     x_img = x_train[i]\n",
    "#     if rotations_8[i] == 0: # rotate 135 degrees left\n",
    "#         rotated_img = ndimage.rotate(x_img, -135, reshape=False)\n",
    "#         img = np.reshape(rotated_img, (28, 28, 1))\n",
    "#         new = np.concatenate([img, img, img], axis=2)\n",
    "#     else: # rotate 45 degrees right\n",
    "#         rotated_img = ndimage.rotate(x_img, 45, reshape=False)\n",
    "#         img = np.reshape(rotated_img, (28, 28, 1))\n",
    "#         new = np.concatenate([img, img, img], axis=2)\n",
    "#     new_x_train[7*n+i] = new\n",
    "    \n",
    "# test\n",
    "for i in range(10000):\n",
    "    degree = np.random.randint(0, 360)\n",
    "    x_img = x_test[i]\n",
    "    rotated_img = ndimage.rotate(x_img, degree, reshape=False)\n",
    "    img = np.reshape(rotated_img, (28, 28, 1))\n",
    "    new = np.concatenate([img, img, img], axis=2)\n",
    "#     if rotations_test[i] == 0: # rotate 45 degrees left\n",
    "#         rotated_img = ndimage.rotate(x_img, -45, reshape=False)\n",
    "#         img = np.reshape(rotated_img, (28, 28, 1))\n",
    "#         new = np.concatenate([img, img, img], axis=2)\n",
    "#     else: # rotate 45 degrees right\n",
    "#         rotated_img = ndimage.rotate(x_img, 45, reshape=False)\n",
    "#         img = np.reshape(rotated_img, (28, 28, 1))\n",
    "#         new = np.concatenate([img, img, img], axis=2)\n",
    "    new_x_test[i] = new"
   ]
  },
  {
   "cell_type": "code",
   "execution_count": 17,
   "metadata": {},
   "outputs": [
    {
     "data": {
      "text/plain": [
       "array([0.04416447, 0.04416447, 0.04416447])"
      ]
     },
     "execution_count": 17,
     "metadata": {},
     "output_type": "execute_result"
    }
   ],
   "source": [
    "np.mean(np.mean(np.mean(new_x_test, axis=0), axis=0), axis=0)"
   ]
  },
  {
   "cell_type": "code",
   "execution_count": 18,
   "metadata": {},
   "outputs": [
    {
     "data": {
      "text/plain": [
       "<matplotlib.image.AxesImage at 0xb48b6b710>"
      ]
     },
     "execution_count": 18,
     "metadata": {},
     "output_type": "execute_result"
    },
    {
     "data": {
      "image/png": "[encoded data removed]",
      "text/plain": [
       "<Figure size 432x288 with 1 Axes>"
      ]
     },
     "metadata": {
      "needs_background": "light"
     },
     "output_type": "display_data"
    }
   ],
   "source": [
    "#plt.imshow(new_x_train[n+10])\n",
    "plt.imshow(new_x_test[100])"
   ]
  },
  {
   "cell_type": "code",
   "execution_count": 19,
   "metadata": {},
   "outputs": [
    {
     "name": "stdout",
     "output_type": "stream",
     "text": [
      "[[1. 0. 0.]\n",
      " [1. 0. 0.]\n",
      " [1. 0. 0.]\n",
      " ...\n",
      " [0. 1. 0.]\n",
      " [0. 1. 0.]\n",
      " [0. 1. 0.]]\n",
      "60000\n",
      "(60000, 3)\n",
      "[[0. 0. 1.]\n",
      " [0. 0. 1.]\n",
      " [0. 0. 1.]\n",
      " ...\n",
      " [0. 0. 1.]\n",
      " [0. 0. 1.]\n",
      " [0. 0. 1.]]\n"
     ]
    }
   ],
   "source": [
    "# new_attr_train =  np.concatenate( [ np.vstack([np.ones(n), np.zeros(n), np.zeros(n), np.zeros(n), np.zeros(n), np.zeros(n), np.zeros(n), np.zeros(n), np.zeros(n)]).T,\n",
    "#                                    np.vstack([np.zeros(n), np.ones(n), np.zeros(n), np.zeros(n), np.zeros(n), np.zeros(n), np.zeros(n), np.zeros(n), np.zeros(n)]).T,\n",
    "#                                    np.vstack([np.zeros(n), np.zeros(n), np.ones(n), np.zeros(n), np.zeros(n), np.zeros(n), np.zeros(n), np.zeros(n), np.zeros(n)]).T,\n",
    "#                                    np.vstack([np.zeros(n), np.zeros(n), np.zeros(n), np.ones(n), np.zeros(n), np.zeros(n), np.zeros(n), np.zeros(n), np.zeros(n)]).T,\n",
    "#                                    np.vstack([np.zeros(n), np.zeros(n), np.zeros(n), np.zeros(n), np.ones(n), np.zeros(n), np.zeros(n), np.zeros(n), np.zeros(n)]).T,\n",
    "#                                    np.vstack([np.zeros(n), np.zeros(n), np.zeros(n), np.zeros(n), np.zeros(n), np.ones(n), np.zeros(n), np.zeros(n), np.zeros(n)]).T,\n",
    "#                                    np.vstack([np.zeros(n), np.zeros(n), np.zeros(n), np.zeros(n), np.zeros(n), np.zeros(n), np.ones(n), np.zeros(n), np.zeros(n)]).T,\n",
    "#                                    np.vstack([np.zeros(n), np.zeros(n), np.zeros(n), np.zeros(n), np.zeros(n), np.zeros(n), np.zeros(n), np.ones(n), np.zeros(n)]).T ])\n",
    "new_attr_train =  np.concatenate( [ np.vstack([np.ones(n), np.zeros(n), np.zeros(n)]).T, \n",
    "                                   np.vstack([np.zeros(n), np.ones(n), np.zeros(n)]).T])\n",
    "\n",
    "print(new_attr_train)\n",
    "print(len(new_attr_train))\n",
    "print(new_attr_train.shape)\n",
    "\n",
    "new_attr_test = np.vstack([np.zeros(n), np.zeros(n), np.ones(n)]).T\n",
    "# new_attr_test = np.vstack([np.zeros(n), np.zeros(n), np.zeros(n), np.zeros(n), np.zeros(n), np.zeros(n), np.zeros(n), np.zeros(n), np.ones(n)]).T\n",
    "print(new_attr_test)"
   ]
  },
  {
   "cell_type": "code",
   "execution_count": 20,
   "metadata": {},
   "outputs": [
    {
     "data": {
      "text/plain": [
       "(30000, 2352)"
      ]
     },
     "execution_count": 20,
     "metadata": {},
     "output_type": "execute_result"
    }
   ],
   "source": [
    "new_x_train_reshape = np.reshape(new_x_train, (numstudies*n, 28*28*3))\n",
    "new_x_test_reshape = np.reshape(new_x_test, (n, 28*28*3))\n",
    "new_x_test_reshape.shape\n",
    "#print(new_x_train_reshape.shape)"
   ]
  },
  {
   "cell_type": "code",
   "execution_count": 21,
   "metadata": {},
   "outputs": [
    {
     "name": "stdout",
     "output_type": "stream",
     "text": [
      "(60000, 2)\n"
     ]
    },
    {
     "data": {
      "text/plain": [
       "(30000, 2352)"
      ]
     },
     "execution_count": 21,
     "metadata": {},
     "output_type": "execute_result"
    }
   ],
   "source": [
    "new_y_train_reshape = new_y_train_dub[:numstudies*n]\n",
    "print(new_y_train_reshape.shape)\n",
    "new_y_test_reshape = new_y_test_dub[:n]\n",
    "new_y_test_reshape.shape\n",
    "\n",
    "x_test = new_x_test_reshape[:n * numstudies]\n",
    "x_test.shape"
   ]
  },
  {
   "cell_type": "code",
   "execution_count": 22,
   "metadata": {},
   "outputs": [
    {
     "name": "stdout",
     "output_type": "stream",
     "text": [
      "(48000, 12000)\n"
     ]
    }
   ],
   "source": [
    "numstudies = 2\n",
    "inds_shuffled = np.random.permutation(numstudies*n)\n",
    "train_inds = inds_shuffled[:int(.8 * numstudies*n)]\n",
    "valid_inds = inds_shuffled[int(.8 * numstudies*n):]\n",
    "print(len(train_inds), len(valid_inds))"
   ]
  },
  {
   "cell_type": "code",
   "execution_count": 23,
   "metadata": {},
   "outputs": [
    {
     "data": {
      "text/plain": [
       "\"\\nnp.savez('mnist_nonoise_072219.npz', \\n         x_train = new_x_train_reshape, \\n         x_test = new_x_test_reshape, \\n         y_train = new_y_train_reshape, \\n         y_test = new_y_test_reshape, \\n         attr_train = new_attr_train,\\n         attr_test = new_attr_test,\\n         train_inds = train_inds,\\n         valid_inds = valid_inds)\\n\""
      ]
     },
     "execution_count": 23,
     "metadata": {},
     "output_type": "execute_result"
    }
   ],
   "source": [
    "num = n * numstudies\n",
    "save_file = 'rotated_mnist_90degrees_digit100_rotation80flipped_random_test_30k_041720.npz'\n",
    "np.savez(save_file, \n",
    "         x_train = new_x_train_reshape[:num], \n",
    "         x_test = new_x_test_reshape[:num], \n",
    "         y_train = new_y_train_reshape[:num], \n",
    "         y_test = new_y_test_reshape[:num], \n",
    "         attr_train = new_attr_train[:num],\n",
    "         attr_test = new_attr_test[:num],\n",
    "         train_inds = train_inds,\n",
    "         valid_inds = valid_inds)\n",
    "\n",
    "'''\n",
    "np.savez('mnist_nonoise_072219.npz', \n",
    "         x_train = new_x_train_reshape, \n",
    "         x_test = new_x_test_reshape, \n",
    "         y_train = new_y_train_reshape, \n",
    "         y_test = new_y_test_reshape, \n",
    "         attr_train = new_attr_train,\n",
    "         attr_test = new_attr_test,\n",
    "         train_inds = train_inds,\n",
    "         valid_inds = valid_inds)\n",
    "'''"
   ]
  },
  {
   "cell_type": "code",
   "execution_count": null,
   "metadata": {},
   "outputs": [],
   "source": []
  },
  {
   "cell_type": "code",
   "execution_count": null,
   "metadata": {},
   "outputs": [],
   "source": []
  },
  {
   "cell_type": "code",
   "execution_count": null,
   "metadata": {},
   "outputs": [],
   "source": []
  },
  {
   "cell_type": "code",
   "execution_count": null,
   "metadata": {},
   "outputs": [],
   "source": []
  }
 ],
 "metadata": {
  "kernelspec": {
   "display_name": "Python 2",
   "language": "python",
   "name": "python2"
  },
  "language_info": {
   "codemirror_mode": {
    "name": "ipython",
    "version": 2
   },
   "file_extension": ".py",
   "mimetype": "text/x-python",
   "name": "python",
   "nbconvert_exporter": "python",
   "pygments_lexer": "ipython2",
   "version": "2.7.16"
  }
 },
 "nbformat": 4,
 "nbformat_minor": 2
}
