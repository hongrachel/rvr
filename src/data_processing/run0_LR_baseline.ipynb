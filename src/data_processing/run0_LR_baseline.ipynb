{
 "cells": [
  {
   "cell_type": "code",
   "execution_count": 12,
   "metadata": {},
   "outputs": [],
   "source": [
    "import torch\n",
    "import torch.nn as nn\n",
    "import torch.nn.functional as F\n",
    "\n",
    "import numpy as np\n",
    "import random\n",
    "from sklearn.linear_model import LogisticRegression\n",
    "from sklearn.metrics import accuracy_score\n",
    "import matplotlib.pyplot as plt\n",
    "%matplotlib inline\n",
    "\n",
    "infile = \"../../data/run0/run0.npz\"\n",
    "#outfile = \"../../data/balanced_adult_matched_pairs/balanced_adult_matched_pairs.npz\"\n",
    "\n",
    "random.seed(0)"
   ]
  },
  {
   "cell_type": "code",
   "execution_count": 6,
   "metadata": {},
   "outputs": [],
   "source": [
    "data = np.load(infile)"
   ]
  },
  {
   "cell_type": "code",
   "execution_count": 19,
   "metadata": {},
   "outputs": [
    {
     "data": {
      "text/plain": [
       "['x_train',\n",
       " 'x_test',\n",
       " 'y_train',\n",
       " 'y_test',\n",
       " 'attr_train',\n",
       " 'attr_test',\n",
       " 'train_inds',\n",
       " 'valid_inds']"
      ]
     },
     "execution_count": 19,
     "metadata": {},
     "output_type": "execute_result"
    }
   ],
   "source": [
    "list(data.keys())"
   ]
  },
  {
   "cell_type": "code",
   "execution_count": 20,
   "metadata": {},
   "outputs": [],
   "source": [
    "x_train = data['x_train'][data['train_inds']]\n",
    "y_train = data['y_train'][data['train_inds']]\n",
    "attr_train = data['attr_train'][data['train_inds']]\n",
    "\n",
    "x_valid = data['x_train'][data['valid_inds']]\n",
    "y_valid = data['y_train'][data['valid_inds']]\n",
    "attr_valid = data['attr_train'][data['valid_inds']]\n",
    "\n",
    "x_test = data['x_test']\n",
    "y_test = data['y_test']\n",
    "attr_test = data['attr_test']\n",
    "\n",
    "xa_train = np.concatenate((x_train, attr_train), axis = 1)\n",
    "xa_valid = np.concatenate((x_valid, attr_valid), axis = 1)\n",
    "xa_test = np.concatenate((x_test, attr_test), axis = 1)"
   ]
  },
  {
   "cell_type": "code",
   "execution_count": 6,
   "metadata": {
    "collapsed": true
   },
   "outputs": [],
   "source": [
    "model = LogisticRegression()"
   ]
  },
  {
   "cell_type": "code",
   "execution_count": 14,
   "metadata": {},
   "outputs": [
    {
     "data": {
      "text/plain": [
       "LogisticRegression(C=1.0, class_weight=None, dual=False, fit_intercept=True,\n",
       "          intercept_scaling=1, max_iter=100, multi_class='ovr', n_jobs=1,\n",
       "          penalty='l2', random_state=None, solver='liblinear', tol=0.0001,\n",
       "          verbose=0, warm_start=False)"
      ]
     },
     "execution_count": 14,
     "metadata": {},
     "output_type": "execute_result"
    }
   ],
   "source": [
    "model.fit(xa_train, y_train[:,1])"
   ]
  },
  {
   "cell_type": "code",
   "execution_count": 15,
   "metadata": {},
   "outputs": [
    {
     "data": {
      "text/plain": [
       "0.78565"
      ]
     },
     "execution_count": 15,
     "metadata": {},
     "output_type": "execute_result"
    }
   ],
   "source": [
    "model.score(xa_train, y_train[:,1])"
   ]
  },
  {
   "cell_type": "code",
   "execution_count": 16,
   "metadata": {},
   "outputs": [
    {
     "data": {
      "text/plain": [
       "0.8302"
      ]
     },
     "execution_count": 16,
     "metadata": {},
     "output_type": "execute_result"
    }
   ],
   "source": [
    "model.score(xa_test, y_test[:,1])"
   ]
  },
  {
   "cell_type": "code",
   "execution_count": 17,
   "metadata": {},
   "outputs": [
    {
     "data": {
      "text/plain": [
       "0.7871"
      ]
     },
     "execution_count": 17,
     "metadata": {},
     "output_type": "execute_result"
    }
   ],
   "source": [
    "model.score(xa_valid, y_valid[:,1])"
   ]
  },
  {
   "cell_type": "code",
   "execution_count": 24,
   "metadata": {},
   "outputs": [
    {
     "name": "stdout",
     "output_type": "stream",
     "text": [
      "0 -0.5393916578290149\n",
      "1 0.4816547065464337\n",
      "2 -0.5293972178167717\n",
      "3 -0.08352527237617917\n",
      "4 0.51407033002563\n",
      "5 -0.5264150004270932\n",
      "6 0.47945838388000933\n",
      "7 -0.47469836769114365\n",
      "8 0.44012826547932343\n",
      "9 -0.46917460801216143\n",
      "10 0.43272211424107093\n",
      "11 0.0759706061788131\n",
      "12 -0.04423772285933652\n",
      "13 -0.46542061621778363\n",
      "14 0.4762274248920727\n",
      "15 -0.08070263623938101\n",
      "16 0.1236681835080698\n",
      "17 0.49607565021004524\n",
      "18 -0.08480440334159293\n",
      "19 -0.1003181407535637\n",
      "20 0.14804395984250848\n",
      "21 -0.10554777513273798\n",
      "22 0.066868786534361\n",
      "23 -0.4927205366350978\n",
      "24 -0.5292446830119528\n",
      "25 0.44874435360054016\n",
      "26 0.4464875099902162\n",
      "27 0.45545971836147625\n",
      "28 0.07782469582260987\n",
      "29 -0.13170146132590455\n",
      "30 -0.019075997742463865\n",
      "31 0.05124548441545944\n",
      "32 0.0002733957184938747\n",
      "33 -0.06160709094232852\n",
      "34 0.056044373742144854\n",
      "35 -0.06031702737734131\n",
      "36 0.00875307118881495\n",
      "37 0.04414452159913376\n",
      "38 -0.07246063335281216\n",
      "39 0.05163936947003219\n"
     ]
    }
   ],
   "source": [
    "for i in range(model.coef_.shape[1]):\n",
    "    print(i, model.coef_[0][i])"
   ]
  },
  {
   "cell_type": "code",
   "execution_count": 23,
   "metadata": {},
   "outputs": [
    {
     "data": {
      "text/plain": [
       "0.4816547065464337"
      ]
     },
     "execution_count": 23,
     "metadata": {},
     "output_type": "execute_result"
    }
   ],
   "source": [
    "model.coef_[0][1]"
   ]
  },
  {
   "cell_type": "code",
   "execution_count": 63,
   "metadata": {},
   "outputs": [
    {
     "data": {
      "text/plain": [
       "(5000, 30)"
      ]
     },
     "execution_count": 63,
     "metadata": {},
     "output_type": "execute_result"
    }
   ],
   "source": [
    "x_test.shape"
   ]
  },
  {
   "cell_type": "code",
   "execution_count": 103,
   "metadata": {},
   "outputs": [
    {
     "name": "stdout",
     "output_type": "stream",
     "text": [
      "(5000, 10)\n",
      "[[1. 0. 0. ... 0. 0. 0.]\n",
      " [1. 0. 0. ... 0. 0. 0.]\n",
      " [1. 0. 0. ... 0. 0. 0.]\n",
      " ...\n",
      " [1. 0. 0. ... 0. 0. 0.]\n",
      " [1. 0. 0. ... 0. 0. 0.]\n",
      " [1. 0. 0. ... 0. 0. 0.]]\n"
     ]
    }
   ],
   "source": [
    "print(attr_test.shape)\n",
    "print(attr_test)"
   ]
  },
  {
   "cell_type": "code",
   "execution_count": 123,
   "metadata": {},
   "outputs": [],
   "source": [
    "attr_test2 = np.concatenate( (np.zeros((5000,4)), np.ones((5000,1)), np.zeros((5000,5))  ), axis=1 )\n",
    "attr_test2 = np.zeros((5000,10))"
   ]
  },
  {
   "cell_type": "markdown",
   "metadata": {},
   "source": [
    "# Make training set into mini-batches"
   ]
  },
  {
   "cell_type": "code",
   "execution_count": 34,
   "metadata": {},
   "outputs": [
    {
     "name": "stdout",
     "output_type": "stream",
     "text": [
      "[[ 1  1  1  1  0]\n",
      " [ 3  3  3  3  0]\n",
      " [ 4  4  4  4  1]\n",
      " [50 50 50 50  1]]\n",
      "[array([[1, 1, 1, 1, 0],\n",
      "       [3, 3, 3, 3, 0]]), array([[ 4,  4,  4,  4,  1],\n",
      "       [50, 50, 50, 50,  1]])]\n"
     ]
    }
   ],
   "source": [
    "test = np.array([[1,1,1,1], [3,3,3,3], [4,4,4,4], [50,50,50,50]])\n",
    "ytest = np.array([0, 0, 1, 1])\n",
    "xytest = np.concatenate( (test, np.expand_dims(ytest, axis=1) ) , axis = 1)\n",
    "print(xytest)\n",
    "print(np.split(xytest, 2))"
   ]
  },
  {
   "cell_type": "code",
   "execution_count": 93,
   "metadata": {},
   "outputs": [],
   "source": [
    "x_train_w_y = np.concatenate( (x_train, attr_train, np.expand_dims(y_train[:, 1], axis=1) ) , axis = 1)\n"
   ]
  },
  {
   "cell_type": "code",
   "execution_count": 94,
   "metadata": {},
   "outputs": [
    {
     "name": "stdout",
     "output_type": "stream",
     "text": [
      "(40000, 41)\n"
     ]
    }
   ],
   "source": [
    "np.random.shuffle(x_train_w_y)\n",
    "print(x_train_w_y.shape)"
   ]
  },
  {
   "cell_type": "code",
   "execution_count": 95,
   "metadata": {},
   "outputs": [
    {
     "name": "stdout",
     "output_type": "stream",
     "text": [
      "(100, 41)\n"
     ]
    }
   ],
   "source": [
    "x_train_batches = np.split(x_train_w_y, 400)\n",
    "print(x_train_batches[0].shape)"
   ]
  },
  {
   "cell_type": "code",
   "execution_count": 96,
   "metadata": {},
   "outputs": [],
   "source": [
    "x_train_batches = torch.tensor(x_train_batches, dtype=torch.float)"
   ]
  },
  {
   "cell_type": "code",
   "execution_count": 124,
   "metadata": {},
   "outputs": [],
   "source": [
    "x_test_w_y = np.concatenate( (x_test, attr_test2, np.expand_dims(y_test[:, 1], axis=1) ) , axis = 1)\n",
    "np.random.shuffle(x_test_w_y)\n",
    "x_test_batches = np.split(x_test_w_y, 50)\n",
    "x_test_batches = torch.tensor(x_test_batches, dtype=torch.float)"
   ]
  },
  {
   "cell_type": "code",
   "execution_count": 98,
   "metadata": {},
   "outputs": [
    {
     "name": "stdout",
     "output_type": "stream",
     "text": [
      "Net(\n",
      "  (fc1): Linear(in_features=40, out_features=10, bias=True)\n",
      "  (fc2): Linear(in_features=10, out_features=10, bias=True)\n",
      "  (fc3): Linear(in_features=10, out_features=10, bias=True)\n",
      "  (fc4): Linear(in_features=10, out_features=2, bias=True)\n",
      ")\n"
     ]
    }
   ],
   "source": [
    "class Net(nn.Module):\n",
    "\n",
    "    def __init__(self):\n",
    "        super(Net, self).__init__()\n",
    "        self.fc1 = nn.Linear(40, 10)\n",
    "        self.fc2 = nn.Linear(10, 10)\n",
    "        self.fc3 = nn.Linear(10, 10)\n",
    "        self.fc4 = nn.Linear(10, 2)\n",
    "\n",
    "    def forward(self, x):\n",
    "        # Max pooling over a (2, 2) window\n",
    "        #x = x.view(-1, self.num_flat_features(x))\n",
    "        x = F.leaky_relu(self.fc1(x))\n",
    "        x = F.leaky_relu(self.fc2(x))\n",
    "        x = F.leaky_relu(self.fc3(x))\n",
    "        x = F.sigmoid(self.fc4(x))\n",
    "        return x\n",
    "\n",
    "    def num_flat_features(self, x):\n",
    "        size = x.size()[1:]  # all dimensions except the batch dimension\n",
    "        num_features = 1\n",
    "        for s in size:\n",
    "            num_features *= s\n",
    "        return num_features\n",
    "\n",
    "\n",
    "net = Net()\n",
    "print(net)"
   ]
  },
  {
   "cell_type": "code",
   "execution_count": 99,
   "metadata": {},
   "outputs": [],
   "source": [
    "import torch.optim as optim\n",
    "\n",
    "# create your optimizer\n",
    "criterion = nn.CrossEntropyLoss()\n",
    "\n",
    "\n",
    "optimizer = optim.Adam(net.parameters(), lr=0.001)\n",
    "\n"
   ]
  },
  {
   "cell_type": "code",
   "execution_count": 126,
   "metadata": {},
   "outputs": [
    {
     "name": "stdout",
     "output_type": "stream",
     "text": [
      "[1,   400] loss: 0.313\n"
     ]
    },
    {
     "name": "stderr",
     "output_type": "stream",
     "text": [
      "/Users/Frances/anaconda3/envs/rvr-env/lib/python3.6/site-packages/ipykernel_launcher.py:26: UserWarning: To copy construct from a tensor, it is recommended to use sourceTensor.clone().detach() or sourceTensor.clone().detach().requires_grad_(True), rather than torch.tensor(sourceTensor).\n"
     ]
    },
    {
     "name": "stdout",
     "output_type": "stream",
     "text": [
      "[11,   400] loss: 0.313\n",
      "[21,   400] loss: 0.313\n",
      "[31,   400] loss: 0.313\n",
      "[41,   400] loss: 0.313\n",
      "[51,   400] loss: 0.313\n",
      "[61,   400] loss: 0.313\n",
      "[71,   400] loss: 0.313\n",
      "[81,   400] loss: 0.313\n",
      "[91,   400] loss: 0.313\n",
      "Finished Training\n"
     ]
    }
   ],
   "source": [
    "for epoch in range(100):  # loop over the dataset multiple times\n",
    "\n",
    "    running_loss = 0.0\n",
    "    for i, data in enumerate(x_train_batches, 0):\n",
    "        # get the inputs\n",
    "        inputs = data[:,:-1]\n",
    "        labels = data[:,-1].type(torch.long)\n",
    "\n",
    "        # zero the parameter gradients\n",
    "        optimizer.zero_grad()\n",
    "\n",
    "        # forward + backward + optimize\n",
    "        outputs = net(inputs)\n",
    "        loss = criterion(outputs, labels)\n",
    "        loss.backward()\n",
    "        optimizer.step()\n",
    "\n",
    "        # print statistics\n",
    "        running_loss += loss.item()\n",
    "        if epoch % 10 == 0 and i % 400 == 399:    # print every 400 mini-batches\n",
    "            print('[%d, %5d] loss: %.3f' %\n",
    "                  (epoch + 1, i + 1, running_loss / 400))\n",
    "            running_loss = 0.0\n",
    "            \n",
    "    np.random.shuffle(x_train_batches)\n",
    "    x_train_batches = torch.tensor(x_train_batches, dtype=torch.float)\n",
    "\n",
    "print('Finished Training')"
   ]
  },
  {
   "cell_type": "code",
   "execution_count": 127,
   "metadata": {},
   "outputs": [
    {
     "name": "stdout",
     "output_type": "stream",
     "text": [
      "Accuracy of the network on the test data: 79 %\n"
     ]
    }
   ],
   "source": [
    "correct = 0\n",
    "total = 0\n",
    "with torch.no_grad():\n",
    "    for data in x_test_batches:\n",
    "        inputs = data[:,:-1]\n",
    "        labels = data[:,-1].type(torch.long)\n",
    "        \n",
    "        outputs = net(inputs)\n",
    "        _, predicted = torch.max(outputs.data, 1)\n",
    "        total += labels.size(0)\n",
    "        correct += (predicted == labels).sum().item()\n",
    "\n",
    "print('Accuracy of the network on the test data: %d %%' % (\n",
    "    100 * correct / total))"
   ]
  },
  {
   "cell_type": "code",
   "execution_count": null,
   "metadata": {},
   "outputs": [],
   "source": []
  }
 ],
 "metadata": {
  "kernelspec": {
   "display_name": "Python 3",
   "language": "python",
   "name": "python3"
  },
  "language_info": {
   "codemirror_mode": {
    "name": "ipython",
    "version": 3
   },
   "file_extension": ".py",
   "mimetype": "text/x-python",
   "name": "python",
   "nbconvert_exporter": "python",
   "pygments_lexer": "ipython3",
   "version": "3.6.7"
  }
 },
 "nbformat": 4,
 "nbformat_minor": 2
}
