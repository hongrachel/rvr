{
 "cells": [
  {
   "cell_type": "code",
   "execution_count": 8,
   "metadata": {},
   "outputs": [
    {
     "name": "stdout",
     "output_type": "stream",
     "text": [
      "Populating the interactive namespace from numpy and matplotlib\n"
     ]
    }
   ],
   "source": [
    "import numpy as np\n",
    "import matplotlib.pyplot as plt\n",
    "from mpl_toolkits.mplot3d import Axes3D\n",
    "from matplotlib import cm\n",
    "#%matplotlib nbagg\n",
    "#%matplotlib notebook\n",
    "#%matplotlib qt\n",
    "%pylab qt"
   ]
  },
  {
   "cell_type": "code",
   "execution_count": 101,
   "metadata": {},
   "outputs": [],
   "source": [
    "#results = np.load(\"runhet_recon_sweep_score_mat.npy\")\n",
    "#results = np.load(\"runp_1_2_sweep_dp_score_mat.npy\")\n",
    "#results = np.load(\"runp_1_2_sweep_eo_041719_prod_score_mat.npy\")\n",
    "results0 = np.load(\"results/runagree_large_interact_042919_thresh_0_score_mat.npy\")#[:,:-1]\n",
    "results1 = np.load(\"results/runagree_large_interact_042919_thresh_1_score_mat.npy\")#[:,:-1]\n",
    "results2 = np.load(\"results/runagree_large_interact_042919_thresh_2_score_mat.npy\")#[:,:-1]\n",
    "results3 = np.load(\"results/runagree_large_interact_042919_thresh_3_score_mat.npy\")#[:,:-1]\n",
    "results4 = np.load(\"results/runagree_large_interact_042919_thresh_4_score_mat.npy\")#[:,:-1]"
   ]
  },
  {
   "cell_type": "code",
   "execution_count": 102,
   "metadata": {},
   "outputs": [
    {
     "data": {
      "text/plain": [
       "array([[0.0677484 , 0.0657452 , 0.06666668, 0.07700324, 0.0630609 ,\n",
       "        0.07604166, 0.07359774],\n",
       "       [0.0694311 , 0.07676282, 0.076242  , 0.06858974, 0.06891026,\n",
       "        0.06434294, 0.0676282 ],\n",
       "       [0.06959136, 0.0685096 , 0.06814906, 0.07852562, 0.07728364,\n",
       "        0.07479968, 0.06722758],\n",
       "       [0.06951124, 0.06794872, 0.07171476, 0.06033652, 0.07179488,\n",
       "        0.06754808, 0.070633  ],\n",
       "       [0.07247594, 0.0711939 , 0.06738782, 0.06402244, 0.06806892,\n",
       "        0.067508  , 0.07047278],\n",
       "       [0.06466348, 0.07455928, 0.06237982, 0.06221956, 0.07019232,\n",
       "        0.0647436 , 0.06434296]])"
      ]
     },
     "execution_count": 102,
     "metadata": {},
     "output_type": "execute_result"
    }
   ],
   "source": [
    "#results = results[:, :]\n",
    "results = (results0 + results1 + results2 + results3 + results4) / 5\n",
    "results"
   ]
  },
  {
   "cell_type": "code",
   "execution_count": 97,
   "metadata": {},
   "outputs": [],
   "source": [
    "#coeffs = np.array(['0_0', '0_005', '0_01', '0_05', '0_1', '0_2', '0_5', '1_0', '2_0', '4_0', '6_0', '10_0'])\n",
    "#coeffs = np.array([0. , 0.005, 0.01, 0.05, 0.1, 0.2, 0.5, 1., 2., 4., 6., 10.])\n",
    "#xcoeffs = [0.0, 0.01, 0.05, 0.1, 0.15, 0.2, 0.3, 0.5, 1.0, 4.0]\n",
    "#ycoeffs = [0.0, 0.001, 0.005, 0.01] #, 0.03]#, 0.05, 0.1, 0.15, 0.2, 0.3]\n",
    "#xcoeffs = [0.0, 0.1, 0.5, 1.0, 3.0, 5.0, 10.0, 15.0]\n",
    "#ycoeffs = [0.0, 0.0005, 0.001, 0.002, 0.003, 0.005, 0.007, 0.01, 0.03, 0.05, 0.1] #, 0.7]\n",
    "#xcoeffs = [0.0, 0.1, 0.5, 1.0, 3.0, 5.0, 10.0, 15.0]\n",
    "#ycoeffs = [0.0, 0.001, 0.005, 0.01, 0.025, 0.05, 0.075, 0.1, 0.3, 0.5]\n",
    "#n = len(coeffs)\n",
    "\n",
    "#7 by 8 runxcoeffs = [0.0, 0.5, 1.0, 3.0, 5.0, 10.0, 15.0]\n",
    "#ycoeffs = [0.0, 0.002, 0.005, 0.01, 0.03, 0.05, 0.07, 0.1]\n",
    "\n",
    "#6 by 7 run\n",
    "xcoeffs = [0.0, 1.0, 3.0, 5.0, 10.0, 15.0]\n",
    "ycoeffs = [0.0, 0.005, 0.01, 0.03, 0.05, 0.07, 0.1]\n",
    "\n"
   ]
  },
  {
   "cell_type": "code",
   "execution_count": 98,
   "metadata": {},
   "outputs": [
    {
     "name": "stdout",
     "output_type": "stream",
     "text": [
      "[[ 0.  0.  0.  0.  0.  0.  0.]\n",
      " [ 1.  1.  1.  1.  1.  1.  1.]\n",
      " [ 3.  3.  3.  3.  3.  3.  3.]\n",
      " [ 5.  5.  5.  5.  5.  5.  5.]\n",
      " [10. 10. 10. 10. 10. 10. 10.]\n",
      " [15. 15. 15. 15. 15. 15. 15.]]\n",
      "[[0.    0.005 0.01  0.03  0.05  0.07  0.1  ]\n",
      " [0.    0.005 0.01  0.03  0.05  0.07  0.1  ]\n",
      " [0.    0.005 0.01  0.03  0.05  0.07  0.1  ]\n",
      " [0.    0.005 0.01  0.03  0.05  0.07  0.1  ]\n",
      " [0.    0.005 0.01  0.03  0.05  0.07  0.1  ]\n",
      " [0.    0.005 0.01  0.03  0.05  0.07  0.1  ]]\n"
     ]
    }
   ],
   "source": [
    "X = np.repeat(xcoeffs, len(ycoeffs)).reshape((len(xcoeffs), len(ycoeffs)))\n",
    "Y = np.repeat(ycoeffs, len(xcoeffs)).reshape((len(xcoeffs), len(ycoeffs)), order='F')\n",
    "print(X)\n",
    "print(Y)"
   ]
  },
  {
   "cell_type": "code",
   "execution_count": 99,
   "metadata": {},
   "outputs": [],
   "source": [
    "xmesh = np.linspace(xcoeffs[0], xcoeffs[-1])\n",
    "ymesh = np.linspace(ycoeffs[0], ycoeffs[-1])\n",
    "xmeshgrid = np.repeat(xmesh, len(ymesh)).reshape((len(xmesh), len(ymesh)))\n",
    "ymeshgrid = np.repeat(ymesh, len(xmesh)).reshape((len(xmesh), len(ymesh)), order='F')\n",
    "#xmeshgrid\n",
    "#ymeshgrid\n",
    "\n",
    "logreg = np.ones(xmeshgrid.shape) * 0.1872 #0.238 #0.16500 #0.132 #0.0464 #0.1872 #0.0706 #0.2004 #0.0536 #0.1932\n"
   ]
  },
  {
   "cell_type": "code",
   "execution_count": 100,
   "metadata": {},
   "outputs": [],
   "source": [
    "fig = plt.figure(figsize = (10, 6))\n",
    "ax = fig.gca(projection='3d')\n",
    "surf = ax.plot_surface(X, Y, results, cmap=cm.coolwarm, linewidth=0, antialiased=False, edgecolor='black')\n",
    "plane = ax.plot_wireframe(xmeshgrid, ymeshgrid, logreg, color='green', linewidth=.5, antialiased=False)\n",
    "#surf.set_label('Multi-Study LAFTR')\n",
    "plane.set_label('Logistic regression baseline')\n",
    "plt.xlabel('Fairness coefficient')\n",
    "plt.ylabel('Reconstruction coefficient')\n",
    "plt.title('LARGE network trained on 1 product interaction 05/10/19')\n",
    "ax.set_zlabel('Error')\n",
    "fig.colorbar(surf, shrink=0.5, aspect=5)\n",
    "\n",
    "plt.legend(loc='lower right')\n",
    "plt.show()"
   ]
  },
  {
   "cell_type": "code",
   "execution_count": null,
   "metadata": {},
   "outputs": [],
   "source": []
  },
  {
   "cell_type": "code",
   "execution_count": null,
   "metadata": {},
   "outputs": [],
   "source": []
  }
 ],
 "metadata": {
  "kernelspec": {
   "display_name": "Python 3",
   "language": "python",
   "name": "python3"
  },
  "language_info": {
   "codemirror_mode": {
    "name": "ipython",
    "version": 3
   },
   "file_extension": ".py",
   "mimetype": "text/x-python",
   "name": "python",
   "nbconvert_exporter": "python",
   "pygments_lexer": "ipython3",
   "version": "3.6.7"
  }
 },
 "nbformat": 4,
 "nbformat_minor": 2
}
