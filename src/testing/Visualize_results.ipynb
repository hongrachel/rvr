{
 "cells": [
  {
   "cell_type": "code",
   "execution_count": 4,
   "metadata": {},
   "outputs": [],
   "source": [
    "import numpy as np\n",
    "import matplotlib.pyplot as plt\n",
    "from mpl_toolkits.mplot3d import Axes3D\n",
    "from matplotlib import cm\n",
    "from sklearn.linear_model import LogisticRegression\n",
    "from sklearn.ensemble import RandomForestClassifier\n",
    "\n",
    "#%matplotlib nbagg\n",
    "#%matplotlib notebook\n",
    "%matplotlib qt\n",
    "#%pylab qt"
   ]
  },
  {
   "cell_type": "code",
   "execution_count": 48,
   "metadata": {},
   "outputs": [],
   "source": [
    "def plot_results(expname, xcoeffs, ycoeffs, lr_baseline, rf_baseline, title):\n",
    "    results0 = np.load(\"results/{}_0_score_mat.npy\".format(expname))\n",
    "    results1 = np.load(\"results/{}_1_score_mat.npy\".format(expname))\n",
    "    results2 = np.load(\"results/{}_2_score_mat.npy\".format(expname))\n",
    "    results3 = np.load(\"results/{}_3_score_mat.npy\".format(expname))\n",
    "    results4 = np.load(\"results/{}_4_score_mat.npy\".format(expname))\n",
    "    results = (results0 + results1 + results2 + results3 + results4) / 5\n",
    "    \n",
    "    validresults0 = np.load(\"results/valid/{}_0_valid_score_mat.npy\".format(expname))\n",
    "    validresults1 = np.load(\"results/valid/{}_1_valid_score_mat.npy\".format(expname))\n",
    "    validresults2 = np.load(\"results/valid/{}_2_valid_score_mat.npy\".format(expname))\n",
    "    validresults3 = np.load(\"results/valid/{}_3_valid_score_mat.npy\".format(expname))\n",
    "    validresults4 = np.load(\"results/valid/{}_4_valid_score_mat.npy\".format(expname))\n",
    "    validresults = (validresults0 + validresults1 + validresults2 + validresults3 + validresults4) / 5\n",
    "    \n",
    "    if results.shape[0] == 7: # revert to old xcoeffs and ycoeffs\n",
    "        xcoeffs = [0.0, 0.5, 1.0, 3.0, 5.0, 10.0, 15.0]\n",
    "        ycoeffs = [0.0, 0.002, 0.005, 0.01, 0.03, 0.05, 0.07, 0.1]\n",
    "    elif results.shape[0] == 8:\n",
    "        xcoeffs = [0.0, 0.1, 0.5, 1.0, 3.0, 5.0, 10.0, 15.0]\n",
    "        ycoeffs = [0.0, 0.0005, 0.001, 0.002, 0.003, 0.005, 0.007, 0.01, 0.03, 0.05, 0.1]\n",
    "    elif results.shape[1] == 2:\n",
    "        xcoeffs = [0.0, 1.0, 3.0, 5.0, 10.0, 15.0]\n",
    "        ycoeffs = [0.0, 0.005]\n",
    "    \n",
    "    X = np.repeat(xcoeffs, len(ycoeffs)).reshape((len(xcoeffs), len(ycoeffs)))\n",
    "    Y = np.repeat(ycoeffs, len(xcoeffs)).reshape((len(xcoeffs), len(ycoeffs)), order='F')\n",
    "    xmesh = np.linspace(xcoeffs[0], xcoeffs[-1])\n",
    "    ymesh = np.linspace(ycoeffs[0], ycoeffs[-1])\n",
    "    xmeshgrid = np.repeat(xmesh, len(ymesh)).reshape((len(xmesh), len(ymesh)))\n",
    "    ymeshgrid = np.repeat(ymesh, len(xmesh)).reshape((len(xmesh), len(ymesh)), order='F')\n",
    "    \n",
    "    logreg = np.ones(xmeshgrid.shape) * lr_baseline\n",
    "    rfsurface = np.ones(xmeshgrid.shape) * rf_baseline\n",
    "    \n",
    "    fig = plt.figure(figsize = (11, 6))\n",
    "    ax = fig.gca(projection='3d')\n",
    "    surf = ax.plot_surface(X, Y, results, cmap=cm.coolwarm, linewidth=0, antialiased=False, edgecolor='black')\n",
    "    #validsurf = ax.plot_surface(X, Y, validresults, cmap=cm.gist_gray, linewidth=0, antialiased=False, edgecolor='black')\n",
    "    plane = ax.plot_wireframe(xmeshgrid, ymeshgrid, logreg, color='green', linewidth=.5, antialiased=False)\n",
    "    rfplane = ax.plot_wireframe(xmeshgrid, ymeshgrid, rfsurface, color='purple', linewidth=.5, antialiased=False)\n",
    "    ######surf.set_label('Multi-Study LAFTR')\n",
    "    plane.set_label('Logistic regression baseline')\n",
    "    rfplane.set_label('Random forest baseline')\n",
    "    plt.xlabel('Fairness coefficient')\n",
    "    plt.ylabel('Reconstruction coefficient')\n",
    "    plt.title(title)\n",
    "    ax.set_zlabel('Error')\n",
    "    cbar1 = fig.colorbar(surf, shrink=0.5, aspect=5)\n",
    "    #cbar2 = fig.colorbar(validsurf, shrink=0.5, aspect=5)\n",
    "    \n",
    "    cbar1.ax.set_ylabel('RvR test error', rotation=90)\n",
    "    #cbar2.ax.set_ylabel('LAFTR validation error', rotation=90)\n",
    "\n",
    "    plt.legend(loc='lower right')\n",
    "    plt.show()\n",
    "    \n",
    "def plot_1D(expname, xcoeffs, ycoeffs, lr_baseline, rf_baseline, title):\n",
    "    recon = 0\n",
    "    results0 = np.load(\"results/{}_0_score_mat.npy\".format(expname))[:,recon]\n",
    "    results1 = np.load(\"results/{}_1_score_mat.npy\".format(expname))[:,recon]\n",
    "    results2 = np.load(\"results/{}_2_score_mat.npy\".format(expname))[:,recon]\n",
    "    results3 = np.load(\"results/{}_3_score_mat.npy\".format(expname))[:,recon]\n",
    "    results4 = np.load(\"results/{}_4_score_mat.npy\".format(expname))[:,recon]\n",
    "    results = (results0 + results1 + results2 + results3 + results4) / 5\n",
    "    resultsvec = np.vstack((results0, results1, results2, results3, results4))\n",
    "    \n",
    "    validresults0 = np.load(\"results/valid/{}_0_valid_score_mat.npy\".format(expname))[:,recon]\n",
    "    validresults1 = np.load(\"results/valid/{}_1_valid_score_mat.npy\".format(expname))[:,recon]\n",
    "    validresults2 = np.load(\"results/valid/{}_2_valid_score_mat.npy\".format(expname))[:,recon]\n",
    "    validresults3 = np.load(\"results/valid/{}_3_valid_score_mat.npy\".format(expname))[:,recon]\n",
    "    validresults4 = np.load(\"results/valid/{}_4_valid_score_mat.npy\".format(expname))[:,recon]\n",
    "    validresults = (validresults0 + validresults1 + validresults2 + validresults3 + validresults4) / 5\n",
    "    validresultsvec = np.vstack((validresults0, validresults1, validresults2, validresults3, validresults4))\n",
    "    \n",
    "    #print(results0, results1, results2, results3, results4)\n",
    "    #print(resultsvec)\n",
    "    std_results = np.std(resultsvec, axis=0) / np.sqrt(len(resultsvec))\n",
    "    std_validresults = np.std(validresultsvec, axis=0) / np.sqrt(len(validresultsvec))\n",
    "    #print(std_results)\n",
    "    \n",
    "    \n",
    "    xcoeffs = [0.0, 1.0, 3.0, 5.0, 10.0, 15.0]\n",
    "    if results.shape[0] == 7: # revert to old xcoeffs and ycoeffs\n",
    "        xcoeffs = [0.0, 0.5, 1.0, 3.0, 5.0, 10.0, 15.0]\n",
    "    elif results.shape[0] == 8:\n",
    "        xcoeffs = [0.0, 0.1, 0.5, 1.0, 3.0, 5.0, 10.0, 15.0]\n",
    "    \n",
    "    fig = plt.figure(figsize = (4, 3))\n",
    "    plt.plot(xcoeffs, results, label='RvR results (std. error shaded)')\n",
    "    plt.fill_between(xcoeffs, results - std_results, results + std_results, alpha=0.5)\n",
    "    plt.axhline(y=lr_baseline, label='Logistic regression baseline', color='green', linestyle='--')\n",
    "    plt.axhline(y=rf_baseline, label='Random forest baseline', color='purple', linestyle='--')\n",
    "    \n",
    "    plt.title(title)\n",
    "    plt.xlabel('Fairness coefficient')\n",
    "    plt.ylabel('Error on unseen population')\n",
    "    plt.legend(loc='upper right')\n",
    "    plt.show()\n",
    "    \n",
    "    \n",
    "def lr_baseline(dataset):\n",
    "    data = np.load('/Users/Frances/Documents/seas-fellowship/rvr/data/{}.npz'.format(dataset))\n",
    "    \n",
    "    x_train = data['x_train'][data['train_inds']]\n",
    "    y_train = data['y_train'][data['train_inds']]\n",
    "    x_valid = data['x_train'][data['valid_inds']]\n",
    "    y_valid = data['y_train'][data['valid_inds']]\n",
    "    x_test = data['x_test']\n",
    "    y_test = data['y_test']\n",
    "\n",
    "    yidx = 0\n",
    "    \n",
    "    modelall = LogisticRegression()\n",
    "    modelall.fit(x_train, y_train[:, yidx])\n",
    "    return (1 - modelall.score(x_test, y_test[:,yidx]))\n",
    "\n",
    "def rf_baseline(dataset, n_estimators=250, min_samples_split=2, max_features=12, \n",
    "                random_state=0):\n",
    "    data = np.load('/Users/Frances/Documents/seas-fellowship/rvr/data/{}.npz'.format(dataset))\n",
    "    \n",
    "    x_train = data['x_train'][data['train_inds']]\n",
    "    y_train = data['y_train'][data['train_inds']]\n",
    "    x_valid = data['x_train'][data['valid_inds']]\n",
    "    y_valid = data['y_train'][data['valid_inds']]\n",
    "    x_test = data['x_test']\n",
    "    y_test = data['y_test']\n",
    "\n",
    "    yidx = 0\n",
    "    \n",
    "    rf = RandomForestClassifier(n_estimators=n_estimators, min_samples_split=min_samples_split,\n",
    "                                max_features=max_features, random_state=random_state)\n",
    "    rf.fit(x_train, y_train[:, yidx])\n",
    "    trainerr = (1 - rf.score(x_train, y_train[:,yidx]))\n",
    "    validerr = (1 - rf.score(x_valid, y_valid[:,yidx]))\n",
    "    testerr = (1 - rf.score(x_test, y_test[:,yidx]))\n",
    "    return (trainerr, validerr, testerr)"
   ]
  },
  {
   "cell_type": "code",
   "execution_count": 29,
   "metadata": {},
   "outputs": [
    {
     "name": "stderr",
     "output_type": "stream",
     "text": [
      "/Users/Frances/anaconda3/envs/rvr-env/lib/python3.6/site-packages/sklearn/linear_model/logistic.py:433: FutureWarning: Default solver will be changed to 'lbfgs' in 0.22. Specify a solver to silence this warning.\n",
      "  FutureWarning)\n"
     ]
    }
   ],
   "source": [
    "dataset = 'runorfunc/run_orfunc_051319' #'runagree/run_agree_interact_042919_thresh'\n",
    "expname = 'runorfunc_all6060_051319'#'runagree_large_interact_042919_thresh'\n",
    "title = 'LARGE network (all components [60,60] neurons), dataset with complex OR 05/13/19'\n",
    "\n",
    "xcoeffs = [0.0, 1.0, 3.0, 5.0, 10.0, 15.0]\n",
    "ycoeffs = [0.0, 0.005, 0.01, 0.03, 0.05, 0.07, 0.1]\n",
    "\n",
    "lrbaseline = lr_baseline(dataset)\n",
    "#rfbaseline = rf_baseline(dataset)\n",
    "\n",
    "#plot_results(expname , xcoeffs, ycoeffs, lrbaseline, rfbaseline, title)\n",
    "\n",
    "\n",
    "\n"
   ]
  },
  {
   "cell_type": "code",
   "execution_count": 58,
   "metadata": {},
   "outputs": [],
   "source": [
    "dict_no_int = {\n",
    "    'runagree_seed_p1_2_042019' : ('runagree/run_agree_p1_2_042019', 'Small network, dataset with no interactions 04/20/19'),\n",
    "    'runagree_no_interact_050919' : ('runagree/run_agree_no_interact_050919', 'Small network, dataset with no interactions 05/09/19'),\n",
    "    'runagree_large_no_interact_050919' : ('runagree/run_agree_no_interact_050919', 'Large encoder network, dataset with no interactions 05/09/19'),\n",
    "    'runagree_all6060_no_interact_050919' : ('runagree/run_agree_no_interact_050919', 'LARGE network (all components [60,60] neurons), dataset with no interactions 05/09/19')\n",
    "}\n",
    "    \n",
    "dict_thresh = {\n",
    "    'runagree_interact_042919_thresh' : ('runagree/run_agree_interact_042919_thresh', 'Small network, dataset with 1 threshold interaction 04/29/19'),\n",
    "    'runagree_large_interact_042919_thresh' : ('runagree/run_agree_interact_042919_thresh', 'Large encoder network, dataset 1 threshold interaction 04/29/19'),\n",
    "    'runagree_all6060_interact_042919_thresh' : ('runagree/run_agree_interact_042919_thresh', 'LARGE network (all components [60,60] neurons), dataset 1 threshold interaction 04/29/19'),\n",
    "    'runagree_interact_051319_thresh': ('runagree/run_agree_interact_051319_thresh', 'Small network, dataset with 1 threshold interaction 05/13/19')\n",
    "}\n",
    "    \n",
    "dict_prod = {\n",
    "    'runagree_interact_050919_prod' : ('runagree/run_agree_interact_050919_prod', 'Small network, dataset with 1 product interaction 05/09/19'),\n",
    "    'runagree_interact_051019_prod' : ('runagree/run_agree_interact_051019_prod', 'Small network, dataset with 1 product interaction 05/10/19'),\n",
    "    'runagree_large_interact_051019_prod' : ('runagree/run_agree_interact_051019_prod', 'Large encoder network, dataset with 1 product interaction 05/10/19'),\n",
    "    'runagree_all6060_interact_052619_prod_10': ('runagree/run_agree_interact_052619_prod_10', 'All network parts LARGE, 10-study dataset, 1 product interaction 05/26/19')\n",
    "}\n",
    "\n",
    "dict_prod_thresh = {\n",
    "    'runagree_interact_042919_prod_thresh' : ('runagree/run_agree_interact_042919_prod_thresh', 'Small network, dataset with 2 product and 2 threshold interactions 04/29/19')\n",
    "}\n",
    "    \n",
    "dict_or = {\n",
    "    'runorfunc_051319' : ('runorfunc/run_orfunc_051319', 'Small network, dataset with label determined by the OR of two linear functions 05/13/19'),\n",
    "    'runorfunc_all6060_051319' : ('runorfunc/run_orfunc_051319', 'LARGE network (all [60,60] neurons), dataset determined by the OR of two linear functions 05/13/19'),\n",
    "    'runorfunc_051419' : ('runorfunc/run_orfunc_051419', 'Small network, dataset with label determined by the OR of two linear functions 05/14/19'),\n",
    "    'runorfunc_large_051419' : ('runorfunc/run_orfunc_051419', 'Large encoder network, dataset with label determined by the OR of two linear functions 05/14/19'),\n",
    "    'runorfunc_all6060_051419' : ('runorfunc/run_orfunc_051419', 'LARGE network (all [60,60] neurons), dataset determined by the OR of two linear functions 05/14/19'),\n",
    "    'runorfunc_all6060_052619_10' : ('runorfunc/run_orfunc_052619_10', 'All network parts LARGE, 10-study dataset labels from OR function 05/26/19')\n",
    "}\n",
    "\n",
    "dict_new = {\n",
    "    'runagree_all6060_interact_common_20_061619_prod_2_10' : ('runagree/run_agree_interact_common_20_061619_prod_2_10', 'Large full network, 10 studies, 2 product terms, 20 common feat 06/16/19'),\n",
    "    'runorfunc_all6060_no_br_061019_10' : ('runorfunc/run_orfunc_no_br_061019_adim_10', 'Large full network, 10 studies, OR func, 06/10/16')\n",
    "\n",
    "}\n",
    "\n",
    "dict_bce = {\n",
    "    'bcesets_nodes_120_60_40' : ('bcesets/bcenew', 'Large full network, 3 BCE sets'),\n",
    "    'bcesets_nodes_120_60_40_test_to_001' : ('bcesets/bcetest_to_001', 'Large full network, 3 BCE sets with test set switched with train set 3'),\n",
    "    'bcesets_nodes_120_60_40_test_to_001_REAL' : ('bcesets/bcesets_test_to_001_REAL', 'Large full network, 3 BCE sets with test set switched with train set 3 forreal')\n",
    "}\n",
    "\n"
   ]
  },
  {
   "cell_type": "markdown",
   "metadata": {},
   "source": [
    "# Plotting"
   ]
  },
  {
   "cell_type": "code",
   "execution_count": 62,
   "metadata": {},
   "outputs": [
    {
     "name": "stdout",
     "output_type": "stream",
     "text": [
      "bcesets_nodes_120_60_40_test_to_001_REAL\n"
     ]
    },
    {
     "name": "stderr",
     "output_type": "stream",
     "text": [
      "/Users/Frances/anaconda3/envs/rvr-env/lib/python3.6/site-packages/sklearn/linear_model/logistic.py:433: FutureWarning: Default solver will be changed to 'lbfgs' in 0.22. Specify a solver to silence this warning.\n",
      "  FutureWarning)\n"
     ]
    },
    {
     "name": "stdout",
     "output_type": "stream",
     "text": [
      "0.7617274758004468\n"
     ]
    }
   ],
   "source": [
    "#%pylab qt\n",
    "dict_single = {    'runorfunc_all6060_052619_10' : ('runorfunc/run_orfunc_052619_10', 'All network parts LARGE, 10-study dataset labels from OR function 05/26/19')\n",
    "              }\n",
    "\n",
    "dict_single = {\n",
    "    'bcesets_nodes_120_60_40_test_to_001' : ('bcesets/bcetest_to_001', 'Breast cancer gene expression dataset (3 training studies)')\n",
    "}\n",
    "\n",
    "dict_single = {\n",
    "    'runorfunc_051419' : ('runorfunc/run_orfunc_051419', 'Synthetic dataset with label determined by the OR of two linear functions')\n",
    "}\n",
    "\n",
    "dict_single = {\n",
    "    'runagree_seed_p1_2_042019' : ('runagree/run_agree_p1_2_042019', 'Synthetic dataset with label determined by a linear function')\n",
    "}\n",
    "\n",
    "dict_single = {\n",
    "    'runorfunc_all6060_052619_10' : ('runorfunc/run_orfunc_052619_10', 'All network parts LARGE, 10-study dataset labels from OR function 05/26/19')\n",
    "}\n",
    "\n",
    "dict_single = {    \n",
    "    'bcesets_nodes_120_60_40_test_to_001_REAL' : ('bcesets/bcesets_test_to_001_REAL', 'Large full network, 3 BCE sets with test set switched with train set 3 forreal')\n",
    "}\n",
    "### Important to change\n",
    "rf_filename = 'random_forest_baselines_n_100_minsamp_2_maxfeat_30.npy'\n",
    "rf_filename = 'random_forest_baselines_n_100_minsamp_2_maxfeat_5.npy'\n",
    "\n",
    "\n",
    "\n",
    "for expname, (dataset, title) in dict_single.items():\n",
    "    print(expname)\n",
    "    lrbaseline = lr_baseline(dataset)\n",
    "    \n",
    "    # load rf baseline\n",
    "    rfbase = np.load(rf_filename).item()\n",
    "    if dataset in rfbase:\n",
    "        rfbaseline = rfbase[dataset][2]\n",
    "    else:\n",
    "        raise Exception('must add random forest baseline for this dataset')\n",
    "    print(lrbaseline)\n",
    "    #plot_results(expname , xcoeffs, ycoeffs, lrbaseline, rfbaseline, title)\n"
   ]
  },
  {
   "cell_type": "code",
   "execution_count": 64,
   "metadata": {},
   "outputs": [
    {
     "name": "stdout",
     "output_type": "stream",
     "text": [
      "bcesets_nodes_120_60_40\n"
     ]
    },
    {
     "name": "stderr",
     "output_type": "stream",
     "text": [
      "/Users/Frances/anaconda3/envs/rvr-env/lib/python3.6/site-packages/sklearn/linear_model/logistic.py:433: FutureWarning: Default solver will be changed to 'lbfgs' in 0.22. Specify a solver to silence this warning.\n",
      "  FutureWarning)\n"
     ]
    }
   ],
   "source": [
    "#dict_single = {\n",
    "#    'bcesets_nodes_120_60_40_test_to_001' : ('bcesets/bcetest_to_001', 'Breast cancer gene expression dataset (3 training studies)')\n",
    "#}\n",
    "\n",
    "dict_single = {\n",
    "    'bcesets_nodes_120_60_40' : ('bcesets/bcenew', 'Large full network, 3 BCE sets')\n",
    "}\n",
    "\n",
    "for expname, (dataset, title) in dict_single.items():\n",
    "    print(expname)\n",
    "    lrbaseline = lr_baseline(dataset)\n",
    "    \n",
    "    # load rf baseline\n",
    "    rfbase = np.load(rf_filename).item()\n",
    "    if dataset in rfbase:\n",
    "        rfbaseline = rfbase[dataset][2]\n",
    "    else:\n",
    "        raise Exception('must add random forest baseline for this dataset')\n",
    "    plot_1D(expname , xcoeffs, ycoeffs, lrbaseline, rfbaseline, title)\n"
   ]
  },
  {
   "cell_type": "code",
   "execution_count": 112,
   "metadata": {},
   "outputs": [
    {
     "name": "stdout",
     "output_type": "stream",
     "text": [
      "{'runorfunc/run_orfunc_052619_10': (2.5000000000052758e-05, 0.0685, 0.06579999999999997)}\n",
      "{'runagree/run_agree_p1_2_042019': (0.0, 0.06325000000000003, 0.0816), 'runagree/run_agree_no_interact_050919': (0.0, 0.060250000000000026, 0.18479999999999996), 'runagree/run_agree_interact_042919_thresh': (0.0, 0.0615, 0.08399999999999996), 'runagree/run_agree_interact_051319_thresh': (0.0, 0.05225000000000002, 0.15639999999999998), 'runagree/run_agree_interact_050919_prod': (0.0, 0.0635, 0.1614), 'runagree/run_agree_interact_051019_prod': (0.0, 0.07074999999999998, 0.1402), 'runagree/run_agree_interact_052619_prod_10': (0.0, 0.0695, 0.1422), 'runagree/run_agree_interact_042919_prod_thresh': (0.0, 0.06474999999999997, 0.12619999999999998), 'runorfunc/run_orfunc_051319': (0.0, 0.08350000000000002, 0.11019999999999996), 'runorfunc/run_orfunc_051419': (0.0, 0.07874999999999999, 0.21640000000000004), 'runorfunc/run_orfunc_052619_10': (0.0, 0.062100000000000044, 0.06599999999999995)}\n"
     ]
    }
   ],
   "source": []
  },
  {
   "cell_type": "markdown",
   "metadata": {},
   "source": [
    "# Running Random Forest baselines"
   ]
  },
  {
   "cell_type": "code",
   "execution_count": 60,
   "metadata": {},
   "outputs": [
    {
     "name": "stdout",
     "output_type": "stream",
     "text": [
      "bcesets/bcenew\n",
      "bcesets/bcetest_to_001\n",
      "bcesets/bcesets_test_to_001_REAL\n"
     ]
    }
   ],
   "source": [
    "#rf_filename = 'random_forest_baselines_n_100_minsamp_2_maxfeat_30.npy'\n",
    "#np.save(rf_filename, {})\n",
    "\n",
    "#np.save(rf_filename, {'runagree/run_agree_interact_052619_prod_10' : (0.0, 0.0654, 0.1296) })\n",
    "\n",
    "for expname, (dataset, title) in dict_bce.items():\n",
    "    print(dataset)\n",
    "    cur = np.load(rf_filename).item()\n",
    "    if dataset not in cur:\n",
    "        trainerr, validerr, testerr = rf_baseline(dataset, n_estimators=100, \n",
    "                                                  min_samples_split=2, max_features=30)\n",
    "        cur[dataset] = (trainerr, validerr, testerr)\n",
    "        np.save(rf_filename, cur)\n",
    "    "
   ]
  },
  {
   "cell_type": "code",
   "execution_count": 12,
   "metadata": {},
   "outputs": [
    {
     "name": "stdout",
     "output_type": "stream",
     "text": [
      "bcesets/bcenew\n",
      "bcesets/bcetest_to_001\n"
     ]
    }
   ],
   "source": [
    "rf_filename = 'random_forest_baselines_n_100_minsamp_2_maxfeat_5.npy'\n",
    "\n",
    "for expname, (dataset, title) in dict_bce.items():\n",
    "    print(dataset)\n",
    "    cur = np.load(rf_filename).item()\n",
    "    if dataset not in cur:\n",
    "        trainerr, validerr, testerr = rf_baseline(dataset, n_estimators=100, \n",
    "                                                  min_samples_split=2, max_features=5)\n",
    "        cur[dataset] = (trainerr, validerr, testerr)\n",
    "        np.save(rf_filename, cur)"
   ]
  },
  {
   "cell_type": "code",
   "execution_count": 101,
   "metadata": {},
   "outputs": [
    {
     "name": "stdout",
     "output_type": "stream",
     "text": [
      "runagree/run_agree_interact_042919_thresh\n",
      "runagree/run_agree_interact_042919_thresh\n",
      "runagree/run_agree_interact_042919_thresh\n",
      "runagree/run_agree_interact_051319_thresh\n"
     ]
    }
   ],
   "source": [
    "rf_filename = 'random_forest_baselines_n_100_minsamp_2_maxfeat_5.npy'\n",
    "#np.save(rf_filename, {'runagree/run_agree_interact_052619_prod_10' : (0.0, 0.0654, 0.1296) })\n",
    "\n",
    "for expname, (dataset, title) in dict_thresh.items():\n",
    "    print(dataset)\n",
    "    cur = np.load(rf_filename).item()\n",
    "    if dataset not in cur:\n",
    "        trainerr, validerr, testerr = rf_baseline(dataset, n_estimators=100, \n",
    "                                                  min_samples_split=2, max_features=5)\n",
    "        cur[dataset] = (trainerr, validerr, testerr)\n",
    "        np.save(rf_filename, cur)"
   ]
  },
  {
   "cell_type": "code",
   "execution_count": 17,
   "metadata": {},
   "outputs": [
    {
     "name": "stdout",
     "output_type": "stream",
     "text": [
      "runagree/run_agree_interact_050919_prod\n",
      "runagree/run_agree_interact_051019_prod\n",
      "runagree/run_agree_interact_051019_prod\n",
      "runagree/run_agree_interact_052619_prod_10\n"
     ]
    }
   ],
   "source": [
    "rf_filename = 'random_forest_baselines_n_100_minsamp_2_maxfeat_5.npy'\n",
    "#np.save(rf_filename, {'runagree/run_agree_interact_052619_prod_10' : (0.0, 0.0654, 0.1296) })\n",
    "\n",
    "for expname, (dataset, title) in dict_prod.items():\n",
    "    print(dataset)\n",
    "    cur = np.load(rf_filename).item()\n",
    "    if dataset not in cur:\n",
    "        trainerr, validerr, testerr = rf_baseline(dataset, n_estimators=100, \n",
    "                                                  min_samples_split=2, max_features=5)\n",
    "        cur[dataset] = (trainerr, validerr, testerr)\n",
    "        np.save(rf_filename, cur)"
   ]
  },
  {
   "cell_type": "code",
   "execution_count": 103,
   "metadata": {},
   "outputs": [
    {
     "name": "stdout",
     "output_type": "stream",
     "text": [
      "runagree/run_agree_interact_042919_prod_thresh\n"
     ]
    }
   ],
   "source": [
    "rf_filename = 'random_forest_baselines_n_100_minsamp_2_maxfeat_5.npy'\n",
    "#np.save(rf_filename, {'runagree/run_agree_interact_052619_prod_10' : (0.0, 0.0654, 0.1296) })\n",
    "\n",
    "for expname, (dataset, title) in dict_prod_thresh.items():\n",
    "    print(dataset)\n",
    "    cur = np.load(rf_filename).item()\n",
    "    if dataset not in cur:\n",
    "        trainerr, validerr, testerr = rf_baseline(dataset, n_estimators=100, \n",
    "                                                  min_samples_split=2, max_features=5)\n",
    "        cur[dataset] = (trainerr, validerr, testerr)\n",
    "        np.save(rf_filename, cur)"
   ]
  },
  {
   "cell_type": "code",
   "execution_count": 106,
   "metadata": {},
   "outputs": [
    {
     "name": "stdout",
     "output_type": "stream",
     "text": [
      "DONEEEEEEEEEEEEEE\n"
     ]
    }
   ],
   "source": [
    "print('DONEEEEEEEEEEEEEE')"
   ]
  },
  {
   "cell_type": "code",
   "execution_count": null,
   "metadata": {},
   "outputs": [],
   "source": []
  },
  {
   "cell_type": "code",
   "execution_count": 16,
   "metadata": {},
   "outputs": [
    {
     "name": "stdout",
     "output_type": "stream",
     "text": [
      "{'runagree/run_agree_p1_2_042019': (0.0, 0.06325000000000003, 0.0816), 'runagree/run_agree_no_interact_050919': (0.0, 0.060250000000000026, 0.18479999999999996), 'runagree/run_agree_interact_042919_thresh': (0.0, 0.0615, 0.08399999999999996), 'runagree/run_agree_interact_051319_thresh': (0.0, 0.05225000000000002, 0.15639999999999998), 'runagree/run_agree_interact_050919_prod': (0.0, 0.0635, 0.1614), 'runagree/run_agree_interact_051019_prod': (0.0, 0.07074999999999998, 0.1402), 'runagree/run_agree_interact_052619_prod_10': (0.0, 0.0695, 0.1422), 'runagree/run_agree_interact_042919_prod_thresh': (0.0, 0.06474999999999997, 0.12619999999999998), 'runorfunc/run_orfunc_051319': (0.0, 0.08350000000000002, 0.11019999999999996), 'runorfunc/run_orfunc_051419': (0.0, 0.07874999999999999, 0.21640000000000004), 'runorfunc/run_orfunc_052619_10': (0.0, 0.062100000000000044, 0.06599999999999995), 'runagree/run_agree_interact_common_20_061619_prod_2_10': (0.0, 0.09550000000000003, 0.09899999999999998), 'runorfunc/run_orfunc_no_br_061019_adim_10': (0.0, 0.07369999999999999, 0.059599999999999986)}\n"
     ]
    }
   ],
   "source": [
    "#baselines = np.load('random_forest_baselines.npy').item()\n",
    "baselines = np.load(rf_filename).item()\n",
    "\n",
    "print(baselines)\n",
    "#print('runagree/run_agree_interact_052619_prod_10' in baselines)"
   ]
  },
  {
   "cell_type": "code",
   "execution_count": 51,
   "metadata": {},
   "outputs": [
    {
     "name": "stdout",
     "output_type": "stream",
     "text": [
      "runagree/run_agree_p1_2_042019\n",
      "runagree/run_agree_no_interact_050919\n",
      "runagree/run_agree_no_interact_050919\n",
      "runagree/run_agree_no_interact_050919\n"
     ]
    }
   ],
   "source": [
    "lr_filename = 'testtest.npy'\n",
    "#np.save(lr_filename, {'runagree/run_agree_interact_052619_prod_10' : (0.0, 0.0654, 0.1296) })\n",
    "\n",
    "for expname, (dataset, title) in dict_no_int.items():\n",
    "    print(dataset)\n",
    "    cur = np.load(lr_filename).item()\n",
    "    if dataset not in cur:\n",
    "        testerr = lr_baseline(dataset)\n",
    "        cur[dataset] = (5, testerr)\n",
    "        np.save(lr_filename, cur)"
   ]
  },
  {
   "cell_type": "code",
   "execution_count": 52,
   "metadata": {},
   "outputs": [
    {
     "name": "stdout",
     "output_type": "stream",
     "text": [
      "{'runagree/run_agree_interact_052619_prod_10': 0.4578, 'new': 5, 'runagree/run_agree_p1_2_042019': (5, 0.05359999999999998), 'runagree/run_agree_no_interact_050919': (5, 0.0706)}\n"
     ]
    }
   ],
   "source": [
    "cur = np.load(lr_filename).item()\n",
    "print(cur)"
   ]
  },
  {
   "cell_type": "code",
   "execution_count": 13,
   "metadata": {},
   "outputs": [],
   "source": [
    "#results = np.load(\"runhet_recon_sweep_score_mat.npy\")\n",
    "#results = np.load(\"runp_1_2_sweep_dp_score_mat.npy\")\n",
    "#results = np.load(\"runp_1_2_sweep_eo_041719_prod_score_mat.npy\")\n",
    "results0 = np.load(\"results/runagree_large_interact_042919_thresh_0_score_mat.npy\")#[:,:-1]\n",
    "results1 = np.load(\"results/runagree_large_interact_042919_thresh_1_score_mat.npy\")#[:,:-1]\n",
    "results2 = np.load(\"results/runagree_large_interact_042919_thresh_2_score_mat.npy\")#[:,:-1]\n",
    "results3 = np.load(\"results/runagree_large_interact_042919_thresh_3_score_mat.npy\")#[:,:-1]\n",
    "results4 = np.load(\"results/runagree_large_interact_042919_thresh_4_score_mat.npy\")#[:,:-1]"
   ]
  },
  {
   "cell_type": "code",
   "execution_count": 15,
   "metadata": {},
   "outputs": [
    {
     "name": "stdout",
     "output_type": "stream",
     "text": [
      "(6, 7)\n",
      "[[0.0677484  0.0657452  0.06666668 0.07700324 0.0630609  0.07604166\n",
      "  0.07359774]\n",
      " [0.0694311  0.07676282 0.076242   0.06858974 0.06891026 0.06434294\n",
      "  0.0676282 ]\n",
      " [0.06959136 0.0685096  0.06814906 0.07852562 0.07728364 0.07479968\n",
      "  0.06722758]\n",
      " [0.06951124 0.06794872 0.07171476 0.06033652 0.07179488 0.06754808\n",
      "  0.070633  ]\n",
      " [0.07247594 0.0711939  0.06738782 0.06402244 0.06806892 0.067508\n",
      "  0.07047278]\n",
      " [0.06466348 0.07455928 0.06237982 0.06221956 0.07019232 0.0647436\n",
      "  0.06434296]]\n"
     ]
    }
   ],
   "source": [
    "#results = results[:, :]\n",
    "results = (results0 + results1 + results2 + results3 + results4) / 5\n",
    "print(results.shape)\n",
    "print(results)"
   ]
  },
  {
   "cell_type": "code",
   "execution_count": null,
   "metadata": {},
   "outputs": [],
   "source": [
    "#coeffs = np.array(['0_0', '0_005', '0_01', '0_05', '0_1', '0_2', '0_5', '1_0', '2_0', '4_0', '6_0', '10_0'])\n",
    "#coeffs = np.array([0. , 0.005, 0.01, 0.05, 0.1, 0.2, 0.5, 1., 2., 4., 6., 10.])\n",
    "#xcoeffs = [0.0, 0.01, 0.05, 0.1, 0.15, 0.2, 0.3, 0.5, 1.0, 4.0]\n",
    "#ycoeffs = [0.0, 0.001, 0.005, 0.01] #, 0.03]#, 0.05, 0.1, 0.15, 0.2, 0.3]\n",
    "#xcoeffs = [0.0, 0.1, 0.5, 1.0, 3.0, 5.0, 10.0, 15.0]\n",
    "#ycoeffs = [0.0, 0.0005, 0.001, 0.002, 0.003, 0.005, 0.007, 0.01, 0.03, 0.05, 0.1] #, 0.7]\n",
    "#xcoeffs = [0.0, 0.1, 0.5, 1.0, 3.0, 5.0, 10.0, 15.0]\n",
    "#ycoeffs = [0.0, 0.001, 0.005, 0.01, 0.025, 0.05, 0.075, 0.1, 0.3, 0.5]\n",
    "#n = len(coeffs)\n",
    "\n",
    "#7 by 8 runxcoeffs = [0.0, 0.5, 1.0, 3.0, 5.0, 10.0, 15.0]\n",
    "#ycoeffs = [0.0, 0.002, 0.005, 0.01, 0.03, 0.05, 0.07, 0.1]\n",
    "\n",
    "#6 by 7 run\n",
    "xcoeffs = [0.0, 1.0, 3.0, 5.0, 10.0, 15.0]\n",
    "ycoeffs = [0.0, 0.005, 0.01, 0.03, 0.05, 0.07, 0.1]\n",
    "\n"
   ]
  },
  {
   "cell_type": "code",
   "execution_count": null,
   "metadata": {},
   "outputs": [],
   "source": [
    "X = np.repeat(xcoeffs, len(ycoeffs)).reshape((len(xcoeffs), len(ycoeffs)))\n",
    "Y = np.repeat(ycoeffs, len(xcoeffs)).reshape((len(xcoeffs), len(ycoeffs)), order='F')\n",
    "print(X)\n",
    "print(Y)"
   ]
  },
  {
   "cell_type": "code",
   "execution_count": null,
   "metadata": {},
   "outputs": [],
   "source": [
    "xmesh = np.linspace(xcoeffs[0], xcoeffs[-1])\n",
    "ymesh = np.linspace(ycoeffs[0], ycoeffs[-1])\n",
    "xmeshgrid = np.repeat(xmesh, len(ymesh)).reshape((len(xmesh), len(ymesh)))\n",
    "ymeshgrid = np.repeat(ymesh, len(xmesh)).reshape((len(xmesh), len(ymesh)), order='F')\n",
    "#xmeshgrid\n",
    "#ymeshgrid\n",
    "\n",
    "logreg = np.ones(xmeshgrid.shape) * 0.0464 #0.1872 #0.238 #0.16500 #0.132 #0.0464 #0.1872 #0.0706 #0.2004 #0.0536 #0.1932\n"
   ]
  },
  {
   "cell_type": "code",
   "execution_count": null,
   "metadata": {},
   "outputs": [],
   "source": [
    "fig = plt.figure(figsize = (10, 6))\n",
    "ax = fig.gca(projection='3d')\n",
    "surf = ax.plot_surface(X, Y, results, cmap=cm.coolwarm, linewidth=0, antialiased=False, edgecolor='black')\n",
    "plane = ax.plot_wireframe(xmeshgrid, ymeshgrid, logreg, color='green', linewidth=.5, antialiased=False)\n",
    "#surf.set_label('Multi-Study LAFTR')\n",
    "plane.set_label('Logistic regression baseline')\n",
    "plt.xlabel('Fairness coefficient')\n",
    "plt.ylabel('Reconstruction coefficient')\n",
    "plt.title('LARGE network trained on 1 threshold interaction 04/29/19')\n",
    "ax.set_zlabel('Error')\n",
    "fig.colorbar(surf, shrink=0.5, aspect=5)\n",
    "\n",
    "plt.legend(loc='lower right')\n",
    "plt.show()"
   ]
  },
  {
   "cell_type": "code",
   "execution_count": null,
   "metadata": {},
   "outputs": [],
   "source": []
  },
  {
   "cell_type": "code",
   "execution_count": null,
   "metadata": {},
   "outputs": [],
   "source": []
  },
  {
   "cell_type": "code",
   "execution_count": null,
   "metadata": {},
   "outputs": [],
   "source": []
  },
  {
   "cell_type": "code",
   "execution_count": null,
   "metadata": {},
   "outputs": [],
   "source": []
  }
 ],
 "metadata": {
  "kernelspec": {
   "display_name": "Python 3",
   "language": "python",
   "name": "python3"
  },
  "language_info": {
   "codemirror_mode": {
    "name": "ipython",
    "version": 3
   },
   "file_extension": ".py",
   "mimetype": "text/x-python",
   "name": "python",
   "nbconvert_exporter": "python",
   "pygments_lexer": "ipython3",
   "version": "3.6.7"
  }
 },
 "nbformat": 4,
 "nbformat_minor": 2
}
