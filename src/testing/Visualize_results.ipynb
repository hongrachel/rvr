{
 "cells": [
  {
   "cell_type": "code",
   "execution_count": 8,
   "metadata": {},
   "outputs": [
    {
     "name": "stdout",
     "output_type": "stream",
     "text": [
      "Populating the interactive namespace from numpy and matplotlib\n"
     ]
    }
   ],
   "source": [
    "import numpy as np\n",
    "import matplotlib.pyplot as plt\n",
    "from mpl_toolkits.mplot3d import Axes3D\n",
    "from matplotlib import cm\n",
    "#%matplotlib nbagg\n",
    "#%matplotlib notebook\n",
    "#%matplotlib qt\n",
    "%pylab qt"
   ]
  },
  {
   "cell_type": "code",
   "execution_count": 76,
   "metadata": {},
   "outputs": [],
   "source": [
    "#results = np.load(\"runhet_recon_sweep_score_mat.npy\")\n",
    "#results = np.load(\"runp_1_2_sweep_dp_score_mat.npy\")\n",
    "#results = np.load(\"runp_1_2_sweep_eo_041719_prod_score_mat.npy\")\n",
    "results0 = np.load(\"results/runagree_interact_051319_thresh_0_score_mat.npy\")#[:,:-1]\n",
    "results1 = np.load(\"results/runagree_interact_051319_thresh_1_score_mat.npy\")#[:,:-1]\n",
    "results2 = np.load(\"results/runagree_interact_051319_thresh_2_score_mat.npy\")#[:,:-1]\n",
    "results3 = np.load(\"results/runagree_interact_051319_thresh_3_score_mat.npy\")#[:,:-1]\n",
    "results4 = np.load(\"results/runagree_interact_051319_thresh_4_score_mat.npy\")#[:,:-1]"
   ]
  },
  {
   "cell_type": "code",
   "execution_count": 77,
   "metadata": {},
   "outputs": [
    {
     "data": {
      "text/plain": [
       "array([[0.15384614, 0.14603366, 0.13108976, 0.13209134, 0.13397434,\n",
       "        0.13802086, 0.1262019 , 0.14162658],\n",
       "       [0.13894232, 0.13449522, 0.12640224, 0.14559296, 0.13886216,\n",
       "        0.14082532, 0.15196314, 0.1554487 ],\n",
       "       [0.13189102, 0.13377404, 0.13353364, 0.13770032, 0.12652244,\n",
       "        0.14915866, 0.1354567 , 0.15572918],\n",
       "       [0.12303686, 0.12087342, 0.11554488, 0.11330126, 0.12003206,\n",
       "        0.1196715 , 0.12327724, 0.13233174],\n",
       "       [0.12391826, 0.1147436 , 0.1169471 , 0.11594552, 0.12628204,\n",
       "        0.12804488, 0.13189102, 0.12792468],\n",
       "       [0.11554486, 0.11959136, 0.10837342, 0.11506412, 0.1273237 ,\n",
       "        0.11967148, 0.13573718, 0.14370992],\n",
       "       [0.1010016 , 0.1096955 , 0.11282054, 0.1191907 , 0.1196715 ,\n",
       "        0.12259616, 0.1335737 , 0.14358974]])"
      ]
     },
     "execution_count": 77,
     "metadata": {},
     "output_type": "execute_result"
    }
   ],
   "source": [
    "#results = results[:, :]\n",
    "results = (results0 + results1 + results2 + results3 + results4) / 5\n",
    "results"
   ]
  },
  {
   "cell_type": "code",
   "execution_count": 78,
   "metadata": {},
   "outputs": [],
   "source": [
    "#coeffs = np.array(['0_0', '0_005', '0_01', '0_05', '0_1', '0_2', '0_5', '1_0', '2_0', '4_0', '6_0', '10_0'])\n",
    "#coeffs = np.array([0. , 0.005, 0.01, 0.05, 0.1, 0.2, 0.5, 1., 2., 4., 6., 10.])\n",
    "#xcoeffs = [0.0, 0.01, 0.05, 0.1, 0.15, 0.2, 0.3, 0.5, 1.0, 4.0]\n",
    "#ycoeffs = [0.0, 0.001, 0.005, 0.01] #, 0.03]#, 0.05, 0.1, 0.15, 0.2, 0.3]\n",
    "#xcoeffs = [0.0, 0.1, 0.5, 1.0, 3.0, 5.0, 10.0, 15.0]\n",
    "#ycoeffs = [0.0, 0.0005, 0.001, 0.002, 0.003, 0.005, 0.007, 0.01, 0.03, 0.05, 0.1] #, 0.7]\n",
    "#xcoeffs = [0.0, 0.1, 0.5, 1.0, 3.0, 5.0, 10.0, 15.0]\n",
    "#ycoeffs = [0.0, 0.001, 0.005, 0.01, 0.025, 0.05, 0.075, 0.1, 0.3, 0.5]\n",
    "#n = len(coeffs)\n",
    "\n",
    "xcoeffs = [0.0, 0.5, 1.0, 3.0, 5.0, 10.0, 15.0]\n",
    "ycoeffs = [0.0, 0.002, 0.005, 0.01, 0.03, 0.05, 0.07, 0.1]\n",
    "\n"
   ]
  },
  {
   "cell_type": "code",
   "execution_count": 79,
   "metadata": {},
   "outputs": [
    {
     "name": "stdout",
     "output_type": "stream",
     "text": [
      "[[ 0.   0.   0.   0.   0.   0.   0.   0. ]\n",
      " [ 0.5  0.5  0.5  0.5  0.5  0.5  0.5  0.5]\n",
      " [ 1.   1.   1.   1.   1.   1.   1.   1. ]\n",
      " [ 3.   3.   3.   3.   3.   3.   3.   3. ]\n",
      " [ 5.   5.   5.   5.   5.   5.   5.   5. ]\n",
      " [10.  10.  10.  10.  10.  10.  10.  10. ]\n",
      " [15.  15.  15.  15.  15.  15.  15.  15. ]]\n",
      "[[0.    0.002 0.005 0.01  0.03  0.05  0.07  0.1  ]\n",
      " [0.    0.002 0.005 0.01  0.03  0.05  0.07  0.1  ]\n",
      " [0.    0.002 0.005 0.01  0.03  0.05  0.07  0.1  ]\n",
      " [0.    0.002 0.005 0.01  0.03  0.05  0.07  0.1  ]\n",
      " [0.    0.002 0.005 0.01  0.03  0.05  0.07  0.1  ]\n",
      " [0.    0.002 0.005 0.01  0.03  0.05  0.07  0.1  ]\n",
      " [0.    0.002 0.005 0.01  0.03  0.05  0.07  0.1  ]]\n"
     ]
    }
   ],
   "source": [
    "X = np.repeat(xcoeffs, len(ycoeffs)).reshape((len(xcoeffs), len(ycoeffs)))\n",
    "Y = np.repeat(ycoeffs, len(xcoeffs)).reshape((len(xcoeffs), len(ycoeffs)), order='F')\n",
    "print(X)\n",
    "print(Y)"
   ]
  },
  {
   "cell_type": "code",
   "execution_count": 80,
   "metadata": {},
   "outputs": [],
   "source": [
    "xmesh = np.linspace(xcoeffs[0], xcoeffs[-1])\n",
    "ymesh = np.linspace(ycoeffs[0], ycoeffs[-1])\n",
    "xmeshgrid = np.repeat(xmesh, len(ymesh)).reshape((len(xmesh), len(ymesh)))\n",
    "ymeshgrid = np.repeat(ymesh, len(xmesh)).reshape((len(xmesh), len(ymesh)), order='F')\n",
    "#xmeshgrid\n",
    "#ymeshgrid\n",
    "\n",
    "logreg = np.ones(xmeshgrid.shape) * 0.132 #0.0464 #0.1872 #0.0706 #0.2004 #0.0536 #0.1932\n"
   ]
  },
  {
   "cell_type": "code",
   "execution_count": 81,
   "metadata": {},
   "outputs": [],
   "source": [
    "fig = plt.figure(figsize = (10, 6))\n",
    "ax = fig.gca(projection='3d')\n",
    "surf = ax.plot_surface(X, Y, results, cmap=cm.coolwarm, linewidth=0, antialiased=False, edgecolor='black')\n",
    "plane = ax.plot_wireframe(xmeshgrid, ymeshgrid, logreg, color='green', linewidth=.5, antialiased=False)\n",
    "#surf.set_label('Multi-Study LAFTR')\n",
    "plane.set_label('Logistic regression baseline')\n",
    "plt.xlabel('Fairness coefficient')\n",
    "plt.ylabel('Reconstruction coefficient')\n",
    "plt.title('1 threshold interaction dataset 05/13/19')\n",
    "ax.set_zlabel('Error')\n",
    "fig.colorbar(surf, shrink=0.5, aspect=5)\n",
    "\n",
    "plt.legend(loc='lower right')\n",
    "plt.show()"
   ]
  },
  {
   "cell_type": "code",
   "execution_count": null,
   "metadata": {},
   "outputs": [],
   "source": []
  },
  {
   "cell_type": "code",
   "execution_count": null,
   "metadata": {},
   "outputs": [],
   "source": []
  }
 ],
 "metadata": {
  "kernelspec": {
   "display_name": "Python 3",
   "language": "python",
   "name": "python3"
  },
  "language_info": {
   "codemirror_mode": {
    "name": "ipython",
    "version": 3
   },
   "file_extension": ".py",
   "mimetype": "text/x-python",
   "name": "python",
   "nbconvert_exporter": "python",
   "pygments_lexer": "ipython3",
   "version": "3.6.7"
  }
 },
 "nbformat": 4,
 "nbformat_minor": 2
}
