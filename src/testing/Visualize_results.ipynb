{
 "cells": [
  {
   "cell_type": "code",
   "execution_count": 8,
   "metadata": {},
   "outputs": [
    {
     "name": "stdout",
     "output_type": "stream",
     "text": [
      "Populating the interactive namespace from numpy and matplotlib\n"
     ]
    }
   ],
   "source": [
    "import numpy as np\n",
    "import matplotlib.pyplot as plt\n",
    "from mpl_toolkits.mplot3d import Axes3D\n",
    "from matplotlib import cm\n",
    "#%matplotlib nbagg\n",
    "#%matplotlib notebook\n",
    "#%matplotlib qt\n",
    "%pylab qt"
   ]
  },
  {
   "cell_type": "code",
   "execution_count": 89,
   "metadata": {},
   "outputs": [],
   "source": [
    "#results = np.load(\"runhet_recon_sweep_score_mat.npy\")\n",
    "#results = np.load(\"runp_1_2_sweep_dp_score_mat.npy\")\n",
    "#results = np.load(\"runp_1_2_sweep_eo_041719_prod_score_mat.npy\")\n",
    "results0 = np.load(\"results/runorfunc_051419_0_score_mat.npy\")#[:,:-1]\n",
    "results1 = np.load(\"results/runorfunc_051419_1_score_mat.npy\")#[:,:-1]\n",
    "results2 = np.load(\"results/runorfunc_051419_2_score_mat.npy\")#[:,:-1]\n",
    "results3 = np.load(\"results/runorfunc_051419_3_score_mat.npy\")#[:,:-1]\n",
    "results4 = np.load(\"results/runorfunc_051419_4_score_mat.npy\")#[:,:-1]"
   ]
  },
  {
   "cell_type": "code",
   "execution_count": 90,
   "metadata": {},
   "outputs": [
    {
     "data": {
      "text/plain": [
       "array([[0.40945514, 0.41454328, 0.3736779 , 0.3741186 , 0.31923078,\n",
       "        0.30560898, 0.28581732, 0.27652242],\n",
       "       [0.2771234 , 0.28076922, 0.27299678, 0.28129006, 0.19491186,\n",
       "        0.20228364, 0.16534456, 0.1785657 ],\n",
       "       [0.22688304, 0.24102564, 0.2118189 , 0.20600962, 0.17776442,\n",
       "        0.20777244, 0.17708332, 0.19082532],\n",
       "       [0.17572114, 0.17884616, 0.18745994, 0.18325322, 0.16658654,\n",
       "        0.16149838, 0.1741186 , 0.1941907 ],\n",
       "       [0.17844552, 0.18221154, 0.17127406, 0.18205126, 0.18120994,\n",
       "        0.16458332, 0.15985578, 0.19535258],\n",
       "       [0.18337342, 0.16794872, 0.19447114, 0.18513622, 0.18697918,\n",
       "        0.17099356, 0.1746795 , 0.17860578],\n",
       "       [0.20641026, 0.18934296, 0.18149038, 0.18289262, 0.18842148,\n",
       "        0.1810096 , 0.178125  , 0.18946314]])"
      ]
     },
     "execution_count": 90,
     "metadata": {},
     "output_type": "execute_result"
    }
   ],
   "source": [
    "#results = results[:, :]\n",
    "results = (results0 + results1 + results2 + results3 + results4) / 5\n",
    "results"
   ]
  },
  {
   "cell_type": "code",
   "execution_count": 91,
   "metadata": {},
   "outputs": [],
   "source": [
    "#coeffs = np.array(['0_0', '0_005', '0_01', '0_05', '0_1', '0_2', '0_5', '1_0', '2_0', '4_0', '6_0', '10_0'])\n",
    "#coeffs = np.array([0. , 0.005, 0.01, 0.05, 0.1, 0.2, 0.5, 1., 2., 4., 6., 10.])\n",
    "#xcoeffs = [0.0, 0.01, 0.05, 0.1, 0.15, 0.2, 0.3, 0.5, 1.0, 4.0]\n",
    "#ycoeffs = [0.0, 0.001, 0.005, 0.01] #, 0.03]#, 0.05, 0.1, 0.15, 0.2, 0.3]\n",
    "#xcoeffs = [0.0, 0.1, 0.5, 1.0, 3.0, 5.0, 10.0, 15.0]\n",
    "#ycoeffs = [0.0, 0.0005, 0.001, 0.002, 0.003, 0.005, 0.007, 0.01, 0.03, 0.05, 0.1] #, 0.7]\n",
    "#xcoeffs = [0.0, 0.1, 0.5, 1.0, 3.0, 5.0, 10.0, 15.0]\n",
    "#ycoeffs = [0.0, 0.001, 0.005, 0.01, 0.025, 0.05, 0.075, 0.1, 0.3, 0.5]\n",
    "#n = len(coeffs)\n",
    "\n",
    "xcoeffs = [0.0, 0.5, 1.0, 3.0, 5.0, 10.0, 15.0]\n",
    "ycoeffs = [0.0, 0.002, 0.005, 0.01, 0.03, 0.05, 0.07, 0.1]\n",
    "\n"
   ]
  },
  {
   "cell_type": "code",
   "execution_count": 92,
   "metadata": {},
   "outputs": [
    {
     "name": "stdout",
     "output_type": "stream",
     "text": [
      "[[ 0.   0.   0.   0.   0.   0.   0.   0. ]\n",
      " [ 0.5  0.5  0.5  0.5  0.5  0.5  0.5  0.5]\n",
      " [ 1.   1.   1.   1.   1.   1.   1.   1. ]\n",
      " [ 3.   3.   3.   3.   3.   3.   3.   3. ]\n",
      " [ 5.   5.   5.   5.   5.   5.   5.   5. ]\n",
      " [10.  10.  10.  10.  10.  10.  10.  10. ]\n",
      " [15.  15.  15.  15.  15.  15.  15.  15. ]]\n",
      "[[0.    0.002 0.005 0.01  0.03  0.05  0.07  0.1  ]\n",
      " [0.    0.002 0.005 0.01  0.03  0.05  0.07  0.1  ]\n",
      " [0.    0.002 0.005 0.01  0.03  0.05  0.07  0.1  ]\n",
      " [0.    0.002 0.005 0.01  0.03  0.05  0.07  0.1  ]\n",
      " [0.    0.002 0.005 0.01  0.03  0.05  0.07  0.1  ]\n",
      " [0.    0.002 0.005 0.01  0.03  0.05  0.07  0.1  ]\n",
      " [0.    0.002 0.005 0.01  0.03  0.05  0.07  0.1  ]]\n"
     ]
    }
   ],
   "source": [
    "X = np.repeat(xcoeffs, len(ycoeffs)).reshape((len(xcoeffs), len(ycoeffs)))\n",
    "Y = np.repeat(ycoeffs, len(xcoeffs)).reshape((len(xcoeffs), len(ycoeffs)), order='F')\n",
    "print(X)\n",
    "print(Y)"
   ]
  },
  {
   "cell_type": "code",
   "execution_count": 93,
   "metadata": {},
   "outputs": [],
   "source": [
    "xmesh = np.linspace(xcoeffs[0], xcoeffs[-1])\n",
    "ymesh = np.linspace(ycoeffs[0], ycoeffs[-1])\n",
    "xmeshgrid = np.repeat(xmesh, len(ymesh)).reshape((len(xmesh), len(ymesh)))\n",
    "ymeshgrid = np.repeat(ymesh, len(xmesh)).reshape((len(xmesh), len(ymesh)), order='F')\n",
    "#xmeshgrid\n",
    "#ymeshgrid\n",
    "\n",
    "logreg = np.ones(xmeshgrid.shape) * 0.238 #0.16500 #0.132 #0.0464 #0.1872 #0.0706 #0.2004 #0.0536 #0.1932\n"
   ]
  },
  {
   "cell_type": "code",
   "execution_count": 94,
   "metadata": {},
   "outputs": [],
   "source": [
    "fig = plt.figure(figsize = (10, 6))\n",
    "ax = fig.gca(projection='3d')\n",
    "surf = ax.plot_surface(X, Y, results, cmap=cm.coolwarm, linewidth=0, antialiased=False, edgecolor='black')\n",
    "plane = ax.plot_wireframe(xmeshgrid, ymeshgrid, logreg, color='green', linewidth=.5, antialiased=False)\n",
    "#surf.set_label('Multi-Study LAFTR')\n",
    "plane.set_label('Logistic regression baseline')\n",
    "plt.xlabel('Fairness coefficient')\n",
    "plt.ylabel('Reconstruction coefficient')\n",
    "plt.title('OR function dataset 05/14/19')\n",
    "ax.set_zlabel('Error')\n",
    "fig.colorbar(surf, shrink=0.5, aspect=5)\n",
    "\n",
    "plt.legend(loc='lower right')\n",
    "plt.show()"
   ]
  },
  {
   "cell_type": "code",
   "execution_count": null,
   "metadata": {},
   "outputs": [],
   "source": []
  },
  {
   "cell_type": "code",
   "execution_count": null,
   "metadata": {},
   "outputs": [],
   "source": []
  }
 ],
 "metadata": {
  "kernelspec": {
   "display_name": "Python 3",
   "language": "python",
   "name": "python3"
  },
  "language_info": {
   "codemirror_mode": {
    "name": "ipython",
    "version": 3
   },
   "file_extension": ".py",
   "mimetype": "text/x-python",
   "name": "python",
   "nbconvert_exporter": "python",
   "pygments_lexer": "ipython3",
   "version": "3.6.7"
  }
 },
 "nbformat": 4,
 "nbformat_minor": 2
}
