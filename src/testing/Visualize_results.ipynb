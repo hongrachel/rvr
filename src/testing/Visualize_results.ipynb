{
 "cells": [
  {
   "cell_type": "code",
   "execution_count": 8,
   "metadata": {},
   "outputs": [
    {
     "name": "stdout",
     "output_type": "stream",
     "text": [
      "Populating the interactive namespace from numpy and matplotlib\n"
     ]
    }
   ],
   "source": [
    "import numpy as np\n",
    "import matplotlib.pyplot as plt\n",
    "from mpl_toolkits.mplot3d import Axes3D\n",
    "from matplotlib import cm\n",
    "#%matplotlib nbagg\n",
    "#%matplotlib notebook\n",
    "#%matplotlib qt\n",
    "%pylab qt"
   ]
  },
  {
   "cell_type": "code",
   "execution_count": 26,
   "metadata": {},
   "outputs": [],
   "source": [
    "#results = np.load(\"runhet_recon_sweep_score_mat.npy\")\n",
    "#results = np.load(\"runp_1_2_sweep_dp_score_mat.npy\")\n",
    "#results = np.load(\"runp_1_2_sweep_eo_041719_score_mat.npy\")\n",
    "results0 = np.load(\"runagree_interact_050219_prod_0_score_mat.npy\")#[:,:-1]\n",
    "results1 = np.load(\"runagree_interact_050219_prod_1_score_mat.npy\")#[:,:-1]\n",
    "results2 = np.load(\"runagree_interact_050219_prod_2_score_mat.npy\")#[:,:-1]\n",
    "results3 = np.load(\"runagree_interact_050219_prod_3_score_mat.npy\")#[:,:-1]\n",
    "results4 = np.load(\"runagree_interact_050219_prod_4_score_mat.npy\")#[:,:-1]"
   ]
  },
  {
   "cell_type": "code",
   "execution_count": 27,
   "metadata": {},
   "outputs": [
    {
     "data": {
      "text/plain": [
       "array([[0.14214746, 0.12748398, 0.1260016 , 0.1330529 , 0.11169874,\n",
       "        0.12776444, 0.13545674, 0.13161058],\n",
       "       [0.11646634, 0.12540066, 0.11622596, 0.11927082, 0.11149842,\n",
       "        0.09947918, 0.10921472, 0.11233972],\n",
       "       [0.12708334, 0.12239584, 0.12035256, 0.10769228, 0.1150641 ,\n",
       "        0.10488782, 0.11346154, 0.11722756],\n",
       "       [0.12135418, 0.12375802, 0.11410254, 0.11205932, 0.10516828,\n",
       "        0.11802884, 0.1142628 , 0.12820514],\n",
       "       [0.13341346, 0.13173078, 0.1256811 , 0.13185094, 0.10829326,\n",
       "        0.10897436, 0.13509616, 0.1350561 ],\n",
       "       [0.11730768, 0.12984776, 0.1236378 , 0.11750802, 0.11330128,\n",
       "        0.11538462, 0.1274439 , 0.14647438],\n",
       "       [0.1189904 , 0.11907052, 0.11830928, 0.12231572, 0.11434294,\n",
       "        0.12335738, 0.13830128, 0.1304487 ]])"
      ]
     },
     "execution_count": 27,
     "metadata": {},
     "output_type": "execute_result"
    }
   ],
   "source": [
    "#results = results[:, :]\n",
    "results = (results0 + results1 + results2 + results3 + results4) / 5\n",
    "results"
   ]
  },
  {
   "cell_type": "code",
   "execution_count": 28,
   "metadata": {},
   "outputs": [],
   "source": [
    "#coeffs = np.array(['0_0', '0_005', '0_01', '0_05', '0_1', '0_2', '0_5', '1_0', '2_0', '4_0', '6_0', '10_0'])\n",
    "#coeffs = np.array([0. , 0.005, 0.01, 0.05, 0.1, 0.2, 0.5, 1., 2., 4., 6., 10.])\n",
    "#xcoeffs = [0.0, 0.01, 0.05, 0.1, 0.15, 0.2, 0.3, 0.5, 1.0, 4.0]\n",
    "#ycoeffs = [0.0, 0.001, 0.005, 0.01] #, 0.03]#, 0.05, 0.1, 0.15, 0.2, 0.3]\n",
    "#xcoeffs = [0.0, 0.1, 0.5, 1.0, 3.0, 5.0, 10.0, 15.0]\n",
    "#ycoeffs = [0.0, 0.0005, 0.001, 0.002, 0.003, 0.005, 0.007, 0.01, 0.03, 0.05, 0.1] #, 0.7]\n",
    "#xcoeffs = [0.0, 0.1, 0.5, 1.0, 3.0, 5.0, 10.0, 15.0]\n",
    "#ycoeffs = [0.0, 0.001, 0.005, 0.01, 0.025, 0.05, 0.075, 0.1, 0.3, 0.5]\n",
    "#n = len(coeffs)\n",
    "\n",
    "xcoeffs = [0.0, 0.5, 1.0, 3.0, 5.0, 10.0, 15.0]\n",
    "ycoeffs = [0.0, 0.002, 0.005, 0.01, 0.03, 0.05, 0.07, 0.1]\n",
    "\n"
   ]
  },
  {
   "cell_type": "code",
   "execution_count": 29,
   "metadata": {},
   "outputs": [
    {
     "name": "stdout",
     "output_type": "stream",
     "text": [
      "[[ 0.   0.   0.   0.   0.   0.   0.   0. ]\n",
      " [ 0.5  0.5  0.5  0.5  0.5  0.5  0.5  0.5]\n",
      " [ 1.   1.   1.   1.   1.   1.   1.   1. ]\n",
      " [ 3.   3.   3.   3.   3.   3.   3.   3. ]\n",
      " [ 5.   5.   5.   5.   5.   5.   5.   5. ]\n",
      " [10.  10.  10.  10.  10.  10.  10.  10. ]\n",
      " [15.  15.  15.  15.  15.  15.  15.  15. ]]\n",
      "[[0.    0.002 0.005 0.01  0.03  0.05  0.07  0.1  ]\n",
      " [0.    0.002 0.005 0.01  0.03  0.05  0.07  0.1  ]\n",
      " [0.    0.002 0.005 0.01  0.03  0.05  0.07  0.1  ]\n",
      " [0.    0.002 0.005 0.01  0.03  0.05  0.07  0.1  ]\n",
      " [0.    0.002 0.005 0.01  0.03  0.05  0.07  0.1  ]\n",
      " [0.    0.002 0.005 0.01  0.03  0.05  0.07  0.1  ]\n",
      " [0.    0.002 0.005 0.01  0.03  0.05  0.07  0.1  ]]\n"
     ]
    }
   ],
   "source": [
    "X = np.repeat(xcoeffs, len(ycoeffs)).reshape((len(xcoeffs), len(ycoeffs)))\n",
    "Y = np.repeat(ycoeffs, len(xcoeffs)).reshape((len(xcoeffs), len(ycoeffs)), order='F')\n",
    "print(X)\n",
    "print(Y)"
   ]
  },
  {
   "cell_type": "code",
   "execution_count": 44,
   "metadata": {},
   "outputs": [],
   "source": [
    "xmesh = np.linspace(xcoeffs[0], xcoeffs[-1])\n",
    "ymesh = np.linspace(ycoeffs[0], ycoeffs[-1])\n",
    "xmeshgrid = np.repeat(xmesh, len(ymesh)).reshape((len(xmesh), len(ymesh)))\n",
    "ymeshgrid = np.repeat(ymesh, len(xmesh)).reshape((len(xmesh), len(ymesh)), order='F')\n",
    "#xmeshgrid\n",
    "#ymeshgrid\n",
    "\n",
    "logreg = np.ones(xmeshgrid.shape) * 0.2004 #0.0536 #0.1932\n"
   ]
  },
  {
   "cell_type": "code",
   "execution_count": 47,
   "metadata": {},
   "outputs": [],
   "source": [
    "fig = plt.figure(figsize = (10, 6))\n",
    "ax = fig.gca(projection='3d')\n",
    "surf = ax.plot_surface(X, Y, results, cmap=cm.coolwarm, linewidth=0, antialiased=False, edgecolor='black')\n",
    "plane = ax.plot_wireframe(xmeshgrid, ymeshgrid, logreg, color='green', linewidth=.5, antialiased=False)\n",
    "#surf.set_label('Multi-Study LAFTR')\n",
    "plane.set_label('Logistic regression baseline')\n",
    "plt.xlabel('Fairness coefficient')\n",
    "plt.ylabel('Reconstruction coefficient')\n",
    "ax.set_zlabel('Error')\n",
    "fig.colorbar(surf, shrink=0.5, aspect=5)\n",
    "\n",
    "plt.legend(loc='best')\n",
    "plt.show()"
   ]
  },
  {
   "cell_type": "code",
   "execution_count": null,
   "metadata": {},
   "outputs": [],
   "source": []
  },
  {
   "cell_type": "code",
   "execution_count": null,
   "metadata": {},
   "outputs": [],
   "source": []
  }
 ],
 "metadata": {
  "kernelspec": {
   "display_name": "Python 3",
   "language": "python",
   "name": "python3"
  },
  "language_info": {
   "codemirror_mode": {
    "name": "ipython",
    "version": 3
   },
   "file_extension": ".py",
   "mimetype": "text/x-python",
   "name": "python",
   "nbconvert_exporter": "python",
   "pygments_lexer": "ipython3",
   "version": "3.6.7"
  }
 },
 "nbformat": 4,
 "nbformat_minor": 2
}
