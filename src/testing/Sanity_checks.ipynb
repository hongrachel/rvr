{
 "cells": [
  {
   "cell_type": "code",
   "execution_count": 2,
   "metadata": {},
   "outputs": [],
   "source": [
    "import numpy as np\n",
    "import matplotlib.pyplot as plt\n",
    "import pandas as pd\n",
    "from mpl_toolkits.mplot3d import Axes3D\n",
    "from matplotlib import cm\n",
    "from sklearn.linear_model import LogisticRegression\n",
    "from sklearn.ensemble import RandomForestClassifier\n",
    "from sklearn.preprocessing import PolynomialFeatures\n",
    "from sklearn.model_selection import GridSearchCV\n",
    "#%matplotlib notebook"
   ]
  },
  {
   "cell_type": "code",
   "execution_count": 3,
   "metadata": {},
   "outputs": [],
   "source": [
    "#data = np.load('/Users/Frances/Documents/seas-fellowship/rvr/data/runp1_2/run_p1_2.npz')\n",
    "#data = np.load('/Users/Frances/Documents/seas-fellowship/rvr/data/runp1_2/run_p1_2_042219.npz')\n",
    "#data = np.load('/Users/Frances/Documents/seas-fellowship/rvr/data/runagree/run_agree_p1_2_042019.npz')\n",
    "#data = np.load('/Users/Frances/Documents/seas-fellowship/rvr/data/runagree/run_agree_interact_042919_prod_thresh.npz')\n",
    "\n",
    "#data = np.load('/Users/Frances/Documents/seas-fellowship/rvr/data/runagree/run_agree_interact_042919_thresh.npz')\n",
    "\n",
    "#data = np.load('/Users/Frances/Documents/seas-fellowship/rvr/data/runorfunc/run_orfunc_051419.npz')\n",
    "\n",
    "#data = np.load('/Users/Frances/Documents/seas-fellowship/rvr/data/runagree/run_agree_interact_051019_prod.npz')\n",
    "\n",
    "data = np.load('/Users/Frances/Documents/seas-fellowship/rvr/data/bcesets/bcesets.npz')\n",
    "\n",
    "\n",
    "\n",
    "\n"
   ]
  },
  {
   "cell_type": "code",
   "execution_count": 33,
   "metadata": {},
   "outputs": [],
   "source": [
    "x_train = data['x_train'][data['train_inds']]\n",
    "y_train = data['y_train'][data['train_inds']]\n",
    "\n",
    "x_valid = data['x_train'][data['valid_inds']]\n",
    "y_valid = data['y_train'][data['valid_inds']]\n",
    "\n",
    "x_test = data['x_test']\n",
    "y_test = data['y_test']\n",
    "\n",
    "yidx = 0"
   ]
  },
  {
   "cell_type": "code",
   "execution_count": 34,
   "metadata": {},
   "outputs": [],
   "source": [
    "attr_train = data['attr_train'][data['train_inds']]\n",
    "attr_valid = data['attr_train'][data['valid_inds']]\n",
    "attr_test = data['attr_test']\n"
   ]
  },
  {
   "cell_type": "code",
   "execution_count": 5,
   "metadata": {},
   "outputs": [
    {
     "data": {
      "text/plain": [
       "(12000, 356)"
      ]
     },
     "execution_count": 5,
     "metadata": {},
     "output_type": "execute_result"
    }
   ],
   "source": [
    "x_train.shape"
   ]
  },
  {
   "cell_type": "code",
   "execution_count": 6,
   "metadata": {},
   "outputs": [
    {
     "name": "stdout",
     "output_type": "stream",
     "text": [
      "(15000, 356)\n",
      "(3000,)\n"
     ]
    }
   ],
   "source": [
    "print(data['x_train'].shape)\n",
    "print(data['valid_inds'].shape)"
   ]
  },
  {
   "cell_type": "code",
   "execution_count": 7,
   "metadata": {},
   "outputs": [
    {
     "name": "stderr",
     "output_type": "stream",
     "text": [
      "/Users/Frances/anaconda3/envs/rvr-env/lib/python3.6/site-packages/sklearn/linear_model/logistic.py:433: FutureWarning: Default solver will be changed to 'lbfgs' in 0.22. Specify a solver to silence this warning.\n",
      "  FutureWarning)\n"
     ]
    },
    {
     "data": {
      "text/plain": [
       "LogisticRegression(C=1.0, class_weight=None, dual=False, fit_intercept=True,\n",
       "          intercept_scaling=1, max_iter=100, multi_class='warn',\n",
       "          n_jobs=None, penalty='l2', random_state=None, solver='warn',\n",
       "          tol=0.0001, verbose=0, warm_start=False)"
      ]
     },
     "execution_count": 7,
     "metadata": {},
     "output_type": "execute_result"
    }
   ],
   "source": [
    "modelall = LogisticRegression()\n",
    "modelall.fit(x_train, y_train[:, yidx])\n",
    "#modelall.fit(x_test, y_test[:, yidx])"
   ]
  },
  {
   "cell_type": "code",
   "execution_count": 8,
   "metadata": {},
   "outputs": [
    {
     "name": "stdout",
     "output_type": "stream",
     "text": [
      "0.0\n",
      "0.0\n",
      "0.6884\n"
     ]
    }
   ],
   "source": [
    "print(1 - modelall.score(x_train, y_train[:,yidx]))\n",
    "print(1 - modelall.score(x_valid, y_valid[:,yidx]))\n",
    "print(1 - modelall.score(x_test, y_test[:,yidx]))"
   ]
  },
  {
   "cell_type": "markdown",
   "metadata": {},
   "source": [
    "# Decision Trees"
   ]
  },
  {
   "cell_type": "code",
   "execution_count": 9,
   "metadata": {},
   "outputs": [],
   "source": [
    "from sklearn import tree"
   ]
  },
  {
   "cell_type": "code",
   "execution_count": 28,
   "metadata": {},
   "outputs": [],
   "source": [
    "dt = tree.DecisionTreeClassifier(random_state=3, max_features=int(np.sqrt(356)))"
   ]
  },
  {
   "cell_type": "code",
   "execution_count": 29,
   "metadata": {},
   "outputs": [
    {
     "data": {
      "text/plain": [
       "DecisionTreeClassifier(class_weight=None, criterion='gini', max_depth=None,\n",
       "            max_features=18, max_leaf_nodes=None,\n",
       "            min_impurity_decrease=0.0, min_impurity_split=None,\n",
       "            min_samples_leaf=1, min_samples_split=2,\n",
       "            min_weight_fraction_leaf=0.0, presort=False, random_state=3,\n",
       "            splitter='best')"
      ]
     },
     "execution_count": 29,
     "metadata": {},
     "output_type": "execute_result"
    }
   ],
   "source": [
    "dt.fit(x_train, y_train[:, yidx])"
   ]
  },
  {
   "cell_type": "code",
   "execution_count": 30,
   "metadata": {},
   "outputs": [
    {
     "name": "stdout",
     "output_type": "stream",
     "text": [
      "0.0\n",
      "0.0\n",
      "0.5554\n"
     ]
    }
   ],
   "source": [
    "print(1 - dt.score(x_train, y_train[:,yidx]))\n",
    "print(1 - dt.score(x_valid, y_valid[:,yidx]))\n",
    "print(1 - dt.score(x_test, y_test[:,yidx]))"
   ]
  },
  {
   "cell_type": "code",
   "execution_count": 32,
   "metadata": {},
   "outputs": [
    {
     "name": "stdout",
     "output_type": "stream",
     "text": [
      "25 : 0.18059999999999998\n",
      "26 : 0.19640000000000002\n",
      "27 : 0.5202\n",
      "28 : 0.14380000000000004\n",
      "29 : 0.47119999999999995\n",
      "30 : 0.46540000000000004\n",
      "31 : 0.736\n",
      "32 : 0.44299999999999995\n",
      "33 : 0.31000000000000005\n",
      "34 : 0.40780000000000005\n",
      "35 : 0.2872\n",
      "36 : 0.3548\n",
      "37 : 0.495\n",
      "38 : 0.14539999999999997\n",
      "39 : 0.21299999999999997\n",
      "40 : 0.18799999999999994\n",
      "41 : 0.19740000000000002\n",
      "42 : 0.3106\n",
      "43 : 0.32699999999999996\n",
      "44 : 0.1562\n",
      "45 : 0.31320000000000003\n",
      "46 : 0.1906\n",
      "47 : 0.39859999999999995\n",
      "48 : 0.3812\n",
      "49 : 0.14739999999999998\n"
     ]
    }
   ],
   "source": [
    "for i in range(25, 50):\n",
    "    dt = tree.DecisionTreeClassifier(random_state=i, max_features=int(np.sqrt(356)))\n",
    "    dt.fit(x_train, y_train[:, yidx])\n",
    "    print(i,':', 1 - dt.score(x_test, y_test[:,yidx]))"
   ]
  },
  {
   "cell_type": "markdown",
   "metadata": {},
   "source": [
    "# Random Forest Classifier"
   ]
  },
  {
   "cell_type": "code",
   "execution_count": 49,
   "metadata": {},
   "outputs": [],
   "source": [
    "rf = RandomForestClassifier(n_estimators=100, min_samples_split=2, random_state=1)"
   ]
  },
  {
   "cell_type": "code",
   "execution_count": 50,
   "metadata": {},
   "outputs": [
    {
     "data": {
      "text/plain": [
       "RandomForestClassifier(bootstrap=True, class_weight=None, criterion='gini',\n",
       "            max_depth=None, max_features='auto', max_leaf_nodes=None,\n",
       "            min_impurity_decrease=0.0, min_impurity_split=None,\n",
       "            min_samples_leaf=1, min_samples_split=2,\n",
       "            min_weight_fraction_leaf=0.0, n_estimators=100, n_jobs=None,\n",
       "            oob_score=False, random_state=1, verbose=0, warm_start=False)"
      ]
     },
     "execution_count": 50,
     "metadata": {},
     "output_type": "execute_result"
    }
   ],
   "source": [
    "rf.fit(x_train, y_train[:, yidx])"
   ]
  },
  {
   "cell_type": "code",
   "execution_count": 51,
   "metadata": {},
   "outputs": [
    {
     "name": "stdout",
     "output_type": "stream",
     "text": [
      "0.0\n",
      "0.0\n",
      "0.12039999999999995\n"
     ]
    }
   ],
   "source": [
    "print(1 - rf.score(x_train, y_train[:,yidx]))\n",
    "print(1 - rf.score(x_valid, y_valid[:,yidx]))\n",
    "print(1 - rf.score(x_test, y_test[:,yidx]))"
   ]
  },
  {
   "cell_type": "code",
   "execution_count": 52,
   "metadata": {},
   "outputs": [
    {
     "data": {
      "text/plain": [
       "array([2.43871803e-03, 1.23832136e-03, 1.33893876e-03, 8.53687051e-04,\n",
       "       9.16849221e-04, 2.49761250e-03, 2.47480297e-03, 1.82222900e-03,\n",
       "       2.14780986e-03, 2.19202090e-03, 2.52915325e-03, 1.23651913e-03,\n",
       "       1.44577324e-03, 1.74700855e-03, 1.97198524e-03, 2.19100381e-03,\n",
       "       1.52522293e-03, 2.94555782e-03, 6.04772722e-03, 8.54684096e-04,\n",
       "       1.99917416e-03, 2.31209826e-03, 2.58354896e-03, 1.62232237e-03,\n",
       "       7.09306501e-04, 6.28141269e-03, 4.11832392e-03, 2.47421781e-03,\n",
       "       1.30434502e-03, 1.83601755e-03, 2.10593910e-03, 1.87478132e-03,\n",
       "       1.34660719e-03, 1.87123354e-03, 2.70569307e-03, 1.06963105e-03,\n",
       "       3.44769394e-03, 7.71157181e-04, 6.44971138e-04, 2.75031314e-03,\n",
       "       2.72655010e-03, 5.13490351e-03, 2.20737963e-03, 5.00751335e-03,\n",
       "       1.73182693e-03, 2.82786012e-03, 1.84594919e-03, 2.84683252e-03,\n",
       "       3.80632117e-03, 2.08255634e-03, 9.42680148e-04, 2.53493399e-03,\n",
       "       9.83715180e-04, 1.16942477e-03, 1.90028678e-03, 8.81478239e-04,\n",
       "       9.71561278e-04, 3.39370040e-03, 2.77300170e-03, 1.62657507e-03,\n",
       "       1.13341942e-03, 2.49560567e-03, 8.88360804e-04, 1.94098818e-03,\n",
       "       1.05815787e-03, 2.80331933e-03, 1.10882130e-03, 1.92687896e-03,\n",
       "       1.52857125e-03, 6.37325745e-04, 2.61149550e-03, 2.09190161e-03,\n",
       "       3.25898359e-03, 2.17611328e-03, 2.43190780e-03, 3.03364837e-03,\n",
       "       2.83587926e-03, 4.14632957e-03, 8.54131772e-04, 1.87996125e-03,\n",
       "       1.51717386e-03, 2.84388515e-03, 2.36826422e-03, 1.94486395e-03,\n",
       "       1.45461873e-03, 2.98646826e-03, 1.93629711e-03, 3.54335742e-03,\n",
       "       1.55143048e-03, 2.16570294e-03, 3.23363191e-03, 2.57324413e-03,\n",
       "       1.24152761e-03, 2.03130025e-04, 1.69385453e-03, 2.60880124e-03,\n",
       "       1.72822302e-03, 2.29785324e-03, 4.70008018e-05, 2.95481023e-03,\n",
       "       1.13279309e-03, 2.38842734e-03, 2.66702109e-03, 3.70726729e-03,\n",
       "       2.39526460e-03, 4.20513672e-03, 1.96214736e-03, 1.47591123e-03,\n",
       "       1.53512373e-03, 4.90729456e-03, 4.81858251e-03, 2.52040434e-03,\n",
       "       1.48766398e-03, 3.62644045e-04, 4.11595837e-03, 2.51555626e-03,\n",
       "       1.64993072e-03, 2.06758582e-03, 2.07610743e-03, 5.59941290e-04,\n",
       "       7.97201851e-03, 1.81460285e-03, 3.92706949e-03, 2.74385442e-03,\n",
       "       2.39859517e-03, 1.73694862e-03, 2.07626516e-03, 6.35614159e-03,\n",
       "       1.42885310e-03, 1.01142710e-03, 6.16837169e-03, 3.68264276e-03,\n",
       "       3.16269172e-03, 5.11578489e-03, 4.69398788e-03, 7.43864504e-03,\n",
       "       1.13805221e-03, 3.75809915e-04, 2.43082271e-03, 2.61112810e-03,\n",
       "       6.09407510e-04, 1.84054617e-03, 1.51316746e-03, 5.74016243e-03,\n",
       "       1.19663615e-02, 2.66734534e-03, 1.42105035e-02, 2.06289838e-03,\n",
       "       9.48351157e-03, 3.45430504e-03, 8.00438134e-04, 1.37007899e-03,\n",
       "       9.48026307e-04, 5.33658422e-03, 7.24238623e-03, 1.29043896e-03,\n",
       "       1.57462473e-03, 1.17431517e-03, 2.62321058e-03, 2.10161015e-03,\n",
       "       2.23325971e-03, 1.72360874e-03, 9.97898732e-04, 5.12131581e-04,\n",
       "       8.05831025e-04, 3.79340579e-03, 3.55727156e-03, 2.72423331e-03,\n",
       "       1.29984773e-03, 2.38869318e-03, 8.35407739e-04, 2.60819076e-03,\n",
       "       6.90272852e-03, 4.66001370e-03, 9.06409188e-04, 1.70673949e-03,\n",
       "       1.28297692e-03, 2.71795249e-03, 1.77961563e-03, 3.91461698e-03,\n",
       "       1.69277605e-03, 1.42809543e-03, 2.94067403e-03, 1.03096107e-03,\n",
       "       1.02904567e-03, 2.49114305e-03, 8.77322791e-04, 2.56131633e-03,\n",
       "       1.02007279e-02, 6.94880986e-04, 1.91182208e-03, 2.01651769e-03,\n",
       "       1.48490493e-03, 3.17122753e-03, 3.43591562e-03, 2.91878914e-03,\n",
       "       1.89952855e-03, 2.50491342e-03, 1.50020332e-03, 2.13396725e-03,\n",
       "       5.79522942e-03, 2.15596300e-03, 1.52867693e-03, 4.59648340e-03,\n",
       "       1.88722157e-03, 3.21354868e-03, 4.69265129e-03, 2.46963609e-03,\n",
       "       4.05708592e-03, 2.95987309e-03, 2.95549681e-04, 5.52714041e-03,\n",
       "       1.20414492e-03, 7.72875996e-04, 1.82860459e-03, 2.80537697e-03,\n",
       "       2.72344618e-03, 1.84240763e-03, 4.02967382e-03, 2.17812382e-03,\n",
       "       1.43208990e-03, 1.92197176e-03, 1.19457140e-03, 8.85031869e-04,\n",
       "       3.77584082e-03, 6.33948334e-03, 5.04111086e-03, 1.20047473e-03,\n",
       "       2.69398328e-03, 6.12337096e-03, 2.54189655e-03, 3.95105770e-03,\n",
       "       1.01619402e-02, 2.98873595e-03, 2.76378386e-03, 2.06841391e-03,\n",
       "       2.51685831e-03, 1.35885659e-03, 5.67070927e-03, 6.73164962e-04,\n",
       "       2.08074468e-03, 7.39961042e-04, 1.64652003e-03, 5.00644101e-03,\n",
       "       6.92169304e-03, 9.92746803e-04, 2.50444698e-03, 5.65024981e-04,\n",
       "       1.79344522e-03, 2.94266840e-03, 1.38608470e-03, 7.15637201e-04,\n",
       "       2.52331794e-03, 1.30251113e-03, 4.55622287e-03, 9.43850630e-04,\n",
       "       1.05000881e-03, 3.05593953e-03, 2.52509551e-03, 9.59800195e-03,\n",
       "       2.07907180e-03, 2.03526438e-03, 2.50169210e-03, 4.75832343e-03,\n",
       "       1.08436011e-03, 6.52145523e-03, 1.28298161e-03, 2.50316069e-03,\n",
       "       7.03025611e-03, 2.39449773e-03, 1.36920750e-02, 3.44494156e-03,\n",
       "       8.78995469e-03, 3.70342046e-03, 2.97778253e-03, 9.37719910e-04,\n",
       "       2.60557084e-03, 2.37720647e-03, 5.42317963e-03, 2.31034278e-03,\n",
       "       1.45603372e-03, 3.20351998e-03, 4.11072597e-03, 1.16864062e-02,\n",
       "       1.41486350e-03, 2.20321768e-03, 4.61861449e-03, 1.18926856e-02,\n",
       "       8.31459413e-03, 1.46957534e-03, 3.07115740e-03, 2.59508780e-03,\n",
       "       2.02892096e-03, 2.26241275e-03, 4.65571546e-03, 1.23487371e-03,\n",
       "       9.63946144e-03, 1.58473825e-03, 3.27922249e-03, 1.58385070e-03,\n",
       "       3.71498286e-03, 1.90469453e-03, 1.25872429e-03, 1.86583132e-03,\n",
       "       1.95146387e-03, 2.42445544e-03, 1.89694386e-03, 1.69630369e-02,\n",
       "       3.22883587e-03, 2.52092132e-03, 2.20642589e-03, 4.79597907e-03,\n",
       "       2.14553885e-03, 1.22231231e-03, 4.92180479e-03, 2.62717716e-03,\n",
       "       9.57578194e-04, 4.65593460e-04, 1.35519739e-03, 3.06460468e-03,\n",
       "       2.98659233e-03, 1.54908932e-03, 1.56658536e-03, 3.36080559e-03,\n",
       "       1.29281854e-03, 1.27849371e-03, 1.21740520e-03, 3.65646016e-03,\n",
       "       1.51527404e-03, 8.86309456e-04, 6.15449461e-03, 4.18835481e-03,\n",
       "       1.09639697e-03, 1.96522441e-03, 2.77670395e-03, 2.25093217e-03,\n",
       "       2.65620230e-03, 2.72291010e-03, 2.74385920e-03, 4.65968193e-03,\n",
       "       1.51067956e-03, 6.20247289e-03, 2.76253312e-03, 2.23642723e-03,\n",
       "       2.36800037e-03, 2.29305615e-03, 1.54343711e-03, 2.01047880e-03,\n",
       "       4.30930960e-03, 8.00674536e-03, 1.68730980e-03, 1.16204535e-03,\n",
       "       1.86239186e-03, 4.53504791e-03, 5.63553715e-03, 8.86109564e-04])"
      ]
     },
     "execution_count": 52,
     "metadata": {},
     "output_type": "execute_result"
    }
   ],
   "source": [
    "rf.feature_importances_"
   ]
  },
  {
   "cell_type": "code",
   "execution_count": 48,
   "metadata": {},
   "outputs": [
    {
     "data": {
      "text/plain": [
       "array([1.61884757e-03, 0.00000000e+00, 0.00000000e+00, 2.78970142e-03,\n",
       "       7.03121005e-03, 0.00000000e+00, 0.00000000e+00, 0.00000000e+00,\n",
       "       0.00000000e+00, 0.00000000e+00, 0.00000000e+00, 0.00000000e+00,\n",
       "       0.00000000e+00, 0.00000000e+00, 0.00000000e+00, 2.68334759e-02,\n",
       "       0.00000000e+00, 0.00000000e+00, 0.00000000e+00, 0.00000000e+00,\n",
       "       0.00000000e+00, 0.00000000e+00, 0.00000000e+00, 0.00000000e+00,\n",
       "       0.00000000e+00, 0.00000000e+00, 0.00000000e+00, 5.73935330e-03,\n",
       "       0.00000000e+00, 0.00000000e+00, 0.00000000e+00, 0.00000000e+00,\n",
       "       1.08093504e-03, 0.00000000e+00, 0.00000000e+00, 0.00000000e+00,\n",
       "       0.00000000e+00, 0.00000000e+00, 0.00000000e+00, 0.00000000e+00,\n",
       "       0.00000000e+00, 0.00000000e+00, 0.00000000e+00, 0.00000000e+00,\n",
       "       0.00000000e+00, 0.00000000e+00, 0.00000000e+00, 0.00000000e+00,\n",
       "       9.34981805e-03, 9.23809741e-03, 0.00000000e+00, 8.07824546e-03,\n",
       "       0.00000000e+00, 0.00000000e+00, 3.32539403e-02, 5.97230169e-03,\n",
       "       0.00000000e+00, 0.00000000e+00, 0.00000000e+00, 6.69200039e-03,\n",
       "       0.00000000e+00, 0.00000000e+00, 0.00000000e+00, 0.00000000e+00,\n",
       "       0.00000000e+00, 0.00000000e+00, 0.00000000e+00, 0.00000000e+00,\n",
       "       1.39277765e-03, 0.00000000e+00, 0.00000000e+00, 0.00000000e+00,\n",
       "       0.00000000e+00, 3.15580304e-03, 0.00000000e+00, 8.97635307e-03,\n",
       "       0.00000000e+00, 1.42586093e-02, 0.00000000e+00, 0.00000000e+00,\n",
       "       0.00000000e+00, 0.00000000e+00, 5.20983200e-03, 0.00000000e+00,\n",
       "       0.00000000e+00, 7.97982579e-03, 3.94480335e-04, 0.00000000e+00,\n",
       "       0.00000000e+00, 0.00000000e+00, 0.00000000e+00, 0.00000000e+00,\n",
       "       0.00000000e+00, 0.00000000e+00, 1.72894719e-02, 0.00000000e+00,\n",
       "       0.00000000e+00, 0.00000000e+00, 0.00000000e+00, 0.00000000e+00,\n",
       "       0.00000000e+00, 0.00000000e+00, 0.00000000e+00, 0.00000000e+00,\n",
       "       0.00000000e+00, 0.00000000e+00, 0.00000000e+00, 0.00000000e+00,\n",
       "       0.00000000e+00, 0.00000000e+00, 0.00000000e+00, 0.00000000e+00,\n",
       "       0.00000000e+00, 0.00000000e+00, 0.00000000e+00, 2.27766947e-02,\n",
       "       0.00000000e+00, 0.00000000e+00, 0.00000000e+00, 0.00000000e+00,\n",
       "       0.00000000e+00, 0.00000000e+00, 1.10203373e-02, 8.68845090e-03,\n",
       "       9.25212592e-03, 0.00000000e+00, 0.00000000e+00, 0.00000000e+00,\n",
       "       8.27450687e-03, 0.00000000e+00, 0.00000000e+00, 9.20558270e-03,\n",
       "       0.00000000e+00, 9.60923960e-03, 0.00000000e+00, 2.41494907e-02,\n",
       "       1.20533013e-02, 0.00000000e+00, 0.00000000e+00, 0.00000000e+00,\n",
       "       0.00000000e+00, 0.00000000e+00, 0.00000000e+00, 0.00000000e+00,\n",
       "       0.00000000e+00, 0.00000000e+00, 1.33928803e-02, 0.00000000e+00,\n",
       "       0.00000000e+00, 1.06854372e-02, 3.75448588e-03, 0.00000000e+00,\n",
       "       0.00000000e+00, 2.80658058e-02, 0.00000000e+00, 6.92522992e-03,\n",
       "       6.74555140e-03, 9.28883748e-03, 0.00000000e+00, 0.00000000e+00,\n",
       "       0.00000000e+00, 0.00000000e+00, 0.00000000e+00, 0.00000000e+00,\n",
       "       0.00000000e+00, 0.00000000e+00, 1.77488395e-02, 0.00000000e+00,\n",
       "       4.63120532e-03, 1.10565327e-02, 0.00000000e+00, 0.00000000e+00,\n",
       "       8.34366685e-03, 0.00000000e+00, 0.00000000e+00, 0.00000000e+00,\n",
       "       6.11664438e-04, 0.00000000e+00, 0.00000000e+00, 0.00000000e+00,\n",
       "       0.00000000e+00, 0.00000000e+00, 0.00000000e+00, 0.00000000e+00,\n",
       "       0.00000000e+00, 6.71041393e-03, 0.00000000e+00, 0.00000000e+00,\n",
       "       5.05664939e-02, 0.00000000e+00, 6.10931990e-03, 0.00000000e+00,\n",
       "       0.00000000e+00, 0.00000000e+00, 0.00000000e+00, 0.00000000e+00,\n",
       "       0.00000000e+00, 0.00000000e+00, 0.00000000e+00, 0.00000000e+00,\n",
       "       0.00000000e+00, 0.00000000e+00, 0.00000000e+00, 0.00000000e+00,\n",
       "       0.00000000e+00, 0.00000000e+00, 0.00000000e+00, 0.00000000e+00,\n",
       "       0.00000000e+00, 0.00000000e+00, 0.00000000e+00, 5.98964925e-03,\n",
       "       7.40197358e-04, 0.00000000e+00, 7.01830128e-03, 0.00000000e+00,\n",
       "       0.00000000e+00, 0.00000000e+00, 0.00000000e+00, 0.00000000e+00,\n",
       "       0.00000000e+00, 0.00000000e+00, 0.00000000e+00, 0.00000000e+00,\n",
       "       0.00000000e+00, 0.00000000e+00, 0.00000000e+00, 1.39100218e-02,\n",
       "       0.00000000e+00, 5.61996403e-02, 9.97799888e-03, 0.00000000e+00,\n",
       "       3.75340662e-02, 1.79308693e-02, 0.00000000e+00, 3.92001174e-03,\n",
       "       0.00000000e+00, 0.00000000e+00, 0.00000000e+00, 0.00000000e+00,\n",
       "       0.00000000e+00, 2.46245286e-03, 0.00000000e+00, 2.36094005e-02,\n",
       "       0.00000000e+00, 0.00000000e+00, 0.00000000e+00, 0.00000000e+00,\n",
       "       2.77544867e-03, 0.00000000e+00, 0.00000000e+00, 0.00000000e+00,\n",
       "       0.00000000e+00, 0.00000000e+00, 0.00000000e+00, 0.00000000e+00,\n",
       "       0.00000000e+00, 9.39105906e-03, 0.00000000e+00, 0.00000000e+00,\n",
       "       0.00000000e+00, 0.00000000e+00, 0.00000000e+00, 0.00000000e+00,\n",
       "       0.00000000e+00, 0.00000000e+00, 0.00000000e+00, 0.00000000e+00,\n",
       "       0.00000000e+00, 0.00000000e+00, 2.20996238e-02, 0.00000000e+00,\n",
       "       6.96656169e-03, 0.00000000e+00, 3.80326906e-02, 0.00000000e+00,\n",
       "       1.69489650e-02, 1.05581245e-02, 0.00000000e+00, 0.00000000e+00,\n",
       "       0.00000000e+00, 0.00000000e+00, 8.74960116e-03, 4.56619761e-03,\n",
       "       0.00000000e+00, 0.00000000e+00, 1.68491649e-03, 0.00000000e+00,\n",
       "       0.00000000e+00, 1.29258666e-03, 0.00000000e+00, 1.06028462e-02,\n",
       "       2.07190724e-02, 0.00000000e+00, 1.20047844e-02, 0.00000000e+00,\n",
       "       4.94151752e-03, 0.00000000e+00, 1.59689164e-02, 0.00000000e+00,\n",
       "       0.00000000e+00, 1.34103501e-05, 0.00000000e+00, 2.19418006e-03,\n",
       "       0.00000000e+00, 0.00000000e+00, 0.00000000e+00, 2.69214504e-02,\n",
       "       1.51240319e-02, 0.00000000e+00, 0.00000000e+00, 0.00000000e+00,\n",
       "       0.00000000e+00, 0.00000000e+00, 0.00000000e+00, 6.99937044e-03,\n",
       "       4.23347182e-03, 0.00000000e+00, 0.00000000e+00, 2.40858582e-02,\n",
       "       0.00000000e+00, 0.00000000e+00, 0.00000000e+00, 0.00000000e+00,\n",
       "       0.00000000e+00, 0.00000000e+00, 0.00000000e+00, 1.54351353e-02,\n",
       "       0.00000000e+00, 0.00000000e+00, 0.00000000e+00, 0.00000000e+00,\n",
       "       0.00000000e+00, 0.00000000e+00, 0.00000000e+00, 1.08492030e-03,\n",
       "       8.28820468e-03, 0.00000000e+00, 0.00000000e+00, 2.34363780e-02,\n",
       "       0.00000000e+00, 0.00000000e+00, 0.00000000e+00, 0.00000000e+00,\n",
       "       5.38367455e-03, 4.27581554e-03, 1.99274028e-02, 0.00000000e+00,\n",
       "       0.00000000e+00, 0.00000000e+00, 0.00000000e+00, 0.00000000e+00,\n",
       "       0.00000000e+00, 0.00000000e+00, 0.00000000e+00, 0.00000000e+00])"
      ]
     },
     "execution_count": 48,
     "metadata": {},
     "output_type": "execute_result"
    }
   ],
   "source": [
    "rf.feature_importances_"
   ]
  },
  {
   "cell_type": "code",
   "execution_count": null,
   "metadata": {},
   "outputs": [
    {
     "data": {
      "text/plain": [
       "<matplotlib.image.AxesImage at 0x1a9648e438>"
      ]
     },
     "execution_count": 303,
     "metadata": {},
     "output_type": "execute_result"
    }
   ],
   "source": [
    "fig = plt.figure(figsize=(150, 300))\n",
    "plt.xticks(range(30))\n",
    "plt.imshow(rf.feature_importances_[np.newaxis, :], cmap='plasma')\n"
   ]
  },
  {
   "cell_type": "code",
   "execution_count": 140,
   "metadata": {},
   "outputs": [
    {
     "name": "stdout",
     "output_type": "stream",
     "text": [
      "Indices of common features:\n",
      "array([ 3, 29, 11, 26, 25, 28, 24,  7])\n"
     ]
    },
    {
     "data": {
      "text/plain": [
       "<matplotlib.image.AxesImage at 0x1a960c39e8>"
      ]
     },
     "execution_count": 140,
     "metadata": {},
     "output_type": "execute_result"
    },
    {
     "data": {
      "image/png": "[encoded data removed]",
      "text/plain": [
       "<Figure size 1080x2160 with 1 Axes>"
      ]
     },
     "metadata": {
      "needs_background": "light"
     },
     "output_type": "display_data"
    }
   ],
   "source": [
    "import pprint\n",
    "pp = pprint.PrettyPrinter()\n",
    "print('Indices of common features:')\n",
    "pp.pprint(data['c_idx'])\n",
    "\n",
    "avg_beta = np.mean(data['beta_vec_list'], axis=0)\n",
    "fig = plt.figure(figsize=(15, 30))\n",
    "plt.xticks(range(30))\n",
    "plt.imshow(avg_beta[np.newaxis, :], cmap='plasma')\n"
   ]
  },
  {
   "cell_type": "markdown",
   "metadata": {},
   "source": [
    "## Grid Search for Random Forest"
   ]
  },
  {
   "cell_type": "code",
   "execution_count": 152,
   "metadata": {},
   "outputs": [],
   "source": [
    "param_grid = {\n",
    "    'n_estimators': [100, 250, 500],\n",
    "    'min_samples_split': [2, 4],\n",
    "    'min_samples_leaf' : [1, 2, 5],\n",
    "    'oob_score' : [True, False]\n",
    "}"
   ]
  },
  {
   "cell_type": "code",
   "execution_count": 153,
   "metadata": {},
   "outputs": [],
   "source": [
    "gs = GridSearchCV(rf, param_grid, n_jobs = 1, cv=5)"
   ]
  },
  {
   "cell_type": "code",
   "execution_count": 154,
   "metadata": {},
   "outputs": [
    {
     "ename": "KeyboardInterrupt",
     "evalue": "",
     "output_type": "error",
     "traceback": [
      "\u001b[0;31m---------------------------------------------------------------------------\u001b[0m",
      "\u001b[0;31mKeyboardInterrupt\u001b[0m                         Traceback (most recent call last)",
      "\u001b[0;32m<ipython-input-154-9a44575a9212>\u001b[0m in \u001b[0;36m<module>\u001b[0;34m\u001b[0m\n\u001b[0;32m----> 1\u001b[0;31m \u001b[0mgs\u001b[0m\u001b[0;34m.\u001b[0m\u001b[0mfit\u001b[0m\u001b[0;34m(\u001b[0m\u001b[0mx_train\u001b[0m\u001b[0;34m,\u001b[0m \u001b[0my_train\u001b[0m\u001b[0;34m[\u001b[0m\u001b[0;34m:\u001b[0m\u001b[0;34m,\u001b[0m\u001b[0myidx\u001b[0m\u001b[0;34m]\u001b[0m\u001b[0;34m)\u001b[0m\u001b[0;34m\u001b[0m\u001b[0;34m\u001b[0m\u001b[0m\n\u001b[0m",
      "\u001b[0;32m~/anaconda3/envs/rvr-env/lib/python3.6/site-packages/sklearn/model_selection/_search.py\u001b[0m in \u001b[0;36mfit\u001b[0;34m(self, X, y, groups, **fit_params)\u001b[0m\n\u001b[1;32m    720\u001b[0m                 \u001b[0;32mreturn\u001b[0m \u001b[0mresults_container\u001b[0m\u001b[0;34m[\u001b[0m\u001b[0;36m0\u001b[0m\u001b[0;34m]\u001b[0m\u001b[0;34m\u001b[0m\u001b[0;34m\u001b[0m\u001b[0m\n\u001b[1;32m    721\u001b[0m \u001b[0;34m\u001b[0m\u001b[0m\n\u001b[0;32m--> 722\u001b[0;31m             \u001b[0mself\u001b[0m\u001b[0;34m.\u001b[0m\u001b[0m_run_search\u001b[0m\u001b[0;34m(\u001b[0m\u001b[0mevaluate_candidates\u001b[0m\u001b[0;34m)\u001b[0m\u001b[0;34m\u001b[0m\u001b[0;34m\u001b[0m\u001b[0m\n\u001b[0m\u001b[1;32m    723\u001b[0m \u001b[0;34m\u001b[0m\u001b[0m\n\u001b[1;32m    724\u001b[0m         \u001b[0mresults\u001b[0m \u001b[0;34m=\u001b[0m \u001b[0mresults_container\u001b[0m\u001b[0;34m[\u001b[0m\u001b[0;36m0\u001b[0m\u001b[0;34m]\u001b[0m\u001b[0;34m\u001b[0m\u001b[0;34m\u001b[0m\u001b[0m\n",
      "\u001b[0;32m~/anaconda3/envs/rvr-env/lib/python3.6/site-packages/sklearn/model_selection/_search.py\u001b[0m in \u001b[0;36m_run_search\u001b[0;34m(self, evaluate_candidates)\u001b[0m\n\u001b[1;32m   1189\u001b[0m     \u001b[0;32mdef\u001b[0m \u001b[0m_run_search\u001b[0m\u001b[0;34m(\u001b[0m\u001b[0mself\u001b[0m\u001b[0;34m,\u001b[0m \u001b[0mevaluate_candidates\u001b[0m\u001b[0;34m)\u001b[0m\u001b[0;34m:\u001b[0m\u001b[0;34m\u001b[0m\u001b[0;34m\u001b[0m\u001b[0m\n\u001b[1;32m   1190\u001b[0m         \u001b[0;34m\"\"\"Search all candidates in param_grid\"\"\"\u001b[0m\u001b[0;34m\u001b[0m\u001b[0;34m\u001b[0m\u001b[0m\n\u001b[0;32m-> 1191\u001b[0;31m         \u001b[0mevaluate_candidates\u001b[0m\u001b[0;34m(\u001b[0m\u001b[0mParameterGrid\u001b[0m\u001b[0;34m(\u001b[0m\u001b[0mself\u001b[0m\u001b[0;34m.\u001b[0m\u001b[0mparam_grid\u001b[0m\u001b[0;34m)\u001b[0m\u001b[0;34m)\u001b[0m\u001b[0;34m\u001b[0m\u001b[0;34m\u001b[0m\u001b[0m\n\u001b[0m\u001b[1;32m   1192\u001b[0m \u001b[0;34m\u001b[0m\u001b[0m\n\u001b[1;32m   1193\u001b[0m \u001b[0;34m\u001b[0m\u001b[0m\n",
      "\u001b[0;32m~/anaconda3/envs/rvr-env/lib/python3.6/site-packages/sklearn/model_selection/_search.py\u001b[0m in \u001b[0;36mevaluate_candidates\u001b[0;34m(candidate_params)\u001b[0m\n\u001b[1;32m    709\u001b[0m                                \u001b[0;32mfor\u001b[0m \u001b[0mparameters\u001b[0m\u001b[0;34m,\u001b[0m \u001b[0;34m(\u001b[0m\u001b[0mtrain\u001b[0m\u001b[0;34m,\u001b[0m \u001b[0mtest\u001b[0m\u001b[0;34m)\u001b[0m\u001b[0;34m\u001b[0m\u001b[0;34m\u001b[0m\u001b[0m\n\u001b[1;32m    710\u001b[0m                                in product(candidate_params,\n\u001b[0;32m--> 711\u001b[0;31m                                           cv.split(X, y, groups)))\n\u001b[0m\u001b[1;32m    712\u001b[0m \u001b[0;34m\u001b[0m\u001b[0m\n\u001b[1;32m    713\u001b[0m                 \u001b[0mall_candidate_params\u001b[0m\u001b[0;34m.\u001b[0m\u001b[0mextend\u001b[0m\u001b[0;34m(\u001b[0m\u001b[0mcandidate_params\u001b[0m\u001b[0;34m)\u001b[0m\u001b[0;34m\u001b[0m\u001b[0;34m\u001b[0m\u001b[0m\n",
      "\u001b[0;32m~/anaconda3/envs/rvr-env/lib/python3.6/site-packages/sklearn/externals/joblib/parallel.py\u001b[0m in \u001b[0;36m__call__\u001b[0;34m(self, iterable)\u001b[0m\n\u001b[1;32m    918\u001b[0m                 \u001b[0mself\u001b[0m\u001b[0;34m.\u001b[0m\u001b[0m_iterating\u001b[0m \u001b[0;34m=\u001b[0m \u001b[0mself\u001b[0m\u001b[0;34m.\u001b[0m\u001b[0m_original_iterator\u001b[0m \u001b[0;32mis\u001b[0m \u001b[0;32mnot\u001b[0m \u001b[0;32mNone\u001b[0m\u001b[0;34m\u001b[0m\u001b[0;34m\u001b[0m\u001b[0m\n\u001b[1;32m    919\u001b[0m \u001b[0;34m\u001b[0m\u001b[0m\n\u001b[0;32m--> 920\u001b[0;31m             \u001b[0;32mwhile\u001b[0m \u001b[0mself\u001b[0m\u001b[0;34m.\u001b[0m\u001b[0mdispatch_one_batch\u001b[0m\u001b[0;34m(\u001b[0m\u001b[0miterator\u001b[0m\u001b[0;34m)\u001b[0m\u001b[0;34m:\u001b[0m\u001b[0;34m\u001b[0m\u001b[0;34m\u001b[0m\u001b[0m\n\u001b[0m\u001b[1;32m    921\u001b[0m                 \u001b[0;32mpass\u001b[0m\u001b[0;34m\u001b[0m\u001b[0;34m\u001b[0m\u001b[0m\n\u001b[1;32m    922\u001b[0m \u001b[0;34m\u001b[0m\u001b[0m\n",
      "\u001b[0;32m~/anaconda3/envs/rvr-env/lib/python3.6/site-packages/sklearn/externals/joblib/parallel.py\u001b[0m in \u001b[0;36mdispatch_one_batch\u001b[0;34m(self, iterator)\u001b[0m\n\u001b[1;32m    757\u001b[0m                 \u001b[0;32mreturn\u001b[0m \u001b[0;32mFalse\u001b[0m\u001b[0;34m\u001b[0m\u001b[0;34m\u001b[0m\u001b[0m\n\u001b[1;32m    758\u001b[0m             \u001b[0;32melse\u001b[0m\u001b[0;34m:\u001b[0m\u001b[0;34m\u001b[0m\u001b[0;34m\u001b[0m\u001b[0m\n\u001b[0;32m--> 759\u001b[0;31m                 \u001b[0mself\u001b[0m\u001b[0;34m.\u001b[0m\u001b[0m_dispatch\u001b[0m\u001b[0;34m(\u001b[0m\u001b[0mtasks\u001b[0m\u001b[0;34m)\u001b[0m\u001b[0;34m\u001b[0m\u001b[0;34m\u001b[0m\u001b[0m\n\u001b[0m\u001b[1;32m    760\u001b[0m                 \u001b[0;32mreturn\u001b[0m \u001b[0;32mTrue\u001b[0m\u001b[0;34m\u001b[0m\u001b[0;34m\u001b[0m\u001b[0m\n\u001b[1;32m    761\u001b[0m \u001b[0;34m\u001b[0m\u001b[0m\n",
      "\u001b[0;32m~/anaconda3/envs/rvr-env/lib/python3.6/site-packages/sklearn/externals/joblib/parallel.py\u001b[0m in \u001b[0;36m_dispatch\u001b[0;34m(self, batch)\u001b[0m\n\u001b[1;32m    714\u001b[0m         \u001b[0;32mwith\u001b[0m \u001b[0mself\u001b[0m\u001b[0;34m.\u001b[0m\u001b[0m_lock\u001b[0m\u001b[0;34m:\u001b[0m\u001b[0;34m\u001b[0m\u001b[0;34m\u001b[0m\u001b[0m\n\u001b[1;32m    715\u001b[0m             \u001b[0mjob_idx\u001b[0m \u001b[0;34m=\u001b[0m \u001b[0mlen\u001b[0m\u001b[0;34m(\u001b[0m\u001b[0mself\u001b[0m\u001b[0;34m.\u001b[0m\u001b[0m_jobs\u001b[0m\u001b[0;34m)\u001b[0m\u001b[0;34m\u001b[0m\u001b[0;34m\u001b[0m\u001b[0m\n\u001b[0;32m--> 716\u001b[0;31m             \u001b[0mjob\u001b[0m \u001b[0;34m=\u001b[0m \u001b[0mself\u001b[0m\u001b[0;34m.\u001b[0m\u001b[0m_backend\u001b[0m\u001b[0;34m.\u001b[0m\u001b[0mapply_async\u001b[0m\u001b[0;34m(\u001b[0m\u001b[0mbatch\u001b[0m\u001b[0;34m,\u001b[0m \u001b[0mcallback\u001b[0m\u001b[0;34m=\u001b[0m\u001b[0mcb\u001b[0m\u001b[0;34m)\u001b[0m\u001b[0;34m\u001b[0m\u001b[0;34m\u001b[0m\u001b[0m\n\u001b[0m\u001b[1;32m    717\u001b[0m             \u001b[0;31m# A job can complete so quickly than its callback is\u001b[0m\u001b[0;34m\u001b[0m\u001b[0;34m\u001b[0m\u001b[0;34m\u001b[0m\u001b[0m\n\u001b[1;32m    718\u001b[0m             \u001b[0;31m# called before we get here, causing self._jobs to\u001b[0m\u001b[0;34m\u001b[0m\u001b[0;34m\u001b[0m\u001b[0;34m\u001b[0m\u001b[0m\n",
      "\u001b[0;32m~/anaconda3/envs/rvr-env/lib/python3.6/site-packages/sklearn/externals/joblib/_parallel_backends.py\u001b[0m in \u001b[0;36mapply_async\u001b[0;34m(self, func, callback)\u001b[0m\n\u001b[1;32m    180\u001b[0m     \u001b[0;32mdef\u001b[0m \u001b[0mapply_async\u001b[0m\u001b[0;34m(\u001b[0m\u001b[0mself\u001b[0m\u001b[0;34m,\u001b[0m \u001b[0mfunc\u001b[0m\u001b[0;34m,\u001b[0m \u001b[0mcallback\u001b[0m\u001b[0;34m=\u001b[0m\u001b[0;32mNone\u001b[0m\u001b[0;34m)\u001b[0m\u001b[0;34m:\u001b[0m\u001b[0;34m\u001b[0m\u001b[0;34m\u001b[0m\u001b[0m\n\u001b[1;32m    181\u001b[0m         \u001b[0;34m\"\"\"Schedule a func to be run\"\"\"\u001b[0m\u001b[0;34m\u001b[0m\u001b[0;34m\u001b[0m\u001b[0m\n\u001b[0;32m--> 182\u001b[0;31m         \u001b[0mresult\u001b[0m \u001b[0;34m=\u001b[0m \u001b[0mImmediateResult\u001b[0m\u001b[0;34m(\u001b[0m\u001b[0mfunc\u001b[0m\u001b[0;34m)\u001b[0m\u001b[0;34m\u001b[0m\u001b[0;34m\u001b[0m\u001b[0m\n\u001b[0m\u001b[1;32m    183\u001b[0m         \u001b[0;32mif\u001b[0m \u001b[0mcallback\u001b[0m\u001b[0;34m:\u001b[0m\u001b[0;34m\u001b[0m\u001b[0;34m\u001b[0m\u001b[0m\n\u001b[1;32m    184\u001b[0m             \u001b[0mcallback\u001b[0m\u001b[0;34m(\u001b[0m\u001b[0mresult\u001b[0m\u001b[0;34m)\u001b[0m\u001b[0;34m\u001b[0m\u001b[0;34m\u001b[0m\u001b[0m\n",
      "\u001b[0;32m~/anaconda3/envs/rvr-env/lib/python3.6/site-packages/sklearn/externals/joblib/_parallel_backends.py\u001b[0m in \u001b[0;36m__init__\u001b[0;34m(self, batch)\u001b[0m\n\u001b[1;32m    547\u001b[0m         \u001b[0;31m# Don't delay the application, to avoid keeping the input\u001b[0m\u001b[0;34m\u001b[0m\u001b[0;34m\u001b[0m\u001b[0;34m\u001b[0m\u001b[0m\n\u001b[1;32m    548\u001b[0m         \u001b[0;31m# arguments in memory\u001b[0m\u001b[0;34m\u001b[0m\u001b[0;34m\u001b[0m\u001b[0;34m\u001b[0m\u001b[0m\n\u001b[0;32m--> 549\u001b[0;31m         \u001b[0mself\u001b[0m\u001b[0;34m.\u001b[0m\u001b[0mresults\u001b[0m \u001b[0;34m=\u001b[0m \u001b[0mbatch\u001b[0m\u001b[0;34m(\u001b[0m\u001b[0;34m)\u001b[0m\u001b[0;34m\u001b[0m\u001b[0;34m\u001b[0m\u001b[0m\n\u001b[0m\u001b[1;32m    550\u001b[0m \u001b[0;34m\u001b[0m\u001b[0m\n\u001b[1;32m    551\u001b[0m     \u001b[0;32mdef\u001b[0m \u001b[0mget\u001b[0m\u001b[0;34m(\u001b[0m\u001b[0mself\u001b[0m\u001b[0;34m)\u001b[0m\u001b[0;34m:\u001b[0m\u001b[0;34m\u001b[0m\u001b[0;34m\u001b[0m\u001b[0m\n",
      "\u001b[0;32m~/anaconda3/envs/rvr-env/lib/python3.6/site-packages/sklearn/externals/joblib/parallel.py\u001b[0m in \u001b[0;36m__call__\u001b[0;34m(self)\u001b[0m\n\u001b[1;32m    223\u001b[0m         \u001b[0;32mwith\u001b[0m \u001b[0mparallel_backend\u001b[0m\u001b[0;34m(\u001b[0m\u001b[0mself\u001b[0m\u001b[0;34m.\u001b[0m\u001b[0m_backend\u001b[0m\u001b[0;34m,\u001b[0m \u001b[0mn_jobs\u001b[0m\u001b[0;34m=\u001b[0m\u001b[0mself\u001b[0m\u001b[0;34m.\u001b[0m\u001b[0m_n_jobs\u001b[0m\u001b[0;34m)\u001b[0m\u001b[0;34m:\u001b[0m\u001b[0;34m\u001b[0m\u001b[0;34m\u001b[0m\u001b[0m\n\u001b[1;32m    224\u001b[0m             return [func(*args, **kwargs)\n\u001b[0;32m--> 225\u001b[0;31m                     for func, args, kwargs in self.items]\n\u001b[0m\u001b[1;32m    226\u001b[0m \u001b[0;34m\u001b[0m\u001b[0m\n\u001b[1;32m    227\u001b[0m     \u001b[0;32mdef\u001b[0m \u001b[0m__len__\u001b[0m\u001b[0;34m(\u001b[0m\u001b[0mself\u001b[0m\u001b[0;34m)\u001b[0m\u001b[0;34m:\u001b[0m\u001b[0;34m\u001b[0m\u001b[0;34m\u001b[0m\u001b[0m\n",
      "\u001b[0;32m~/anaconda3/envs/rvr-env/lib/python3.6/site-packages/sklearn/externals/joblib/parallel.py\u001b[0m in \u001b[0;36m<listcomp>\u001b[0;34m(.0)\u001b[0m\n\u001b[1;32m    223\u001b[0m         \u001b[0;32mwith\u001b[0m \u001b[0mparallel_backend\u001b[0m\u001b[0;34m(\u001b[0m\u001b[0mself\u001b[0m\u001b[0;34m.\u001b[0m\u001b[0m_backend\u001b[0m\u001b[0;34m,\u001b[0m \u001b[0mn_jobs\u001b[0m\u001b[0;34m=\u001b[0m\u001b[0mself\u001b[0m\u001b[0;34m.\u001b[0m\u001b[0m_n_jobs\u001b[0m\u001b[0;34m)\u001b[0m\u001b[0;34m:\u001b[0m\u001b[0;34m\u001b[0m\u001b[0;34m\u001b[0m\u001b[0m\n\u001b[1;32m    224\u001b[0m             return [func(*args, **kwargs)\n\u001b[0;32m--> 225\u001b[0;31m                     for func, args, kwargs in self.items]\n\u001b[0m\u001b[1;32m    226\u001b[0m \u001b[0;34m\u001b[0m\u001b[0m\n\u001b[1;32m    227\u001b[0m     \u001b[0;32mdef\u001b[0m \u001b[0m__len__\u001b[0m\u001b[0;34m(\u001b[0m\u001b[0mself\u001b[0m\u001b[0;34m)\u001b[0m\u001b[0;34m:\u001b[0m\u001b[0;34m\u001b[0m\u001b[0;34m\u001b[0m\u001b[0m\n",
      "\u001b[0;32m~/anaconda3/envs/rvr-env/lib/python3.6/site-packages/sklearn/model_selection/_validation.py\u001b[0m in \u001b[0;36m_fit_and_score\u001b[0;34m(estimator, X, y, scorer, train, test, verbose, parameters, fit_params, return_train_score, return_parameters, return_n_test_samples, return_times, return_estimator, error_score)\u001b[0m\n\u001b[1;32m    526\u001b[0m             \u001b[0mestimator\u001b[0m\u001b[0;34m.\u001b[0m\u001b[0mfit\u001b[0m\u001b[0;34m(\u001b[0m\u001b[0mX_train\u001b[0m\u001b[0;34m,\u001b[0m \u001b[0;34m**\u001b[0m\u001b[0mfit_params\u001b[0m\u001b[0;34m)\u001b[0m\u001b[0;34m\u001b[0m\u001b[0;34m\u001b[0m\u001b[0m\n\u001b[1;32m    527\u001b[0m         \u001b[0;32melse\u001b[0m\u001b[0;34m:\u001b[0m\u001b[0;34m\u001b[0m\u001b[0;34m\u001b[0m\u001b[0m\n\u001b[0;32m--> 528\u001b[0;31m             \u001b[0mestimator\u001b[0m\u001b[0;34m.\u001b[0m\u001b[0mfit\u001b[0m\u001b[0;34m(\u001b[0m\u001b[0mX_train\u001b[0m\u001b[0;34m,\u001b[0m \u001b[0my_train\u001b[0m\u001b[0;34m,\u001b[0m \u001b[0;34m**\u001b[0m\u001b[0mfit_params\u001b[0m\u001b[0;34m)\u001b[0m\u001b[0;34m\u001b[0m\u001b[0;34m\u001b[0m\u001b[0m\n\u001b[0m\u001b[1;32m    529\u001b[0m \u001b[0;34m\u001b[0m\u001b[0m\n\u001b[1;32m    530\u001b[0m     \u001b[0;32mexcept\u001b[0m \u001b[0mException\u001b[0m \u001b[0;32mas\u001b[0m \u001b[0me\u001b[0m\u001b[0;34m:\u001b[0m\u001b[0;34m\u001b[0m\u001b[0;34m\u001b[0m\u001b[0m\n",
      "\u001b[0;32m~/anaconda3/envs/rvr-env/lib/python3.6/site-packages/sklearn/ensemble/forest.py\u001b[0m in \u001b[0;36mfit\u001b[0;34m(self, X, y, sample_weight)\u001b[0m\n\u001b[1;32m    331\u001b[0m                     \u001b[0mt\u001b[0m\u001b[0;34m,\u001b[0m \u001b[0mself\u001b[0m\u001b[0;34m,\u001b[0m \u001b[0mX\u001b[0m\u001b[0;34m,\u001b[0m \u001b[0my\u001b[0m\u001b[0;34m,\u001b[0m \u001b[0msample_weight\u001b[0m\u001b[0;34m,\u001b[0m \u001b[0mi\u001b[0m\u001b[0;34m,\u001b[0m \u001b[0mlen\u001b[0m\u001b[0;34m(\u001b[0m\u001b[0mtrees\u001b[0m\u001b[0;34m)\u001b[0m\u001b[0;34m,\u001b[0m\u001b[0;34m\u001b[0m\u001b[0;34m\u001b[0m\u001b[0m\n\u001b[1;32m    332\u001b[0m                     verbose=self.verbose, class_weight=self.class_weight)\n\u001b[0;32m--> 333\u001b[0;31m                 for i, t in enumerate(trees))\n\u001b[0m\u001b[1;32m    334\u001b[0m \u001b[0;34m\u001b[0m\u001b[0m\n\u001b[1;32m    335\u001b[0m             \u001b[0;31m# Collect newly grown trees\u001b[0m\u001b[0;34m\u001b[0m\u001b[0;34m\u001b[0m\u001b[0;34m\u001b[0m\u001b[0m\n",
      "\u001b[0;32m~/anaconda3/envs/rvr-env/lib/python3.6/site-packages/sklearn/externals/joblib/parallel.py\u001b[0m in \u001b[0;36m__call__\u001b[0;34m(self, iterable)\u001b[0m\n\u001b[1;32m    918\u001b[0m                 \u001b[0mself\u001b[0m\u001b[0;34m.\u001b[0m\u001b[0m_iterating\u001b[0m \u001b[0;34m=\u001b[0m \u001b[0mself\u001b[0m\u001b[0;34m.\u001b[0m\u001b[0m_original_iterator\u001b[0m \u001b[0;32mis\u001b[0m \u001b[0;32mnot\u001b[0m \u001b[0;32mNone\u001b[0m\u001b[0;34m\u001b[0m\u001b[0;34m\u001b[0m\u001b[0m\n\u001b[1;32m    919\u001b[0m \u001b[0;34m\u001b[0m\u001b[0m\n\u001b[0;32m--> 920\u001b[0;31m             \u001b[0;32mwhile\u001b[0m \u001b[0mself\u001b[0m\u001b[0;34m.\u001b[0m\u001b[0mdispatch_one_batch\u001b[0m\u001b[0;34m(\u001b[0m\u001b[0miterator\u001b[0m\u001b[0;34m)\u001b[0m\u001b[0;34m:\u001b[0m\u001b[0;34m\u001b[0m\u001b[0;34m\u001b[0m\u001b[0m\n\u001b[0m\u001b[1;32m    921\u001b[0m                 \u001b[0;32mpass\u001b[0m\u001b[0;34m\u001b[0m\u001b[0;34m\u001b[0m\u001b[0m\n\u001b[1;32m    922\u001b[0m \u001b[0;34m\u001b[0m\u001b[0m\n",
      "\u001b[0;32m~/anaconda3/envs/rvr-env/lib/python3.6/site-packages/sklearn/externals/joblib/parallel.py\u001b[0m in \u001b[0;36mdispatch_one_batch\u001b[0;34m(self, iterator)\u001b[0m\n\u001b[1;32m    757\u001b[0m                 \u001b[0;32mreturn\u001b[0m \u001b[0;32mFalse\u001b[0m\u001b[0;34m\u001b[0m\u001b[0;34m\u001b[0m\u001b[0m\n\u001b[1;32m    758\u001b[0m             \u001b[0;32melse\u001b[0m\u001b[0;34m:\u001b[0m\u001b[0;34m\u001b[0m\u001b[0;34m\u001b[0m\u001b[0m\n\u001b[0;32m--> 759\u001b[0;31m                 \u001b[0mself\u001b[0m\u001b[0;34m.\u001b[0m\u001b[0m_dispatch\u001b[0m\u001b[0;34m(\u001b[0m\u001b[0mtasks\u001b[0m\u001b[0;34m)\u001b[0m\u001b[0;34m\u001b[0m\u001b[0;34m\u001b[0m\u001b[0m\n\u001b[0m\u001b[1;32m    760\u001b[0m                 \u001b[0;32mreturn\u001b[0m \u001b[0;32mTrue\u001b[0m\u001b[0;34m\u001b[0m\u001b[0;34m\u001b[0m\u001b[0m\n\u001b[1;32m    761\u001b[0m \u001b[0;34m\u001b[0m\u001b[0m\n",
      "\u001b[0;32m~/anaconda3/envs/rvr-env/lib/python3.6/site-packages/sklearn/externals/joblib/parallel.py\u001b[0m in \u001b[0;36m_dispatch\u001b[0;34m(self, batch)\u001b[0m\n\u001b[1;32m    714\u001b[0m         \u001b[0;32mwith\u001b[0m \u001b[0mself\u001b[0m\u001b[0;34m.\u001b[0m\u001b[0m_lock\u001b[0m\u001b[0;34m:\u001b[0m\u001b[0;34m\u001b[0m\u001b[0;34m\u001b[0m\u001b[0m\n\u001b[1;32m    715\u001b[0m             \u001b[0mjob_idx\u001b[0m \u001b[0;34m=\u001b[0m \u001b[0mlen\u001b[0m\u001b[0;34m(\u001b[0m\u001b[0mself\u001b[0m\u001b[0;34m.\u001b[0m\u001b[0m_jobs\u001b[0m\u001b[0;34m)\u001b[0m\u001b[0;34m\u001b[0m\u001b[0;34m\u001b[0m\u001b[0m\n\u001b[0;32m--> 716\u001b[0;31m             \u001b[0mjob\u001b[0m \u001b[0;34m=\u001b[0m \u001b[0mself\u001b[0m\u001b[0;34m.\u001b[0m\u001b[0m_backend\u001b[0m\u001b[0;34m.\u001b[0m\u001b[0mapply_async\u001b[0m\u001b[0;34m(\u001b[0m\u001b[0mbatch\u001b[0m\u001b[0;34m,\u001b[0m \u001b[0mcallback\u001b[0m\u001b[0;34m=\u001b[0m\u001b[0mcb\u001b[0m\u001b[0;34m)\u001b[0m\u001b[0;34m\u001b[0m\u001b[0;34m\u001b[0m\u001b[0m\n\u001b[0m\u001b[1;32m    717\u001b[0m             \u001b[0;31m# A job can complete so quickly than its callback is\u001b[0m\u001b[0;34m\u001b[0m\u001b[0;34m\u001b[0m\u001b[0;34m\u001b[0m\u001b[0m\n\u001b[1;32m    718\u001b[0m             \u001b[0;31m# called before we get here, causing self._jobs to\u001b[0m\u001b[0;34m\u001b[0m\u001b[0;34m\u001b[0m\u001b[0;34m\u001b[0m\u001b[0m\n",
      "\u001b[0;32m~/anaconda3/envs/rvr-env/lib/python3.6/site-packages/sklearn/externals/joblib/_parallel_backends.py\u001b[0m in \u001b[0;36mapply_async\u001b[0;34m(self, func, callback)\u001b[0m\n\u001b[1;32m    180\u001b[0m     \u001b[0;32mdef\u001b[0m \u001b[0mapply_async\u001b[0m\u001b[0;34m(\u001b[0m\u001b[0mself\u001b[0m\u001b[0;34m,\u001b[0m \u001b[0mfunc\u001b[0m\u001b[0;34m,\u001b[0m \u001b[0mcallback\u001b[0m\u001b[0;34m=\u001b[0m\u001b[0;32mNone\u001b[0m\u001b[0;34m)\u001b[0m\u001b[0;34m:\u001b[0m\u001b[0;34m\u001b[0m\u001b[0;34m\u001b[0m\u001b[0m\n\u001b[1;32m    181\u001b[0m         \u001b[0;34m\"\"\"Schedule a func to be run\"\"\"\u001b[0m\u001b[0;34m\u001b[0m\u001b[0;34m\u001b[0m\u001b[0m\n\u001b[0;32m--> 182\u001b[0;31m         \u001b[0mresult\u001b[0m \u001b[0;34m=\u001b[0m \u001b[0mImmediateResult\u001b[0m\u001b[0;34m(\u001b[0m\u001b[0mfunc\u001b[0m\u001b[0;34m)\u001b[0m\u001b[0;34m\u001b[0m\u001b[0;34m\u001b[0m\u001b[0m\n\u001b[0m\u001b[1;32m    183\u001b[0m         \u001b[0;32mif\u001b[0m \u001b[0mcallback\u001b[0m\u001b[0;34m:\u001b[0m\u001b[0;34m\u001b[0m\u001b[0;34m\u001b[0m\u001b[0m\n\u001b[1;32m    184\u001b[0m             \u001b[0mcallback\u001b[0m\u001b[0;34m(\u001b[0m\u001b[0mresult\u001b[0m\u001b[0;34m)\u001b[0m\u001b[0;34m\u001b[0m\u001b[0;34m\u001b[0m\u001b[0m\n",
      "\u001b[0;32m~/anaconda3/envs/rvr-env/lib/python3.6/site-packages/sklearn/externals/joblib/_parallel_backends.py\u001b[0m in \u001b[0;36m__init__\u001b[0;34m(self, batch)\u001b[0m\n\u001b[1;32m    547\u001b[0m         \u001b[0;31m# Don't delay the application, to avoid keeping the input\u001b[0m\u001b[0;34m\u001b[0m\u001b[0;34m\u001b[0m\u001b[0;34m\u001b[0m\u001b[0m\n\u001b[1;32m    548\u001b[0m         \u001b[0;31m# arguments in memory\u001b[0m\u001b[0;34m\u001b[0m\u001b[0;34m\u001b[0m\u001b[0;34m\u001b[0m\u001b[0m\n\u001b[0;32m--> 549\u001b[0;31m         \u001b[0mself\u001b[0m\u001b[0;34m.\u001b[0m\u001b[0mresults\u001b[0m \u001b[0;34m=\u001b[0m \u001b[0mbatch\u001b[0m\u001b[0;34m(\u001b[0m\u001b[0;34m)\u001b[0m\u001b[0;34m\u001b[0m\u001b[0;34m\u001b[0m\u001b[0m\n\u001b[0m\u001b[1;32m    550\u001b[0m \u001b[0;34m\u001b[0m\u001b[0m\n\u001b[1;32m    551\u001b[0m     \u001b[0;32mdef\u001b[0m \u001b[0mget\u001b[0m\u001b[0;34m(\u001b[0m\u001b[0mself\u001b[0m\u001b[0;34m)\u001b[0m\u001b[0;34m:\u001b[0m\u001b[0;34m\u001b[0m\u001b[0;34m\u001b[0m\u001b[0m\n",
      "\u001b[0;32m~/anaconda3/envs/rvr-env/lib/python3.6/site-packages/sklearn/externals/joblib/parallel.py\u001b[0m in \u001b[0;36m__call__\u001b[0;34m(self)\u001b[0m\n\u001b[1;32m    223\u001b[0m         \u001b[0;32mwith\u001b[0m \u001b[0mparallel_backend\u001b[0m\u001b[0;34m(\u001b[0m\u001b[0mself\u001b[0m\u001b[0;34m.\u001b[0m\u001b[0m_backend\u001b[0m\u001b[0;34m,\u001b[0m \u001b[0mn_jobs\u001b[0m\u001b[0;34m=\u001b[0m\u001b[0mself\u001b[0m\u001b[0;34m.\u001b[0m\u001b[0m_n_jobs\u001b[0m\u001b[0;34m)\u001b[0m\u001b[0;34m:\u001b[0m\u001b[0;34m\u001b[0m\u001b[0;34m\u001b[0m\u001b[0m\n\u001b[1;32m    224\u001b[0m             return [func(*args, **kwargs)\n\u001b[0;32m--> 225\u001b[0;31m                     for func, args, kwargs in self.items]\n\u001b[0m\u001b[1;32m    226\u001b[0m \u001b[0;34m\u001b[0m\u001b[0m\n\u001b[1;32m    227\u001b[0m     \u001b[0;32mdef\u001b[0m \u001b[0m__len__\u001b[0m\u001b[0;34m(\u001b[0m\u001b[0mself\u001b[0m\u001b[0;34m)\u001b[0m\u001b[0;34m:\u001b[0m\u001b[0;34m\u001b[0m\u001b[0;34m\u001b[0m\u001b[0m\n",
      "\u001b[0;32m~/anaconda3/envs/rvr-env/lib/python3.6/site-packages/sklearn/externals/joblib/parallel.py\u001b[0m in \u001b[0;36m<listcomp>\u001b[0;34m(.0)\u001b[0m\n\u001b[1;32m    223\u001b[0m         \u001b[0;32mwith\u001b[0m \u001b[0mparallel_backend\u001b[0m\u001b[0;34m(\u001b[0m\u001b[0mself\u001b[0m\u001b[0;34m.\u001b[0m\u001b[0m_backend\u001b[0m\u001b[0;34m,\u001b[0m \u001b[0mn_jobs\u001b[0m\u001b[0;34m=\u001b[0m\u001b[0mself\u001b[0m\u001b[0;34m.\u001b[0m\u001b[0m_n_jobs\u001b[0m\u001b[0;34m)\u001b[0m\u001b[0;34m:\u001b[0m\u001b[0;34m\u001b[0m\u001b[0;34m\u001b[0m\u001b[0m\n\u001b[1;32m    224\u001b[0m             return [func(*args, **kwargs)\n\u001b[0;32m--> 225\u001b[0;31m                     for func, args, kwargs in self.items]\n\u001b[0m\u001b[1;32m    226\u001b[0m \u001b[0;34m\u001b[0m\u001b[0m\n\u001b[1;32m    227\u001b[0m     \u001b[0;32mdef\u001b[0m \u001b[0m__len__\u001b[0m\u001b[0;34m(\u001b[0m\u001b[0mself\u001b[0m\u001b[0;34m)\u001b[0m\u001b[0;34m:\u001b[0m\u001b[0;34m\u001b[0m\u001b[0;34m\u001b[0m\u001b[0m\n",
      "\u001b[0;32m~/anaconda3/envs/rvr-env/lib/python3.6/site-packages/sklearn/ensemble/forest.py\u001b[0m in \u001b[0;36m_parallel_build_trees\u001b[0;34m(tree, forest, X, y, sample_weight, tree_idx, n_trees, verbose, class_weight)\u001b[0m\n\u001b[1;32m    117\u001b[0m             \u001b[0mcurr_sample_weight\u001b[0m \u001b[0;34m*=\u001b[0m \u001b[0mcompute_sample_weight\u001b[0m\u001b[0;34m(\u001b[0m\u001b[0;34m'balanced'\u001b[0m\u001b[0;34m,\u001b[0m \u001b[0my\u001b[0m\u001b[0;34m,\u001b[0m \u001b[0mindices\u001b[0m\u001b[0;34m)\u001b[0m\u001b[0;34m\u001b[0m\u001b[0;34m\u001b[0m\u001b[0m\n\u001b[1;32m    118\u001b[0m \u001b[0;34m\u001b[0m\u001b[0m\n\u001b[0;32m--> 119\u001b[0;31m         \u001b[0mtree\u001b[0m\u001b[0;34m.\u001b[0m\u001b[0mfit\u001b[0m\u001b[0;34m(\u001b[0m\u001b[0mX\u001b[0m\u001b[0;34m,\u001b[0m \u001b[0my\u001b[0m\u001b[0;34m,\u001b[0m \u001b[0msample_weight\u001b[0m\u001b[0;34m=\u001b[0m\u001b[0mcurr_sample_weight\u001b[0m\u001b[0;34m,\u001b[0m \u001b[0mcheck_input\u001b[0m\u001b[0;34m=\u001b[0m\u001b[0;32mFalse\u001b[0m\u001b[0;34m)\u001b[0m\u001b[0;34m\u001b[0m\u001b[0;34m\u001b[0m\u001b[0m\n\u001b[0m\u001b[1;32m    120\u001b[0m     \u001b[0;32melse\u001b[0m\u001b[0;34m:\u001b[0m\u001b[0;34m\u001b[0m\u001b[0;34m\u001b[0m\u001b[0m\n\u001b[1;32m    121\u001b[0m         \u001b[0mtree\u001b[0m\u001b[0;34m.\u001b[0m\u001b[0mfit\u001b[0m\u001b[0;34m(\u001b[0m\u001b[0mX\u001b[0m\u001b[0;34m,\u001b[0m \u001b[0my\u001b[0m\u001b[0;34m,\u001b[0m \u001b[0msample_weight\u001b[0m\u001b[0;34m=\u001b[0m\u001b[0msample_weight\u001b[0m\u001b[0;34m,\u001b[0m \u001b[0mcheck_input\u001b[0m\u001b[0;34m=\u001b[0m\u001b[0;32mFalse\u001b[0m\u001b[0;34m)\u001b[0m\u001b[0;34m\u001b[0m\u001b[0;34m\u001b[0m\u001b[0m\n",
      "\u001b[0;32m~/anaconda3/envs/rvr-env/lib/python3.6/site-packages/sklearn/tree/tree.py\u001b[0m in \u001b[0;36mfit\u001b[0;34m(self, X, y, sample_weight, check_input, X_idx_sorted)\u001b[0m\n\u001b[1;32m    799\u001b[0m             \u001b[0msample_weight\u001b[0m\u001b[0;34m=\u001b[0m\u001b[0msample_weight\u001b[0m\u001b[0;34m,\u001b[0m\u001b[0;34m\u001b[0m\u001b[0;34m\u001b[0m\u001b[0m\n\u001b[1;32m    800\u001b[0m             \u001b[0mcheck_input\u001b[0m\u001b[0;34m=\u001b[0m\u001b[0mcheck_input\u001b[0m\u001b[0;34m,\u001b[0m\u001b[0;34m\u001b[0m\u001b[0;34m\u001b[0m\u001b[0m\n\u001b[0;32m--> 801\u001b[0;31m             X_idx_sorted=X_idx_sorted)\n\u001b[0m\u001b[1;32m    802\u001b[0m         \u001b[0;32mreturn\u001b[0m \u001b[0mself\u001b[0m\u001b[0;34m\u001b[0m\u001b[0;34m\u001b[0m\u001b[0m\n\u001b[1;32m    803\u001b[0m \u001b[0;34m\u001b[0m\u001b[0m\n",
      "\u001b[0;32m~/anaconda3/envs/rvr-env/lib/python3.6/site-packages/sklearn/tree/tree.py\u001b[0m in \u001b[0;36mfit\u001b[0;34m(self, X, y, sample_weight, check_input, X_idx_sorted)\u001b[0m\n\u001b[1;32m    364\u001b[0m                                            min_impurity_split)\n\u001b[1;32m    365\u001b[0m \u001b[0;34m\u001b[0m\u001b[0m\n\u001b[0;32m--> 366\u001b[0;31m         \u001b[0mbuilder\u001b[0m\u001b[0;34m.\u001b[0m\u001b[0mbuild\u001b[0m\u001b[0;34m(\u001b[0m\u001b[0mself\u001b[0m\u001b[0;34m.\u001b[0m\u001b[0mtree_\u001b[0m\u001b[0;34m,\u001b[0m \u001b[0mX\u001b[0m\u001b[0;34m,\u001b[0m \u001b[0my\u001b[0m\u001b[0;34m,\u001b[0m \u001b[0msample_weight\u001b[0m\u001b[0;34m,\u001b[0m \u001b[0mX_idx_sorted\u001b[0m\u001b[0;34m)\u001b[0m\u001b[0;34m\u001b[0m\u001b[0;34m\u001b[0m\u001b[0m\n\u001b[0m\u001b[1;32m    367\u001b[0m \u001b[0;34m\u001b[0m\u001b[0m\n\u001b[1;32m    368\u001b[0m         \u001b[0;32mif\u001b[0m \u001b[0mself\u001b[0m\u001b[0;34m.\u001b[0m\u001b[0mn_outputs_\u001b[0m \u001b[0;34m==\u001b[0m \u001b[0;36m1\u001b[0m\u001b[0;34m:\u001b[0m\u001b[0;34m\u001b[0m\u001b[0;34m\u001b[0m\u001b[0m\n",
      "\u001b[0;31mKeyboardInterrupt\u001b[0m: "
     ]
    }
   ],
   "source": [
    "gs.fit(x_train, y_train[:,yidx])"
   ]
  },
  {
   "cell_type": "code",
   "execution_count": null,
   "metadata": {},
   "outputs": [],
   "source": [
    "gs.cv_results_"
   ]
  },
  {
   "cell_type": "code",
   "execution_count": 57,
   "metadata": {},
   "outputs": [
    {
     "data": {
      "text/plain": [
       "{'min_samples_leaf': 1, 'min_samples_split': 2, 'n_estimators': 1000}"
      ]
     },
     "execution_count": 57,
     "metadata": {},
     "output_type": "execute_result"
    }
   ],
   "source": [
    "gs.best_params_"
   ]
  },
  {
   "cell_type": "code",
   "execution_count": 61,
   "metadata": {},
   "outputs": [
    {
     "data": {
      "text/plain": [
       "RandomForestClassifier(bootstrap=True, class_weight=None, criterion='gini',\n",
       "            max_depth=None, max_features='auto', max_leaf_nodes=None,\n",
       "            min_impurity_decrease=0.0, min_impurity_split=None,\n",
       "            min_samples_leaf=1, min_samples_split=2,\n",
       "            min_weight_fraction_leaf=0.0, n_estimators=1000, n_jobs=None,\n",
       "            oob_score=False, random_state=None, verbose=0,\n",
       "            warm_start=False)"
      ]
     },
     "execution_count": 61,
     "metadata": {},
     "output_type": "execute_result"
    }
   ],
   "source": []
  },
  {
   "cell_type": "code",
   "execution_count": null,
   "metadata": {},
   "outputs": [],
   "source": [
    "print(1 - gs.best_estimator_.score(x_train, y_train[:,yidx]))\n",
    "print(1 - gs.best_estimator_.score(x_valid, y_valid[:,yidx]))\n",
    "print(1 - gs.best_estimator_.score(x_test, y_test[:,yidx]))"
   ]
  },
  {
   "cell_type": "markdown",
   "metadata": {},
   "source": [
    "## Extra Random Forests"
   ]
  },
  {
   "cell_type": "code",
   "execution_count": 102,
   "metadata": {},
   "outputs": [],
   "source": [
    "from sklearn.ensemble import ExtraTreesClassifier\n",
    "\n",
    "etc = ExtraTreesClassifier(n_estimators=500, max_features=12)"
   ]
  },
  {
   "cell_type": "code",
   "execution_count": 103,
   "metadata": {},
   "outputs": [
    {
     "data": {
      "text/plain": [
       "ExtraTreesClassifier(bootstrap=False, class_weight=None, criterion='gini',\n",
       "           max_depth=None, max_features=12, max_leaf_nodes=None,\n",
       "           min_impurity_decrease=0.0, min_impurity_split=None,\n",
       "           min_samples_leaf=1, min_samples_split=2,\n",
       "           min_weight_fraction_leaf=0.0, n_estimators=500, n_jobs=None,\n",
       "           oob_score=False, random_state=None, verbose=0, warm_start=False)"
      ]
     },
     "execution_count": 103,
     "metadata": {},
     "output_type": "execute_result"
    }
   ],
   "source": [
    "etc.fit(x_train, y_train[:, yidx])"
   ]
  },
  {
   "cell_type": "code",
   "execution_count": 104,
   "metadata": {},
   "outputs": [
    {
     "name": "stdout",
     "output_type": "stream",
     "text": [
      "0.0\n",
      "0.06574999999999998\n",
      "0.19699999999999995\n"
     ]
    }
   ],
   "source": [
    "print(1 - etc.score(x_train, y_train[:,yidx]))\n",
    "print(1 - etc.score(x_valid, y_valid[:,yidx]))\n",
    "print(1 - etc.score(x_test, y_test[:,yidx]))"
   ]
  },
  {
   "cell_type": "markdown",
   "metadata": {},
   "source": [
    "# Logistic regression with all interaction terms"
   ]
  },
  {
   "cell_type": "code",
   "execution_count": 17,
   "metadata": {},
   "outputs": [],
   "source": [
    "poly = PolynomialFeatures(interaction_only=True,include_bias = False)\n",
    "interx_train = poly.fit_transform(x_train)\n",
    "interx_valid = poly.fit_transform(x_valid)\n",
    "interx_test = poly.fit_transform(x_test)"
   ]
  },
  {
   "cell_type": "code",
   "execution_count": 56,
   "metadata": {},
   "outputs": [
    {
     "name": "stderr",
     "output_type": "stream",
     "text": [
      "/Users/Frances/anaconda3/envs/rvr-env/lib/python3.6/site-packages/sklearn/linear_model/logistic.py:433: FutureWarning: Default solver will be changed to 'lbfgs' in 0.22. Specify a solver to silence this warning.\n",
      "  FutureWarning)\n"
     ]
    },
    {
     "data": {
      "text/plain": [
       "LogisticRegression(C=1.0, class_weight=None, dual=False, fit_intercept=True,\n",
       "          intercept_scaling=1, max_iter=100, multi_class='warn',\n",
       "          n_jobs=None, penalty='l2', random_state=None, solver='warn',\n",
       "          tol=0.0001, verbose=0, warm_start=False)"
      ]
     },
     "execution_count": 56,
     "metadata": {},
     "output_type": "execute_result"
    }
   ],
   "source": [
    "modelpoly = LogisticRegression()\n",
    "modelpoly.fit(interx_train, y_train[:,yidx])"
   ]
  },
  {
   "cell_type": "code",
   "execution_count": 57,
   "metadata": {},
   "outputs": [
    {
     "name": "stdout",
     "output_type": "stream",
     "text": [
      "0.0\n",
      "0.01375000000000004\n",
      "0.24319999999999997\n"
     ]
    }
   ],
   "source": [
    "print(1 - modelpoly.score(interx_train, y_train[:,yidx]))\n",
    "print(1 - modelpoly.score(interx_valid, y_valid[:,yidx]))\n",
    "print(1 - modelpoly.score(interx_test, y_test[:,yidx]))"
   ]
  },
  {
   "cell_type": "code",
   "execution_count": 59,
   "metadata": {},
   "outputs": [
    {
     "name": "stderr",
     "output_type": "stream",
     "text": [
      "/Users/Frances/anaconda3/envs/rvr-env/lib/python3.6/site-packages/sklearn/linear_model/logistic.py:433: FutureWarning: Default solver will be changed to 'lbfgs' in 0.22. Specify a solver to silence this warning.\n",
      "  FutureWarning)\n"
     ]
    },
    {
     "data": {
      "text/plain": [
       "LogisticRegression(C=1.0, class_weight=None, dual=False, fit_intercept=True,\n",
       "          intercept_scaling=1, max_iter=100, multi_class='warn',\n",
       "          n_jobs=None, penalty='l1', random_state=None, solver='warn',\n",
       "          tol=0.0001, verbose=0, warm_start=False)"
      ]
     },
     "execution_count": 59,
     "metadata": {},
     "output_type": "execute_result"
    }
   ],
   "source": [
    "modelpolylasso = LogisticRegression(penalty='l1')\n",
    "modelpolylasso.fit(interx_train, y_train[:,yidx])"
   ]
  },
  {
   "cell_type": "code",
   "execution_count": 60,
   "metadata": {},
   "outputs": [
    {
     "name": "stdout",
     "output_type": "stream",
     "text": [
      "0.0\n",
      "0.013499999999999956\n",
      "0.21419999999999995\n"
     ]
    }
   ],
   "source": [
    "print(1 - modelpolylasso.score(interx_train, y_train[:,yidx]))\n",
    "print(1 - modelpolylasso.score(interx_valid, y_valid[:,yidx]))\n",
    "print(1 - modelpolylasso.score(interx_test, y_test[:,yidx]))"
   ]
  },
  {
   "cell_type": "markdown",
   "metadata": {},
   "source": [
    "# Other Testing"
   ]
  },
  {
   "cell_type": "code",
   "execution_count": 48,
   "metadata": {},
   "outputs": [
    {
     "data": {
      "text/plain": [
       "array([[ 0.37559855, -1.34726291,  1.50020949, -0.12918081,  0.0301279 ,\n",
       "         0.3621547 ,  0.23800992,  0.09034765,  0.09252558,  0.34342021,\n",
       "        -0.03274698,  0.28282247,  0.2128752 , -0.05152145,  0.66529418,\n",
       "        -0.08803918,  0.21451589,  0.27596898,  0.08322736, -0.14276996,\n",
       "        -0.38007513, -1.73601618, -1.16010927,  0.75454189,  0.18343381,\n",
       "         0.05263985, -0.13360706, -0.58840189, -0.6536957 , -0.42915023]])"
      ]
     },
     "execution_count": 48,
     "metadata": {},
     "output_type": "execute_result"
    }
   ],
   "source": [
    "modelall.coef_"
   ]
  },
  {
   "cell_type": "code",
   "execution_count": 159,
   "metadata": {
    "collapsed": true
   },
   "outputs": [],
   "source": [
    "model0 = LogisticRegression()\n",
    "model1 = LogisticRegression() "
   ]
  },
  {
   "cell_type": "code",
   "execution_count": 134,
   "metadata": {},
   "outputs": [
    {
     "name": "stderr",
     "output_type": "stream",
     "text": [
      "/Users/Frances/anaconda3/envs/rvr-env/lib/python3.6/site-packages/sklearn/linear_model/logistic.py:433: FutureWarning: Default solver will be changed to 'lbfgs' in 0.22. Specify a solver to silence this warning.\n",
      "  FutureWarning)\n"
     ]
    },
    {
     "data": {
      "text/plain": [
       "LogisticRegression(C=1.0, class_weight=None, dual=False, fit_intercept=True,\n",
       "          intercept_scaling=1, max_iter=100, multi_class='warn',\n",
       "          n_jobs=None, penalty='l2', random_state=None, solver='warn',\n",
       "          tol=0.0001, verbose=0, warm_start=False)"
      ]
     },
     "execution_count": 134,
     "metadata": {},
     "output_type": "execute_result"
    }
   ],
   "source": [
    "model0.fit(x_train[:n, :], y_train[:n, yidx])"
   ]
  },
  {
   "cell_type": "code",
   "execution_count": 120,
   "metadata": {},
   "outputs": [
    {
     "data": {
      "text/plain": [
       "array([[-1.91628498, -1.42506881,  1.56488135,  2.98891865,  1.71552265,\n",
       "         1.74695572, -2.16221389,  0.98306163, -1.2708093 ,  2.02369533,\n",
       "         2.19710523, -2.07709028, -0.68861884,  0.90355319, -0.65265203,\n",
       "        -0.59577515,  1.98183885,  1.30805942,  2.15380522, -0.56604378,\n",
       "        -1.59911531, -2.42837439,  2.38934623, -0.39033674,  1.0966025 ,\n",
       "        -2.60248476,  0.48132315, -2.45358317,  1.03129185, -1.64417306]])"
      ]
     },
     "execution_count": 120,
     "metadata": {},
     "output_type": "execute_result"
    }
   ],
   "source": [
    "model0.coef_"
   ]
  },
  {
   "cell_type": "code",
   "execution_count": 135,
   "metadata": {},
   "outputs": [
    {
     "name": "stderr",
     "output_type": "stream",
     "text": [
      "/Users/Frances/anaconda3/envs/rvr-env/lib/python3.6/site-packages/sklearn/linear_model/logistic.py:433: FutureWarning: Default solver will be changed to 'lbfgs' in 0.22. Specify a solver to silence this warning.\n",
      "  FutureWarning)\n"
     ]
    },
    {
     "data": {
      "text/plain": [
       "LogisticRegression(C=1.0, class_weight=None, dual=False, fit_intercept=True,\n",
       "          intercept_scaling=1, max_iter=100, multi_class='warn',\n",
       "          n_jobs=None, penalty='l2', random_state=None, solver='warn',\n",
       "          tol=0.0001, verbose=0, warm_start=False)"
      ]
     },
     "execution_count": 135,
     "metadata": {},
     "output_type": "execute_result"
    }
   ],
   "source": [
    "model1.fit(x_train[n:2*n, :], y_train[n:2*n, yidx])"
   ]
  },
  {
   "cell_type": "code",
   "execution_count": 122,
   "metadata": {},
   "outputs": [
    {
     "data": {
      "text/plain": [
       "array([[-1.90205686, -2.11447326,  1.18435923,  2.38442298,  0.20505874,\n",
       "         1.85896637, -2.05388745,  0.86693443, -0.16057707,  1.79444242,\n",
       "         1.98731217, -1.94583352, -0.80810388,  1.3910351 , -0.71486058,\n",
       "        -0.94698966,  1.90083443,  1.54730408,  1.77946153, -0.67011745,\n",
       "        -2.65849144, -2.30079529,  2.40014367, -0.67432477,  0.0581066 ,\n",
       "        -1.86042119,  0.59453224, -2.29017489,  1.21538008, -1.56699043]])"
      ]
     },
     "execution_count": 122,
     "metadata": {},
     "output_type": "execute_result"
    }
   ],
   "source": [
    "model1.coef_"
   ]
  },
  {
   "cell_type": "code",
   "execution_count": 136,
   "metadata": {},
   "outputs": [
    {
     "name": "stderr",
     "output_type": "stream",
     "text": [
      "/Users/Frances/anaconda3/envs/rvr-env/lib/python3.6/site-packages/sklearn/linear_model/logistic.py:433: FutureWarning: Default solver will be changed to 'lbfgs' in 0.22. Specify a solver to silence this warning.\n",
      "  FutureWarning)\n"
     ]
    },
    {
     "data": {
      "text/plain": [
       "LogisticRegression(C=1.0, class_weight=None, dual=False, fit_intercept=True,\n",
       "          intercept_scaling=1, max_iter=100, multi_class='warn',\n",
       "          n_jobs=None, penalty='l2', random_state=None, solver='warn',\n",
       "          tol=0.0001, verbose=0, warm_start=False)"
      ]
     },
     "execution_count": 136,
     "metadata": {},
     "output_type": "execute_result"
    }
   ],
   "source": [
    "model2=LogisticRegression()\n",
    "model2.fit(x_train[2*n:3*n, :], y_train[2*n:3*n, yidx])"
   ]
  },
  {
   "cell_type": "code",
   "execution_count": 137,
   "metadata": {},
   "outputs": [
    {
     "name": "stderr",
     "output_type": "stream",
     "text": [
      "/Users/Frances/anaconda3/envs/rvr-env/lib/python3.6/site-packages/sklearn/linear_model/logistic.py:433: FutureWarning: Default solver will be changed to 'lbfgs' in 0.22. Specify a solver to silence this warning.\n",
      "  FutureWarning)\n",
      "/Users/Frances/anaconda3/envs/rvr-env/lib/python3.6/site-packages/sklearn/linear_model/logistic.py:433: FutureWarning: Default solver will be changed to 'lbfgs' in 0.22. Specify a solver to silence this warning.\n",
      "  FutureWarning)\n"
     ]
    },
    {
     "data": {
      "text/plain": [
       "LogisticRegression(C=1.0, class_weight=None, dual=False, fit_intercept=True,\n",
       "          intercept_scaling=1, max_iter=100, multi_class='warn',\n",
       "          n_jobs=None, penalty='l2', random_state=None, solver='warn',\n",
       "          tol=0.0001, verbose=0, warm_start=False)"
      ]
     },
     "execution_count": 137,
     "metadata": {},
     "output_type": "execute_result"
    }
   ],
   "source": [
    "model3=LogisticRegression()\n",
    "model3.fit(x_train[3*n:4*n, :], y_train[3*n:4*n, yidx])\n",
    "\n",
    "model4=LogisticRegression()\n",
    "model4.fit(x_train[4*n:5*n, :], y_train[4*n:5*n, yidx])"
   ]
  },
  {
   "cell_type": "code",
   "execution_count": 138,
   "metadata": {},
   "outputs": [
    {
     "name": "stdout",
     "output_type": "stream",
     "text": [
      "0.9128\n"
     ]
    },
    {
     "data": {
      "text/plain": [
       "0.8942"
      ]
     },
     "execution_count": 138,
     "metadata": {},
     "output_type": "execute_result"
    }
   ],
   "source": [
    "print(model0.score(x_train[2*n:3*n, :], y_train[2*n:3*n, yidx]))\n",
    "model0.score(x_test, y_test[:,yidx])"
   ]
  },
  {
   "cell_type": "code",
   "execution_count": 140,
   "metadata": {},
   "outputs": [
    {
     "data": {
      "text/plain": [
       "0.9402"
      ]
     },
     "execution_count": 140,
     "metadata": {},
     "output_type": "execute_result"
    }
   ],
   "source": [
    "model1.score(x_test, y_test[:,yidx])"
   ]
  },
  {
   "cell_type": "code",
   "execution_count": 87,
   "metadata": {
    "collapsed": true
   },
   "outputs": [],
   "source": [
    "df = pd.DataFrame({'model0': model0.coef_[0], 'model1' : model1.coef_[0], 'model2': model2.coef_[0], 'model3': model3.coef_[0], 'model4': model4.coef_[0], 'modelall' : modelall.coef_[0]} )"
   ]
  },
  {
   "cell_type": "code",
   "execution_count": 29,
   "metadata": {},
   "outputs": [
    {
     "data": {
      "text/html": [
       "<div>\n",
       "<style scoped>\n",
       "    .dataframe tbody tr th:only-of-type {\n",
       "        vertical-align: middle;\n",
       "    }\n",
       "\n",
       "    .dataframe tbody tr th {\n",
       "        vertical-align: top;\n",
       "    }\n",
       "\n",
       "    .dataframe thead th {\n",
       "        text-align: right;\n",
       "    }\n",
       "</style>\n",
       "<table border=\"1\" class=\"dataframe\">\n",
       "  <thead>\n",
       "    <tr style=\"text-align: right;\">\n",
       "      <th></th>\n",
       "      <th>model0</th>\n",
       "      <th>model1</th>\n",
       "      <th>model2</th>\n",
       "      <th>model3</th>\n",
       "      <th>model4</th>\n",
       "      <th>modelall</th>\n",
       "    </tr>\n",
       "  </thead>\n",
       "  <tbody>\n",
       "    <tr>\n",
       "      <th>0</th>\n",
       "      <td>-2.157256</td>\n",
       "      <td>-1.265471</td>\n",
       "      <td>-2.986540</td>\n",
       "      <td>-1.033625</td>\n",
       "      <td>-1.413202</td>\n",
       "      <td>-0.517717</td>\n",
       "    </tr>\n",
       "    <tr>\n",
       "      <th>1</th>\n",
       "      <td>1.049493</td>\n",
       "      <td>1.186508</td>\n",
       "      <td>1.494112</td>\n",
       "      <td>1.184767</td>\n",
       "      <td>1.391719</td>\n",
       "      <td>0.443307</td>\n",
       "    </tr>\n",
       "    <tr>\n",
       "      <th>2</th>\n",
       "      <td>-0.913955</td>\n",
       "      <td>-0.976421</td>\n",
       "      <td>-1.112448</td>\n",
       "      <td>-0.751973</td>\n",
       "      <td>-0.947623</td>\n",
       "      <td>-0.289375</td>\n",
       "    </tr>\n",
       "    <tr>\n",
       "      <th>3</th>\n",
       "      <td>2.446023</td>\n",
       "      <td>2.056281</td>\n",
       "      <td>2.609376</td>\n",
       "      <td>2.015693</td>\n",
       "      <td>1.661778</td>\n",
       "      <td>0.802831</td>\n",
       "    </tr>\n",
       "    <tr>\n",
       "      <th>4</th>\n",
       "      <td>-1.922294</td>\n",
       "      <td>-2.343310</td>\n",
       "      <td>-1.646182</td>\n",
       "      <td>-2.160539</td>\n",
       "      <td>-1.417754</td>\n",
       "      <td>-0.357486</td>\n",
       "    </tr>\n",
       "    <tr>\n",
       "      <th>5</th>\n",
       "      <td>-1.877193</td>\n",
       "      <td>-1.985509</td>\n",
       "      <td>-1.540184</td>\n",
       "      <td>-2.676001</td>\n",
       "      <td>-1.370392</td>\n",
       "      <td>-0.660644</td>\n",
       "    </tr>\n",
       "    <tr>\n",
       "      <th>6</th>\n",
       "      <td>1.016347</td>\n",
       "      <td>1.050752</td>\n",
       "      <td>0.877578</td>\n",
       "      <td>1.059801</td>\n",
       "      <td>0.881783</td>\n",
       "      <td>0.315481</td>\n",
       "    </tr>\n",
       "    <tr>\n",
       "      <th>7</th>\n",
       "      <td>2.207220</td>\n",
       "      <td>0.599636</td>\n",
       "      <td>1.523612</td>\n",
       "      <td>1.026808</td>\n",
       "      <td>0.864944</td>\n",
       "      <td>0.412457</td>\n",
       "    </tr>\n",
       "    <tr>\n",
       "      <th>8</th>\n",
       "      <td>-0.243076</td>\n",
       "      <td>-1.635569</td>\n",
       "      <td>-1.098240</td>\n",
       "      <td>-1.924484</td>\n",
       "      <td>-1.894604</td>\n",
       "      <td>-0.732040</td>\n",
       "    </tr>\n",
       "    <tr>\n",
       "      <th>9</th>\n",
       "      <td>-1.824103</td>\n",
       "      <td>-1.940112</td>\n",
       "      <td>-2.107938</td>\n",
       "      <td>-1.907415</td>\n",
       "      <td>-1.940553</td>\n",
       "      <td>-0.699948</td>\n",
       "    </tr>\n",
       "    <tr>\n",
       "      <th>10</th>\n",
       "      <td>-2.383822</td>\n",
       "      <td>-2.208405</td>\n",
       "      <td>-1.167493</td>\n",
       "      <td>-0.419752</td>\n",
       "      <td>-1.710749</td>\n",
       "      <td>-0.570504</td>\n",
       "    </tr>\n",
       "    <tr>\n",
       "      <th>11</th>\n",
       "      <td>-1.682932</td>\n",
       "      <td>-0.679177</td>\n",
       "      <td>-0.603008</td>\n",
       "      <td>-1.665721</td>\n",
       "      <td>-0.572460</td>\n",
       "      <td>-0.312818</td>\n",
       "    </tr>\n",
       "    <tr>\n",
       "      <th>12</th>\n",
       "      <td>-0.473534</td>\n",
       "      <td>-0.680636</td>\n",
       "      <td>-0.654010</td>\n",
       "      <td>-0.442560</td>\n",
       "      <td>-0.766281</td>\n",
       "      <td>-0.292533</td>\n",
       "    </tr>\n",
       "    <tr>\n",
       "      <th>13</th>\n",
       "      <td>3.408405</td>\n",
       "      <td>3.212180</td>\n",
       "      <td>1.752316</td>\n",
       "      <td>1.904514</td>\n",
       "      <td>2.252874</td>\n",
       "      <td>0.744066</td>\n",
       "    </tr>\n",
       "    <tr>\n",
       "      <th>14</th>\n",
       "      <td>1.954324</td>\n",
       "      <td>1.990873</td>\n",
       "      <td>2.389426</td>\n",
       "      <td>2.087300</td>\n",
       "      <td>2.186550</td>\n",
       "      <td>0.796212</td>\n",
       "    </tr>\n",
       "    <tr>\n",
       "      <th>15</th>\n",
       "      <td>-1.281840</td>\n",
       "      <td>-1.508549</td>\n",
       "      <td>-1.783722</td>\n",
       "      <td>-1.627115</td>\n",
       "      <td>-1.671246</td>\n",
       "      <td>-0.678837</td>\n",
       "    </tr>\n",
       "    <tr>\n",
       "      <th>16</th>\n",
       "      <td>1.934185</td>\n",
       "      <td>2.288038</td>\n",
       "      <td>2.381226</td>\n",
       "      <td>2.256141</td>\n",
       "      <td>2.227727</td>\n",
       "      <td>0.869155</td>\n",
       "    </tr>\n",
       "    <tr>\n",
       "      <th>17</th>\n",
       "      <td>-0.417949</td>\n",
       "      <td>-0.259701</td>\n",
       "      <td>-0.829576</td>\n",
       "      <td>-0.511170</td>\n",
       "      <td>-0.823007</td>\n",
       "      <td>-0.495091</td>\n",
       "    </tr>\n",
       "    <tr>\n",
       "      <th>18</th>\n",
       "      <td>-1.237144</td>\n",
       "      <td>-1.351448</td>\n",
       "      <td>-1.393663</td>\n",
       "      <td>-1.200295</td>\n",
       "      <td>-1.244513</td>\n",
       "      <td>-0.288082</td>\n",
       "    </tr>\n",
       "    <tr>\n",
       "      <th>19</th>\n",
       "      <td>-1.105719</td>\n",
       "      <td>-1.169465</td>\n",
       "      <td>-1.646444</td>\n",
       "      <td>-1.398063</td>\n",
       "      <td>-1.410626</td>\n",
       "      <td>-0.568085</td>\n",
       "    </tr>\n",
       "    <tr>\n",
       "      <th>20</th>\n",
       "      <td>1.155392</td>\n",
       "      <td>1.615917</td>\n",
       "      <td>1.352153</td>\n",
       "      <td>1.537629</td>\n",
       "      <td>1.137328</td>\n",
       "      <td>0.354503</td>\n",
       "    </tr>\n",
       "    <tr>\n",
       "      <th>21</th>\n",
       "      <td>1.710973</td>\n",
       "      <td>1.608494</td>\n",
       "      <td>1.735613</td>\n",
       "      <td>1.412366</td>\n",
       "      <td>1.639462</td>\n",
       "      <td>0.427040</td>\n",
       "    </tr>\n",
       "    <tr>\n",
       "      <th>22</th>\n",
       "      <td>0.037873</td>\n",
       "      <td>0.258398</td>\n",
       "      <td>0.115593</td>\n",
       "      <td>0.197402</td>\n",
       "      <td>0.099541</td>\n",
       "      <td>0.059584</td>\n",
       "    </tr>\n",
       "    <tr>\n",
       "      <th>23</th>\n",
       "      <td>0.352728</td>\n",
       "      <td>0.094512</td>\n",
       "      <td>0.571540</td>\n",
       "      <td>0.074167</td>\n",
       "      <td>0.494420</td>\n",
       "      <td>0.202440</td>\n",
       "    </tr>\n",
       "    <tr>\n",
       "      <th>24</th>\n",
       "      <td>0.513807</td>\n",
       "      <td>-0.513069</td>\n",
       "      <td>-1.137620</td>\n",
       "      <td>0.046312</td>\n",
       "      <td>-1.036968</td>\n",
       "      <td>-0.358975</td>\n",
       "    </tr>\n",
       "    <tr>\n",
       "      <th>25</th>\n",
       "      <td>1.783294</td>\n",
       "      <td>2.595278</td>\n",
       "      <td>1.919843</td>\n",
       "      <td>2.280223</td>\n",
       "      <td>1.911105</td>\n",
       "      <td>0.674463</td>\n",
       "    </tr>\n",
       "    <tr>\n",
       "      <th>26</th>\n",
       "      <td>2.475942</td>\n",
       "      <td>2.878759</td>\n",
       "      <td>2.538366</td>\n",
       "      <td>2.712320</td>\n",
       "      <td>2.301237</td>\n",
       "      <td>0.760306</td>\n",
       "    </tr>\n",
       "    <tr>\n",
       "      <th>27</th>\n",
       "      <td>-1.703904</td>\n",
       "      <td>-2.288160</td>\n",
       "      <td>-1.986771</td>\n",
       "      <td>-2.621254</td>\n",
       "      <td>-1.842226</td>\n",
       "      <td>-0.800346</td>\n",
       "    </tr>\n",
       "    <tr>\n",
       "      <th>28</th>\n",
       "      <td>1.266376</td>\n",
       "      <td>-0.325488</td>\n",
       "      <td>0.875276</td>\n",
       "      <td>1.601524</td>\n",
       "      <td>0.022912</td>\n",
       "      <td>0.456415</td>\n",
       "    </tr>\n",
       "    <tr>\n",
       "      <th>29</th>\n",
       "      <td>0.334030</td>\n",
       "      <td>0.784628</td>\n",
       "      <td>0.548734</td>\n",
       "      <td>0.341139</td>\n",
       "      <td>0.413898</td>\n",
       "      <td>0.067418</td>\n",
       "    </tr>\n",
       "  </tbody>\n",
       "</table>\n",
       "</div>"
      ],
      "text/plain": [
       "      model0    model1    model2    model3    model4  modelall\n",
       "0  -2.157256 -1.265471 -2.986540 -1.033625 -1.413202 -0.517717\n",
       "1   1.049493  1.186508  1.494112  1.184767  1.391719  0.443307\n",
       "2  -0.913955 -0.976421 -1.112448 -0.751973 -0.947623 -0.289375\n",
       "3   2.446023  2.056281  2.609376  2.015693  1.661778  0.802831\n",
       "4  -1.922294 -2.343310 -1.646182 -2.160539 -1.417754 -0.357486\n",
       "5  -1.877193 -1.985509 -1.540184 -2.676001 -1.370392 -0.660644\n",
       "6   1.016347  1.050752  0.877578  1.059801  0.881783  0.315481\n",
       "7   2.207220  0.599636  1.523612  1.026808  0.864944  0.412457\n",
       "8  -0.243076 -1.635569 -1.098240 -1.924484 -1.894604 -0.732040\n",
       "9  -1.824103 -1.940112 -2.107938 -1.907415 -1.940553 -0.699948\n",
       "10 -2.383822 -2.208405 -1.167493 -0.419752 -1.710749 -0.570504\n",
       "11 -1.682932 -0.679177 -0.603008 -1.665721 -0.572460 -0.312818\n",
       "12 -0.473534 -0.680636 -0.654010 -0.442560 -0.766281 -0.292533\n",
       "13  3.408405  3.212180  1.752316  1.904514  2.252874  0.744066\n",
       "14  1.954324  1.990873  2.389426  2.087300  2.186550  0.796212\n",
       "15 -1.281840 -1.508549 -1.783722 -1.627115 -1.671246 -0.678837\n",
       "16  1.934185  2.288038  2.381226  2.256141  2.227727  0.869155\n",
       "17 -0.417949 -0.259701 -0.829576 -0.511170 -0.823007 -0.495091\n",
       "18 -1.237144 -1.351448 -1.393663 -1.200295 -1.244513 -0.288082\n",
       "19 -1.105719 -1.169465 -1.646444 -1.398063 -1.410626 -0.568085\n",
       "20  1.155392  1.615917  1.352153  1.537629  1.137328  0.354503\n",
       "21  1.710973  1.608494  1.735613  1.412366  1.639462  0.427040\n",
       "22  0.037873  0.258398  0.115593  0.197402  0.099541  0.059584\n",
       "23  0.352728  0.094512  0.571540  0.074167  0.494420  0.202440\n",
       "24  0.513807 -0.513069 -1.137620  0.046312 -1.036968 -0.358975\n",
       "25  1.783294  2.595278  1.919843  2.280223  1.911105  0.674463\n",
       "26  2.475942  2.878759  2.538366  2.712320  2.301237  0.760306\n",
       "27 -1.703904 -2.288160 -1.986771 -2.621254 -1.842226 -0.800346\n",
       "28  1.266376 -0.325488  0.875276  1.601524  0.022912  0.456415\n",
       "29  0.334030  0.784628  0.548734  0.341139  0.413898  0.067418"
      ]
     },
     "execution_count": 29,
     "metadata": {},
     "output_type": "execute_result"
    }
   ],
   "source": [
    "df"
   ]
  },
  {
   "cell_type": "code",
   "execution_count": null,
   "metadata": {
    "collapsed": true
   },
   "outputs": [],
   "source": [
    "0\n",
    "3?\n",
    "4\n",
    "5?\n",
    "7\n",
    "8\n",
    "10\n",
    "11\n",
    "13\n",
    "17?\n",
    "23?\n",
    "24\n",
    "25?\n",
    "28\n"
   ]
  },
  {
   "cell_type": "code",
   "execution_count": 105,
   "metadata": {
    "collapsed": true
   },
   "outputs": [],
   "source": [
    "#newx = x_train[:, [1,2,6,9,12,14,15,16,18,19,20,21,22,26,27,29] ] #  [1,2,3, 5, 6,9,12,14,15,16,17, 18,19,20,21,22,23, 25, 26,27,29]\n",
    "\n",
    "commons_in_r = [1,3,6,7,8,11,12,13,15,16,17,18,19,22,23,24,26,28,29,30]\n",
    "commons = [x - 1 for x in commons_in_r]\n",
    "\n",
    "newx = x_train[:, commons]"
   ]
  },
  {
   "cell_type": "code",
   "execution_count": 144,
   "metadata": {},
   "outputs": [
    {
     "name": "stderr",
     "output_type": "stream",
     "text": [
      "/Users/Frances/anaconda3/envs/rvr-env/lib/python3.6/site-packages/sklearn/linear_model/logistic.py:433: FutureWarning: Default solver will be changed to 'lbfgs' in 0.22. Specify a solver to silence this warning.\n",
      "  FutureWarning)\n"
     ]
    },
    {
     "data": {
      "text/plain": [
       "LogisticRegression(C=1.0, class_weight=None, dual=False, fit_intercept=True,\n",
       "          intercept_scaling=1, max_iter=100, multi_class='warn',\n",
       "          n_jobs=None, penalty='l2', random_state=None, solver='warn',\n",
       "          tol=0.0001, verbose=0, warm_start=False)"
      ]
     },
     "execution_count": 144,
     "metadata": {},
     "output_type": "execute_result"
    }
   ],
   "source": [
    "testm = LogisticRegression()\n",
    "testm.fit(newx, y_train[:,yidx])"
   ]
  },
  {
   "cell_type": "code",
   "execution_count": 107,
   "metadata": {
    "collapsed": true
   },
   "outputs": [],
   "source": [
    "#newtestx = x_test[:, [1,2,6,9,12,14,15,16,18,19,20,21,22,26,27,29]]\n",
    "newtestx = x_test[:, commons]"
   ]
  },
  {
   "cell_type": "code",
   "execution_count": 145,
   "metadata": {},
   "outputs": [
    {
     "data": {
      "text/plain": [
       "0.8634"
      ]
     },
     "execution_count": 145,
     "metadata": {},
     "output_type": "execute_result"
    }
   ],
   "source": [
    "testm.score(newtestx, y_test[:, yidx])"
   ]
  },
  {
   "cell_type": "code",
   "execution_count": 48,
   "metadata": {},
   "outputs": [
    {
     "data": {
      "text/plain": [
       "3.1283603466930456"
      ]
     },
     "execution_count": 48,
     "metadata": {},
     "output_type": "execute_result"
    }
   ],
   "source": [
    "np.sum(model0.coef_[0, [1,2,6,9,12,14,15,16,18,19,20,21,22,26,27,29] ])"
   ]
  },
  {
   "cell_type": "code",
   "execution_count": 50,
   "metadata": {},
   "outputs": [
    {
     "data": {
      "text/plain": [
       "1.293329694872702"
      ]
     },
     "execution_count": 50,
     "metadata": {},
     "output_type": "execute_result"
    }
   ],
   "source": [
    "np.sum(model0.coef_[0, [0, 3 ,4,5,7,8,10,11,13,17,23,24,25,28] ])"
   ]
  },
  {
   "cell_type": "code",
   "execution_count": 146,
   "metadata": {},
   "outputs": [
    {
     "name": "stdout",
     "output_type": "stream",
     "text": [
      "1 0.6279396831206886\n",
      "2 0.5254375154620301\n",
      "3 -0.42717525120720645\n",
      "4 -0.7810646533477356\n",
      "5 -0.17737257779438756\n",
      "6 -0.9567401650638161\n",
      "7 0.8339878789359058\n",
      "8 -0.324242032112478\n",
      "9 0.20804226721294808\n",
      "10 -0.8067515705468277\n",
      "11 -0.5358812373482886\n",
      "12 0.5033566472796729\n",
      "13 0.45295785307660785\n",
      "14 -0.19867034171365408\n",
      "15 0.2633784060918376\n",
      "16 0.4733869391639459\n",
      "17 -0.5773601593710653\n",
      "18 -0.6780124417691262\n",
      "19 -0.7806454857223932\n",
      "20 0.47369716813376184\n",
      "21 0.6036914651443545\n",
      "22 0.7246702398252867\n",
      "23 -0.6437538450378665\n",
      "24 0.2625302279575319\n",
      "25 -0.2435986607435295\n",
      "26 0.5371255625242419\n",
      "27 -0.3243844104376237\n",
      "28 0.7777298664477355\n",
      "29 -0.5365463661966251\n",
      "30 0.46764856756716033\n"
     ]
    }
   ],
   "source": [
    "for i in range(30):\n",
    "    print(i+1, modelall.coef_[0][i])"
   ]
  },
  {
   "cell_type": "markdown",
   "metadata": {
    "collapsed": true
   },
   "source": [
    "# Exploring the data"
   ]
  },
  {
   "cell_type": "code",
   "execution_count": 10,
   "metadata": {},
   "outputs": [
    {
     "data": {
      "text/plain": [
       "(array([1937.,  511.,  341.,  325.,  314.,  365.,  281.,  393.,  339.,\n",
       "         194.]),\n",
       " array([ 2.78844812,  3.9119802 ,  5.03551229,  6.15904438,  7.28257646,\n",
       "         8.40610855,  9.52964064, 10.65317272, 11.77670481, 12.9002369 ,\n",
       "        14.02376898]),\n",
       " <a list of 10 Patch objects>)"
      ]
     },
     "execution_count": 10,
     "metadata": {},
     "output_type": "execute_result"
    },
    {
     "data": {
      "image/png": "[encoded data removed]",
      "text/plain": [
       "<Figure size 432x288 with 1 Axes>"
      ]
     },
     "metadata": {
      "needs_background": "light"
     },
     "output_type": "display_data"
    }
   ],
   "source": [
    "plt.hist(x_test[:,0])"
   ]
  },
  {
   "cell_type": "code",
   "execution_count": 12,
   "metadata": {},
   "outputs": [
    {
     "data": {
      "text/plain": [
       "(array([3758., 1627.,  582.,  574.,  866.,  876.,  931., 1848.,  826.,\n",
       "         112.]),\n",
       " array([ 1.07725231,  2.3058974 ,  3.5345425 ,  4.76318759,  5.99183268,\n",
       "         7.22047777,  8.44912286,  9.67776795, 10.90641304, 12.13505813,\n",
       "        13.36370322]),\n",
       " <a list of 10 Patch objects>)"
      ]
     },
     "execution_count": 12,
     "metadata": {},
     "output_type": "execute_result"
    },
    {
     "data": {
      "image/png": "[encoded data removed]",
      "text/plain": [
       "<Figure size 432x288 with 1 Axes>"
      ]
     },
     "metadata": {
      "needs_background": "light"
     },
     "output_type": "display_data"
    }
   ],
   "source": [
    "plt.hist(x_train[:,0])"
   ]
  },
  {
   "cell_type": "code",
   "execution_count": 13,
   "metadata": {},
   "outputs": [
    {
     "data": {
      "text/plain": [
       "(array([3423.,  190.,   88.,   49.,  164.,  231.,  260.,   69.,  331.,\n",
       "         195.]),\n",
       " array([ 2.25064189,  3.45010701,  4.64957213,  5.84903725,  7.04850237,\n",
       "         8.24796749,  9.44743261, 10.64689772, 11.84636284, 13.04582796,\n",
       "        14.24529308]),\n",
       " <a list of 10 Patch objects>)"
      ]
     },
     "execution_count": 13,
     "metadata": {},
     "output_type": "execute_result"
    },
    {
     "data": {
      "image/png": "[encoded data removed]",
      "text/plain": [
       "<Figure size 432x288 with 1 Axes>"
      ]
     },
     "metadata": {
      "needs_background": "light"
     },
     "output_type": "display_data"
    }
   ],
   "source": [
    "plt.hist(x_test[:,1])"
   ]
  },
  {
   "cell_type": "code",
   "execution_count": 15,
   "metadata": {},
   "outputs": [
    {
     "data": {
      "text/plain": [
       "(array([533., 120., 274., 275.,  82.,  52., 362., 272.,  20.,  10.]),\n",
       " array([ 1.3874352 ,  2.67415575,  3.96087631,  5.24759686,  6.53431741,\n",
       "         7.82103796,  9.10775851, 10.39447907, 11.68119962, 12.96792017,\n",
       "        14.25464072]),\n",
       " <a list of 10 Patch objects>)"
      ]
     },
     "execution_count": 15,
     "metadata": {},
     "output_type": "execute_result"
    },
    {
     "data": {
      "image/png": "[encoded data removed]",
      "text/plain": [
       "<Figure size 432x288 with 1 Axes>"
      ]
     },
     "metadata": {
      "needs_background": "light"
     },
     "output_type": "display_data"
    }
   ],
   "source": [
    "plt.hist(x_train[10000:,1])"
   ]
  },
  {
   "cell_type": "code",
   "execution_count": 16,
   "metadata": {},
   "outputs": [
    {
     "data": {
      "text/plain": [
       "(array([2687.,  643., 1395., 1285.,  379.,  299., 1802., 1384.,   89.,\n",
       "          37.]),\n",
       " array([ 1.3874352 ,  2.67415575,  3.96087631,  5.24759686,  6.53431741,\n",
       "         7.82103796,  9.10775851, 10.39447907, 11.68119962, 12.96792017,\n",
       "        14.25464072]),\n",
       " <a list of 10 Patch objects>)"
      ]
     },
     "execution_count": 16,
     "metadata": {},
     "output_type": "execute_result"
    },
    {
     "data": {
      "image/png": "[encoded data removed]",
      "text/plain": [
       "<Figure size 432x288 with 1 Axes>"
      ]
     },
     "metadata": {
      "needs_background": "light"
     },
     "output_type": "display_data"
    }
   ],
   "source": [
    "plt.hist(x_train[:10000,1])"
   ]
  },
  {
   "cell_type": "code",
   "execution_count": 17,
   "metadata": {},
   "outputs": [
    {
     "data": {
      "text/plain": [
       "(array([3124., 1361.,  471.,  490.,  728.,  725.,  770., 1554.,  682.,\n",
       "          95.]),\n",
       " array([ 1.07725231,  2.3058974 ,  3.5345425 ,  4.76318759,  5.99183268,\n",
       "         7.22047777,  8.44912286,  9.67776795, 10.90641304, 12.13505813,\n",
       "        13.36370322]),\n",
       " <a list of 10 Patch objects>)"
      ]
     },
     "execution_count": 17,
     "metadata": {},
     "output_type": "execute_result"
    },
    {
     "data": {
      "image/png": "[encoded data removed]",
      "text/plain": [
       "<Figure size 432x288 with 1 Axes>"
      ]
     },
     "metadata": {
      "needs_background": "light"
     },
     "output_type": "display_data"
    }
   ],
   "source": [
    "plt.hist(x_train[:10000,0])"
   ]
  },
  {
   "cell_type": "code",
   "execution_count": 18,
   "metadata": {},
   "outputs": [
    {
     "data": {
      "text/plain": [
       "(array([533., 120., 274., 275.,  82.,  52., 362., 272.,  20.,  10.]),\n",
       " array([ 1.3874352 ,  2.67415575,  3.96087631,  5.24759686,  6.53431741,\n",
       "         7.82103796,  9.10775851, 10.39447907, 11.68119962, 12.96792017,\n",
       "        14.25464072]),\n",
       " <a list of 10 Patch objects>)"
      ]
     },
     "execution_count": 18,
     "metadata": {},
     "output_type": "execute_result"
    },
    {
     "data": {
      "image/png": "[encoded data removed]",
      "text/plain": [
       "<Figure size 432x288 with 1 Axes>"
      ]
     },
     "metadata": {
      "needs_background": "light"
     },
     "output_type": "display_data"
    }
   ],
   "source": [
    "plt.hist(x_train[10000:,1])"
   ]
  },
  {
   "cell_type": "code",
   "execution_count": 19,
   "metadata": {},
   "outputs": [
    {
     "data": {
      "text/plain": [
       "(array([1784., 1028., 1258.,  577.,  286.,  240.,  286., 1513., 2858.,\n",
       "         170.]),\n",
       " array([ 0.7548875 ,  1.91271449,  3.07054149,  4.22836848,  5.38619547,\n",
       "         6.54402246,  7.70184946,  8.85967645, 10.01750344, 11.17533043,\n",
       "        12.33315742]),\n",
       " <a list of 10 Patch objects>)"
      ]
     },
     "execution_count": 19,
     "metadata": {},
     "output_type": "execute_result"
    },
    {
     "data": {
      "image/png": "[encoded data removed]",
      "text/plain": [
       "<Figure size 432x288 with 1 Axes>"
      ]
     },
     "metadata": {
      "needs_background": "light"
     },
     "output_type": "display_data"
    }
   ],
   "source": [
    "plt.hist(x_train[:10000,2])"
   ]
  },
  {
   "cell_type": "code",
   "execution_count": 20,
   "metadata": {},
   "outputs": [
    {
     "data": {
      "text/plain": [
       "(array([359., 209., 259., 137.,  46.,  38.,  56., 294., 566.,  36.]),\n",
       " array([ 0.7548875 ,  1.91271449,  3.07054149,  4.22836848,  5.38619547,\n",
       "         6.54402246,  7.70184946,  8.85967645, 10.01750344, 11.17533043,\n",
       "        12.33315742]),\n",
       " <a list of 10 Patch objects>)"
      ]
     },
     "execution_count": 20,
     "metadata": {},
     "output_type": "execute_result"
    },
    {
     "data": {
      "image/png": "[encoded data removed]",
      "text/plain": [
       "<Figure size 432x288 with 1 Axes>"
      ]
     },
     "metadata": {
      "needs_background": "light"
     },
     "output_type": "display_data"
    }
   ],
   "source": [
    "plt.hist(x_train[10000:,2])"
   ]
  },
  {
   "cell_type": "code",
   "execution_count": 21,
   "metadata": {},
   "outputs": [
    {
     "data": {
      "text/plain": [
       "0.5"
      ]
     },
     "execution_count": 21,
     "metadata": {},
     "output_type": "execute_result"
    }
   ],
   "source": [
    "np.mean(y_test)"
   ]
  },
  {
   "cell_type": "code",
   "execution_count": 28,
   "metadata": {},
   "outputs": [
    {
     "data": {
      "text/plain": [
       "array([0.328 , 0.3304, 0.3416])"
      ]
     },
     "execution_count": 28,
     "metadata": {},
     "output_type": "execute_result"
    }
   ],
   "source": [
    "np.mean(attr_train[:5000], axis=0)"
   ]
  },
  {
   "cell_type": "code",
   "execution_count": 30,
   "metadata": {},
   "outputs": [
    {
     "data": {
      "text/plain": [
       "array([0.335 , 0.3332, 0.3318])"
      ]
     },
     "execution_count": 30,
     "metadata": {},
     "output_type": "execute_result"
    }
   ],
   "source": [
    "np.mean(attr_train[5000:10000], axis=0)"
   ]
  },
  {
   "cell_type": "code",
   "execution_count": 29,
   "metadata": {},
   "outputs": [
    {
     "data": {
      "text/plain": [
       "array([0.342, 0.327, 0.331])"
      ]
     },
     "execution_count": 29,
     "metadata": {},
     "output_type": "execute_result"
    }
   ],
   "source": [
    "np.mean(attr_train[10000:], axis=0)"
   ]
  },
  {
   "cell_type": "code",
   "execution_count": 27,
   "metadata": {},
   "outputs": [
    {
     "data": {
      "text/plain": [
       "array([[1., 0., 0.],\n",
       "       [0., 1., 0.],\n",
       "       [1., 0., 0.],\n",
       "       ...,\n",
       "       [1., 0., 0.],\n",
       "       [0., 0., 1.],\n",
       "       [0., 1., 0.]])"
      ]
     },
     "execution_count": 27,
     "metadata": {},
     "output_type": "execute_result"
    }
   ],
   "source": [
    "attr_train[:5000]"
   ]
  },
  {
   "cell_type": "code",
   "execution_count": 32,
   "metadata": {},
   "outputs": [],
   "source": [
    "data = np.load('/Users/Frances/Documents/seas-fellowship/rvr/data/bcesets/bcenew.npz')"
   ]
  },
  {
   "cell_type": "code",
   "execution_count": 36,
   "metadata": {},
   "outputs": [
    {
     "data": {
      "text/plain": [
       "array([[1., 0., 0.],\n",
       "       [0., 1., 0.],\n",
       "       [1., 0., 0.],\n",
       "       ...,\n",
       "       [0., 1., 0.],\n",
       "       [0., 1., 0.],\n",
       "       [0., 0., 1.]])"
      ]
     },
     "execution_count": 36,
     "metadata": {},
     "output_type": "execute_result"
    }
   ],
   "source": [
    "attr_train"
   ]
  },
  {
   "cell_type": "code",
   "execution_count": 38,
   "metadata": {},
   "outputs": [],
   "source": [
    "idx1 = []\n",
    "idx2 = []\n",
    "idx3 = []\n",
    "\n",
    "for i in range(attr_train.shape[0]):\n",
    "    if attr_train[i][0] == 1:\n",
    "        idx1.append(i)\n",
    "    elif attr_train[i][1] == 1:\n",
    "        idx2.append(i)\n",
    "    elif attr_train[i][2] == 1:\n",
    "        idx3.append(i)"
   ]
  },
  {
   "cell_type": "code",
   "execution_count": 39,
   "metadata": {},
   "outputs": [
    {
     "data": {
      "text/plain": [
       "3999"
      ]
     },
     "execution_count": 39,
     "metadata": {},
     "output_type": "execute_result"
    }
   ],
   "source": [
    "len(idx1)"
   ]
  },
  {
   "cell_type": "code",
   "execution_count": 40,
   "metadata": {},
   "outputs": [
    {
     "data": {
      "text/plain": [
       "3972"
      ]
     },
     "execution_count": 40,
     "metadata": {},
     "output_type": "execute_result"
    }
   ],
   "source": [
    "len(idx2)"
   ]
  },
  {
   "cell_type": "code",
   "execution_count": 41,
   "metadata": {},
   "outputs": [
    {
     "data": {
      "text/plain": [
       "4029"
      ]
     },
     "execution_count": 41,
     "metadata": {},
     "output_type": "execute_result"
    }
   ],
   "source": [
    "len(idx3)"
   ]
  },
  {
   "cell_type": "code",
   "execution_count": 48,
   "metadata": {},
   "outputs": [],
   "source": [
    "x_train_sub1 = x_train[idx1, :]\n",
    "x_train_sub2 = x_train[idx2, :]\n",
    "x_train_sub3 = x_train[idx3, :]"
   ]
  },
  {
   "cell_type": "code",
   "execution_count": 50,
   "metadata": {},
   "outputs": [
    {
     "data": {
      "text/plain": [
       "(4029, 356)"
      ]
     },
     "execution_count": 50,
     "metadata": {},
     "output_type": "execute_result"
    }
   ],
   "source": [
    "x_train_sub3.shape"
   ]
  },
  {
   "cell_type": "code",
   "execution_count": 51,
   "metadata": {},
   "outputs": [],
   "source": [
    "y_train_sub1 = y_train[idx1, :]\n",
    "y_train_sub2 = y_train[idx2, :]\n",
    "y_train_sub3 = y_train[idx3, :]"
   ]
  },
  {
   "cell_type": "code",
   "execution_count": 85,
   "metadata": {},
   "outputs": [],
   "source": [
    "attr_train_sub1 = np.concatenate((np.ones((3999, 1)), np.zeros((3999, 2))), axis=1)\n",
    "attr_train_sub2 = np.concatenate((np.zeros((3972, 1)), np.ones((3972, 1)), np.zeros((3972, 1))), axis=1)\n",
    "attr_train_sub3 = np.concatenate((np.zeros((4029, 2)), np.ones((4029, 1))), axis=1)\n",
    "attr_train_sub3\n",
    "attr_train_subtest = np.concatenate((np.zeros((5000, 2)), np.ones((5000, 1))), axis=1)"
   ]
  },
  {
   "cell_type": "code",
   "execution_count": 70,
   "metadata": {},
   "outputs": [
    {
     "data": {
      "text/plain": [
       "(12971, 356)"
      ]
     },
     "execution_count": 70,
     "metadata": {},
     "output_type": "execute_result"
    }
   ],
   "source": [
    "x_train_new = np.concatenate((x_train_sub1, x_train_sub2, x_test), axis=0)\n",
    "x_train_new.shape"
   ]
  },
  {
   "cell_type": "code",
   "execution_count": 71,
   "metadata": {},
   "outputs": [
    {
     "data": {
      "text/plain": [
       "(12971, 2)"
      ]
     },
     "execution_count": 71,
     "metadata": {},
     "output_type": "execute_result"
    }
   ],
   "source": [
    "y_train_new = np.concatenate((y_train_sub1, y_train_sub2, y_test), axis=0)\n",
    "y_train_new.shape"
   ]
  },
  {
   "cell_type": "code",
   "execution_count": 87,
   "metadata": {},
   "outputs": [
    {
     "name": "stdout",
     "output_type": "stream",
     "text": [
      "(12971, 3)\n",
      "(4029, 3)\n"
     ]
    }
   ],
   "source": [
    "attr_train_new = np.concatenate((attr_train_sub1, attr_train_sub2, attr_train_subtest), axis=0)\n",
    "print(attr_train_new.shape)\n",
    "print(attr_train_sub3.shape)"
   ]
  },
  {
   "cell_type": "code",
   "execution_count": 73,
   "metadata": {},
   "outputs": [
    {
     "data": {
      "text/plain": [
       "array([[1., 0., 0.],\n",
       "       [1., 0., 0.],\n",
       "       [1., 0., 0.],\n",
       "       ...,\n",
       "       [1., 0., 0.],\n",
       "       [1., 0., 0.],\n",
       "       [1., 0., 0.]])"
      ]
     },
     "execution_count": 73,
     "metadata": {},
     "output_type": "execute_result"
    }
   ],
   "source": [
    "attr_train_new"
   ]
  },
  {
   "cell_type": "code",
   "execution_count": 75,
   "metadata": {},
   "outputs": [],
   "source": [
    "randperm = np.random.permutation(12971)"
   ]
  },
  {
   "cell_type": "code",
   "execution_count": 88,
   "metadata": {},
   "outputs": [],
   "source": [
    "np.savez('../../data/bcesets/bcesets_test_to_001_REAL.npz', x_train=x_train_new, x_test=x_train_sub3, \n",
    "         y_train=y_train_new, y_test=y_train_sub3, attr_train=attr_train_new, attr_test=attr_train_sub3,\n",
    "        train_inds=randperm[:9000], valid_inds=randperm[9000:])"
   ]
  },
  {
   "cell_type": "code",
   "execution_count": 80,
   "metadata": {},
   "outputs": [
    {
     "data": {
      "text/plain": [
       "(9000,)"
      ]
     },
     "execution_count": 80,
     "metadata": {},
     "output_type": "execute_result"
    }
   ],
   "source": [
    "randperm[:9000].shape"
   ]
  },
  {
   "cell_type": "code",
   "execution_count": 78,
   "metadata": {},
   "outputs": [
    {
     "data": {
      "text/plain": [
       "(3000,)"
      ]
     },
     "execution_count": 78,
     "metadata": {},
     "output_type": "execute_result"
    }
   ],
   "source": [
    "data['valid_inds'].shape"
   ]
  },
  {
   "cell_type": "code",
   "execution_count": 82,
   "metadata": {},
   "outputs": [
    {
     "data": {
      "text/plain": [
       "array([ 9586,  3484, 10247, ...,  7818,  9063, 12081])"
      ]
     },
     "execution_count": 82,
     "metadata": {},
     "output_type": "execute_result"
    }
   ],
   "source": [
    "randperm"
   ]
  },
  {
   "cell_type": "code",
   "execution_count": 83,
   "metadata": {},
   "outputs": [
    {
     "data": {
      "text/plain": [
       "12970"
      ]
     },
     "execution_count": 83,
     "metadata": {},
     "output_type": "execute_result"
    }
   ],
   "source": [
    "np.max(randperm)"
   ]
  },
  {
   "cell_type": "code",
   "execution_count": 84,
   "metadata": {},
   "outputs": [
    {
     "data": {
      "text/plain": [
       "(5000, 356)"
      ]
     },
     "execution_count": 84,
     "metadata": {},
     "output_type": "execute_result"
    }
   ],
   "source": [
    "x_test.shape"
   ]
  },
  {
   "cell_type": "code",
   "execution_count": null,
   "metadata": {},
   "outputs": [],
   "source": []
  }
 ],
 "metadata": {
  "kernelspec": {
   "display_name": "Python 3",
   "language": "python",
   "name": "python3"
  },
  "language_info": {
   "codemirror_mode": {
    "name": "ipython",
    "version": 3
   },
   "file_extension": ".py",
   "mimetype": "text/x-python",
   "name": "python",
   "nbconvert_exporter": "python",
   "pygments_lexer": "ipython3",
   "version": "3.6.7"
  }
 },
 "nbformat": 4,
 "nbformat_minor": 2
}
